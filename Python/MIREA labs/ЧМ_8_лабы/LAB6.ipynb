{
 "cells": [
  {
   "cell_type": "code",
   "execution_count": 2,
   "metadata": {},
   "outputs": [
    {
     "data": {
      "image/png": "[encoded data removed]",
      "text/plain": [
       "<Figure size 432x288 with 1 Axes>"
      ]
     },
     "metadata": {
      "needs_background": "light"
     },
     "output_type": "display_data"
    }
   ],
   "source": [
    "import sympy as sym\n",
    "import numpy as np\n",
    "import matplotlib.pyplot as plt\n",
    "\n",
    "# Initial data\n",
    "a = 0\n",
    "b = 1\n",
    "x = sym.symbols('x')\n",
    "t = sym.symbols('t')\n",
    "K = x * t ** 2\n",
    "f = 1 + 0 * x\n",
    "n = 50\n",
    "h = (b - a) / n\n",
    "\n",
    "u_app = np.zeros(n + 1)\n",
    "\n",
    "\n",
    "def draw_u(x, u):\n",
    "    plt.grid(True)\n",
    "    plt.plot(x, u)\n",
    "    plt.show()\n",
    "\n",
    "\n",
    "def create_u(u, K, f):\n",
    "    x_array = [(h*i + a) for i in range(n + 1)]\n",
    "    wj = 1\n",
    "    A = np.zeros((n + 1, n + 1))\n",
    "    B = np.zeros(n + 1)\n",
    "\n",
    "    for i in range(n + 1):\n",
    "        for j in range(n + 1):\n",
    "            A[i][j] = -h * wj * K.subs([(x, x_array[i]), (t, x_array[j])])\n",
    "        A[i][i] = A[i][i] + 1\n",
    "    for j in range(n + 1):\n",
    "        B[j] = f.subs(x, x_array[j])\n",
    "    A_inverse = np.linalg.inv(A)\n",
    "    u = B.dot(A_inverse)\n",
    "\n",
    "#     print(np.around(u, 3))\n",
    "    draw_u(x_array, u)\n",
    "\n",
    "\n",
    "create_u(u_app, K, f)"
   ]
  },
  {
   "cell_type": "code",
   "execution_count": null,
   "metadata": {
    "collapsed": true
   },
   "outputs": [],
   "source": []
  }
 ],
 "metadata": {
  "kernelspec": {
   "display_name": "Python 3",
   "language": "python",
   "name": "python3"
  },
  "language_info": {
   "codemirror_mode": {
    "name": "ipython",
    "version": 3
   },
   "file_extension": ".py",
   "mimetype": "text/x-python",
   "name": "python",
   "nbconvert_exporter": "python",
   "pygments_lexer": "ipython3",
   "version": "3.6.3"
  }
 },
 "nbformat": 4,
 "nbformat_minor": 2
}
