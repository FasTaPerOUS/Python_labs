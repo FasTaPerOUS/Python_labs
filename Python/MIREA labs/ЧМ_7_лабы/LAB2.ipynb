{
 "cells": [
  {
   "cell_type": "code",
   "execution_count": 13,
   "metadata": {
    "collapsed": true
   },
   "outputs": [],
   "source": [
    "import sympy\n",
    "import math\n",
    "import matplotlib.pyplot as plt\n",
    "x = sympy.symbols('x')\n",
    "y = sympy.symbols('y')\n",
    "func = -y / x - x**2\n",
    "y1 = 0.75\n",
    "startX = 0.4\n",
    "finishX = 1"
   ]
  },
  {
   "cell_type": "code",
   "execution_count": 14,
   "metadata": {
    "collapsed": true
   },
   "outputs": [],
   "source": [
    "def graphic(a, b):\n",
    "    plt.grid(True)\n",
    "    plt.plot(a[0], a[1], color = 'red')\n",
    "    plt.plot(b[0], b[1], color = 'black')\n",
    "    plt.show()"
   ]
  },
  {
   "cell_type": "code",
   "execution_count": 15,
   "metadata": {
    "collapsed": true
   },
   "outputs": [],
   "source": [
    "def rungeKutta(h):\n",
    "    arrayX = [startX]\n",
    "    arrayY = [y1]\n",
    "    while(arrayX[-1] <= finishX - 0.000001):\n",
    "        k1 = func.subs([(x, arrayX[-1]), (y, arrayY[-1])])\n",
    "        k2 = func.subs([(x, arrayX[-1] + h / 2), (y, arrayY[-1] + h * k1 / 2)])\n",
    "        k3 = func.subs([(x, arrayX[-1] + h / 2), (y, arrayY[-1] + h * k2 / 2)])\n",
    "        k4 = func.subs([(x, arrayX[-1] + h), (y, arrayY[-1] + h * k3)])\n",
    "        delta = h / 6 * (k1 + 2 * k2 + 2 * k3 + k4)\n",
    "        arrayX.append(arrayX[-1] + h)\n",
    "        arrayY.append(arrayY[-1] + delta)\n",
    "    return (arrayX, arrayY)"
   ]
  },
  {
   "cell_type": "code",
   "execution_count": 16,
   "metadata": {
    "collapsed": true
   },
   "outputs": [],
   "source": [
    "rungeKutta01 = rungeKutta(h=0.1)\n",
    "rungeKutta001 = rungeKutta(h=0.01)"
   ]
  },
  {
   "cell_type": "code",
   "execution_count": 19,
   "metadata": {},
   "outputs": [
    {
     "data": {
      "image/png": "[encoded data removed]",
      "text/plain": [
       "<matplotlib.figure.Figure at 0x1d29463e2b0>"
      ]
     },
     "metadata": {},
     "output_type": "display_data"
    },
    {
     "name": "stdout",
     "output_type": "stream",
     "text": [
      "0.0\n",
      "0\n",
      "0\n",
      "0\n",
      "1.11022302462516e-16\n",
      "1.94289029309402e-16\n",
      "2.63677968348475e-16\n"
     ]
    }
   ],
   "source": [
    "graphic(a=rungeKutta01, b=rungeKutta001)\n",
    "for i in range(len(rungeKutta01[1])):\n",
    "    print(rungeKutta01[1][i] - rungeKutta001[1][i*10])"
   ]
  },
  {
   "cell_type": "code",
   "execution_count": null,
   "metadata": {
    "collapsed": true
   },
   "outputs": [],
   "source": []
  }
 ],
 "metadata": {
  "kernelspec": {
   "display_name": "Python 3",
   "language": "python",
   "name": "python3"
  },
  "language_info": {
   "codemirror_mode": {
    "name": "ipython",
    "version": 3
   },
   "file_extension": ".py",
   "mimetype": "text/x-python",
   "name": "python",
   "nbconvert_exporter": "python",
   "pygments_lexer": "ipython3",
   "version": "3.6.3"
  }
 },
 "nbformat": 4,
 "nbformat_minor": 2
}
