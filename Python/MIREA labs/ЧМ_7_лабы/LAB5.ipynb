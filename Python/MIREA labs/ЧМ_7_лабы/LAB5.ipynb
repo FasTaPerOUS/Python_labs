{
 "cells": [
  {
   "cell_type": "code",
   "execution_count": 10,
   "metadata": {
    "collapsed": true
   },
   "outputs": [],
   "source": [
    "import sympy\n",
    "import numpy as np\n",
    "import math\n",
    "import matplotlib.pyplot as plt\n",
    "x = sympy.symbols('x')\n",
    "y = sympy.symbols('y')\n",
    "z = sympy.symbols('z')\n",
    "func = z * (2 * x + 1)/x - 2 * y / x\n",
    "yb = math.exp(2)\n",
    "y_1 = 2\n",
    "#z1 = 2\n",
    "startX = 0\n",
    "finishX = 1\n",
    "eps = 0.001\n",
    "v = 100\n",
    "h = 0.01"
   ]
  },
  {
   "cell_type": "code",
   "execution_count": 11,
   "metadata": {
    "collapsed": true
   },
   "outputs": [],
   "source": [
    "# def graphic(a, b):\n",
    "#     plt.grid(True)\n",
    "#     plt.plot(a[0], a[1], color = 'red')\n",
    "#     plt.plot(b[0], b[1], color = 'blue')\n",
    "#     x1,x2,y1,y2 = plt.axis()\n",
    "#     plt.axis((3,4,0,5))\n",
    "#     plt.show()"
   ]
  },
  {
   "cell_type": "code",
   "execution_count": 12,
   "metadata": {
    "collapsed": true
   },
   "outputs": [],
   "source": [
    "def rungeKutta(arrayX, arrayY, arrayZ):\n",
    "    for i in range(v):\n",
    "        k1 = h*arrayZ[-1]\n",
    "        l1 = h*func.subs([(x, arrayX[-1]),(y, arrayY[-1]),(z, arrayZ[-1])])\n",
    "        k2 = h*(arrayZ[-1]+l1 / 2)\n",
    "        l2 = h*func.subs([(x, arrayX[-1] + h / 2),(y, arrayY[-1]+ k1 / 2),(z, arrayZ[-1] + l1 / 2)])\n",
    "        k3 = h*(arrayZ[-1]+l2 / 2)\n",
    "        l3 = h*func.subs([(x, arrayX[-1] + h / 2),(y, arrayY[-1]+ k2 / 2),(z, arrayZ[-1] + l2 / 2)])\n",
    "        k4 = h*(arrayZ[-1]+l3)\n",
    "        l4 = h*func.subs([(x, arrayX[-1] + h),(y, arrayY[-1]+ k3),(z, arrayZ[-1] + l3)])\n",
    "        #print(k1, l1, k2, l2, k3, l3, k4, l4)\n",
    "        deltaY = 1 / 6 * (k1 + 2 * k2 + 2 * k3 + k4)\n",
    "        deltaZ = 1 / 6 * (l1 + 2 * l2 + 2 * l3 + l4)\n",
    "        arrayX.append(arrayX[-1] + h)\n",
    "        arrayY.append(arrayY[-1] + deltaY)\n",
    "        arrayZ.append(arrayZ[-1] + deltaZ)\n",
    "    return arrayX, arrayY, arrayZ"
   ]
  },
  {
   "cell_type": "code",
   "execution_count": 13,
   "metadata": {
    "collapsed": true
   },
   "outputs": [],
   "source": [
    "# def podstava(ny):\n",
    "#     arrayX1 = [startX + eps]\n",
    "#     arrayY1 = [y1]\n",
    "#     arrayZ1 = [ny]\n",
    "# #     print(arrayX1)\n",
    "# #     print(arrayY1)\n",
    "# #     print(arrayZ1)\n",
    "#     arrayX1, arrayY1 = rungeKutta(v=v, h=h, arrayX=arrayX1, arrayY=arrayY1, arrayZ=arrayZ1)\n",
    "#     print(arrayY1)\n",
    "#     return arrayY1[-1]"
   ]
  },
  {
   "cell_type": "code",
   "execution_count": 14,
   "metadata": {
    "collapsed": true
   },
   "outputs": [],
   "source": [
    "def podstava(ny, x, z):\n",
    "    y1 = ny\n",
    "    x, y1, z = rungeKutta(arrayX = [x], arrayY = [y1], arrayZ = [z])\n",
    "    return y1[-1], z[-1]"
   ]
  },
  {
   "cell_type": "code",
   "execution_count": 15,
   "metadata": {
    "collapsed": true
   },
   "outputs": [],
   "source": [
    "# def find_ny(ny_1, ny_2):\n",
    "#     array_ny = [ny_1, ny_2]\n",
    "#     y_last = podstava(ny_1)\n",
    "#     foo = [y_last - yb]\n",
    "#     if abs(foo[-1]) < eps: return ny_1\n",
    "#     y_last = podstava(ny_2)\n",
    "#     foo.append(y_last - yb)\n",
    "#     while abs(foo[-1]) > eps:\n",
    "#         array_ny.append(array_ny[-1] - (array_ny[-1] - array_ny[-2]) / (foo[-1] - foo[-2]) * foo[-1])\n",
    "#         y_last = podstava(array_ny[-1])\n",
    "#         foo.append(y_last - yb)\n",
    "#     print(array_ny)\n",
    "#     return array_ny[-1]"
   ]
  },
  {
   "cell_type": "code",
   "execution_count": 16,
   "metadata": {
    "collapsed": true
   },
   "outputs": [],
   "source": [
    "def find_ny(ny_1, ny_2, x, z):\n",
    "    ny_3 = 0\n",
    "    y_last, z_last = podstava(ny=ny_1, x=x, z=z)\n",
    "    foo1 = y_last - yb\n",
    "    if abs(foo1) < eps: return ny_1\n",
    "    y_last, z_last = podstava(ny=ny_2, x=x, z=z)\n",
    "    foo2 = y_last - yb\n",
    "    while abs(ny_2 - ny_1) > eps:\n",
    "#         ny_3 = (ny_1 + ny_2) / 2\n",
    "        ny_3 = ny_2 - (ny_2 - ny_1) / (foo2 - foo1) * foo2\n",
    "        ny_1 = ny_2\n",
    "        ny_2 = ny_3\n",
    "        print(ny_3)\n",
    "        y_last, z_last = podstava(ny=ny_3, x=x, z=z)\n",
    "        foo3 = y_last - yb\n",
    "        foo1 = foo2\n",
    "        foo2 = foo3\n",
    "    return ny_3"
   ]
  },
  {
   "cell_type": "code",
   "execution_count": 17,
   "metadata": {
    "collapsed": true
   },
   "outputs": [],
   "source": [
    "# arrayX1 = [startX + eps]\n",
    "# arrayY1 = [y1]\n",
    "# arrayZ1 = [find_ny(ny_1 = 0, ny_2 = 1)]\n",
    "# arrayX1, arrayY1 = rungeKutta(v=v, h=h, arrayX=arrayX1, arrayY=arrayY1, arrayZ=arrayZ1)\n",
    "# print(\"GLEBOVOY\\n\", arrayY1)\n",
    "# # arrayX2 = [startX]\n",
    "# # arrayY2 = [y1]\n",
    "# # arrayZ2 = [find_ny(ny_1 = 0, ny_2 = 1)]\n",
    "# # arrayX2, arrayY2 = rungeKutta(v=100, h=0.01, arrayX=arrayX2, arrayY=arrayY2, arrayZ=arrayZ2)\n",
    "# # a = (arrayX1, arrayY1)\n",
    "# # b = (arrayX2, arrayY2)\n",
    "# plt.grid(True)\n",
    "# plt.plot(arrayX1, arrayY1, color = 'red')\n",
    "# plt.show()\n",
    "# # graphic(a=a, b=b)"
   ]
  },
  {
   "cell_type": "code",
   "execution_count": 18,
   "metadata": {},
   "outputs": [
    {
     "name": "stdout",
     "output_type": "stream",
     "text": [
      "0.999999999991164\n",
      "0.999999999991166\n",
      "[0.999999999991166]\n"
     ]
    }
   ],
   "source": [
    "arrayY1 = [find_ny(ny_1=-4, ny_2=4, x=startX+eps, z=y_1)]\n",
    "print(arrayY1)\n",
    "arrayX1 = [startX+eps]\n",
    "arrayZ1 = [y_1]\n",
    "arrayX1, arrayY1, arrayZ1 = rungeKutta(arrayX=arrayX1, arrayY=arrayY1, arrayZ=arrayZ1)"
   ]
  },
  {
   "cell_type": "code",
   "execution_count": 19,
   "metadata": {},
   "outputs": [
    {
     "name": "stdout",
     "output_type": "stream",
     "text": [
      "7.38905609893065**x\n"
     ]
    }
   ],
   "source": [
    "#func = e^(2x)\n",
    "right_func = (math.exp(2)) ** x\n",
    "print(right_func)\n",
    "rightX = []\n",
    "rightY = []\n",
    "\n",
    "for i in range(v + 1):\n",
    "    rightX.append(startX + h * i)\n",
    "    rightY.append(right_func.subs(x, rightX[-1]))"
   ]
  },
  {
   "cell_type": "code",
   "execution_count": 21,
   "metadata": {},
   "outputs": [
    {
     "data": {
      "image/png": "[encoded data removed]",
      "text/plain": [
       "<matplotlib.figure.Figure at 0x247315f7cf8>"
      ]
     },
     "metadata": {},
     "output_type": "display_data"
    }
   ],
   "source": [
    "plt.grid(True)\n",
    "plt.plot(arrayX1, arrayY1, color='red')\n",
    "plt.show()"
   ]
  },
  {
   "cell_type": "code",
   "execution_count": 22,
   "metadata": {},
   "outputs": [
    {
     "data": {
      "image/png": "[encoded data removed]",
      "text/plain": [
       "<matplotlib.figure.Figure at 0x24731693550>"
      ]
     },
     "metadata": {},
     "output_type": "display_data"
    }
   ],
   "source": [
    "plt.grid(True)\n",
    "plt.plot(rightX, rightY, color='blue')\n",
    "plt.show()"
   ]
  },
  {
   "cell_type": "code",
   "execution_count": 23,
   "metadata": {},
   "outputs": [
    {
     "data": {
      "image/png": "[encoded data removed]",
      "text/plain": [
       "<matplotlib.figure.Figure at 0x24731a06d30>"
      ]
     },
     "metadata": {},
     "output_type": "display_data"
    }
   ],
   "source": [
    "plt.grid(True)\n",
    "plt.plot(arrayX1, arrayY1, color='red')\n",
    "plt.plot(rightX, rightY, color='blue')\n",
    "plt.show()"
   ]
  },
  {
   "cell_type": "code",
   "execution_count": null,
   "metadata": {
    "collapsed": true
   },
   "outputs": [],
   "source": []
  }
 ],
 "metadata": {
  "kernelspec": {
   "display_name": "Python 3",
   "language": "python",
   "name": "python3"
  },
  "language_info": {
   "codemirror_mode": {
    "name": "ipython",
    "version": 3
   },
   "file_extension": ".py",
   "mimetype": "text/x-python",
   "name": "python",
   "nbconvert_exporter": "python",
   "pygments_lexer": "ipython3",
   "version": "3.6.3"
  }
 },
 "nbformat": 4,
 "nbformat_minor": 2
}
