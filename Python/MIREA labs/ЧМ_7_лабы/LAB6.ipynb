{
 "cells": [
  {
   "cell_type": "code",
   "execution_count": 1,
   "metadata": {
    "collapsed": true
   },
   "outputs": [],
   "source": [
    "import numpy as np\n",
    "import sympy\n",
    "x = sympy.symbols('x')\n",
    "y_diff = 1\n",
    "y_last = 3\n",
    "p_x = -2 * (x + 2) / (x * (x + 4))\n",
    "q_x = 2 / (x * (x + 4))"
   ]
  },
  {
   "cell_type": "code",
   "execution_count": 2,
   "metadata": {
    "collapsed": true
   },
   "outputs": [],
   "source": [
    "def gauss(x):\n",
    "    for i in range(len(x)):\n",
    "        b = 0\n",
    "        for j in range(i, len(x)):\n",
    "            if (b == 1): break\n",
    "            if (j == i):\n",
    "                for z in range(i, len(x)):\n",
    "                    if (x[z][i] != 0):\n",
    "                        x[z] /= x[z][i]\n",
    "                        x[z], x[i] = x[i], x[z]\n",
    "                        break\n",
    "                    if (z == len(x) - 1):\n",
    "                        b = 1\n",
    "            else:\n",
    "                x[j] -= x[i] * (x[j][i])\n",
    "    #print(x)\n",
    "    for i in range(len(x) - 1, -1, -1):\n",
    "        for j in range(i - 1, -1, -1):\n",
    "            x[j] -= x[i] * (x[j][i])\n",
    "    #print(x)\n",
    "    for i in range(len(x)):\n",
    "        print (\"y\", i + 1, \" = \", x[i][len(x[i]) - 1], sep = \"\")"
   ]
  },
  {
   "cell_type": "code",
   "execution_count": 3,
   "metadata": {
    "collapsed": true
   },
   "outputs": [],
   "source": [
    "def create_matrix(start_x, finish_x, h):\n",
    "    curr_x = start_x\n",
    "    count = int((finish_x - start_x) / h + 1)\n",
    "    a = np.zeros((count, count + 1))\n",
    "    for i in range(count):\n",
    "        if i == 0:\n",
    "            a[i][i] = -1 / h\n",
    "            a[i][i + 1] = 1 / h\n",
    "            a[i][-1] = y_diff\n",
    "        elif i != count - 1:\n",
    "            a[i][i - 1] = 1 - p_x.subs(x, curr_x) / 2 * h\n",
    "            a[i][i] = -2 + h**2 * q_x.subs(x, curr_x)\n",
    "            a[i][i + 1] = 1 + p_x.subs(x, curr_x) / 2 * h\n",
    "        else: \n",
    "            a[i][i - 1] = 1 / h\n",
    "            a[i][i] = 1 - 1 / h\n",
    "            a[i][-1] = y_last\n",
    "        curr_x += h\n",
    "    return a"
   ]
  },
  {
   "cell_type": "code",
   "execution_count": 4,
   "metadata": {},
   "outputs": [
    {
     "name": "stdout",
     "output_type": "stream",
     "text": [
      "[[-10.          10.           0.           0.           0.           0.\n",
      "    0.           0.           0.           0.           0.           0.\n",
      "    0.           0.           0.           0.           0.           0.\n",
      "    0.           0.           0.           1.        ]\n",
      " [  1.51219512  -1.95121951   0.48780488   0.           0.           0.\n",
      "    0.           0.           0.           0.           0.           0.\n",
      "    0.           0.           0.           0.           0.           0.\n",
      "    0.           0.           0.           0.        ]\n",
      " [  0.           1.26190476  -1.97619048   0.73809524   0.           0.\n",
      "    0.           0.           0.           0.           0.           0.\n",
      "    0.           0.           0.           0.           0.           0.\n",
      "    0.           0.           0.           0.        ]\n",
      " [  0.           0.           1.17829457  -1.98449612   0.82170543   0.\n",
      "    0.           0.           0.           0.           0.           0.\n",
      "    0.           0.           0.           0.           0.           0.\n",
      "    0.           0.           0.           0.        ]\n",
      " [  0.           0.           0.           1.13636364  -1.98863636\n",
      "    0.86363636   0.           0.           0.           0.           0.\n",
      "    0.           0.           0.           0.           0.           0.\n",
      "    0.           0.           0.           0.           0.        ]\n",
      " [  0.           0.           0.           0.           1.11111111\n",
      "   -1.99111111   0.88888889   0.           0.           0.           0.\n",
      "    0.           0.           0.           0.           0.           0.\n",
      "    0.           0.           0.           0.           0.        ]\n",
      " [  0.           0.           0.           0.           0.           1.0942029\n",
      "   -1.99275362   0.9057971    0.           0.           0.           0.\n",
      "    0.           0.           0.           0.           0.           0.\n",
      "    0.           0.           0.           0.        ]\n",
      " [  0.           0.           0.           0.           0.           0.\n",
      "    1.08206687  -1.99392097   0.91793313   0.           0.           0.\n",
      "    0.           0.           0.           0.           0.           0.\n",
      "    0.           0.           0.           0.        ]\n",
      " [  0.           0.           0.           0.           0.           0.\n",
      "    0.           1.07291667  -1.99479167   0.92708333   0.           0.\n",
      "    0.           0.           0.           0.           0.           0.\n",
      "    0.           0.           0.           0.        ]\n",
      " [  0.           0.           0.           0.           0.           0.\n",
      "    0.           0.           1.06575964  -1.99546485   0.93424036   0.\n",
      "    0.           0.           0.           0.           0.           0.\n",
      "    0.           0.           0.           0.        ]\n",
      " [  0.           0.           0.           0.           0.           0.\n",
      "    0.           0.           0.           1.06        -1.996        0.94\n",
      "    0.           0.           0.           0.           0.           0.\n",
      "    0.           0.           0.           0.        ]\n",
      " [  0.           0.           0.           0.           0.           0.\n",
      "    0.           0.           0.           0.           1.05525847\n",
      "   -1.99643494   0.94474153   0.           0.           0.           0.\n",
      "    0.           0.           0.           0.           0.        ]\n",
      " [  0.           0.           0.           0.           0.           0.\n",
      "    0.           0.           0.           0.           0.           1.05128205\n",
      "   -1.99679487   0.94871795   0.           0.           0.           0.\n",
      "    0.           0.           0.           0.        ]\n",
      " [  0.           0.           0.           0.           0.           0.\n",
      "    0.           0.           0.           0.           0.           0.\n",
      "    1.0478955   -1.99709724   0.9521045    0.           0.           0.\n",
      "    0.           0.           0.           0.        ]\n",
      " [  0.           0.           0.           0.           0.           0.\n",
      "    0.           0.           0.           0.           0.           0.\n",
      "    0.           1.04497354  -1.9973545    0.95502646   0.           0.\n",
      "    0.           0.           0.           0.        ]\n",
      " [  0.           0.           0.           0.           0.           0.\n",
      "    0.           0.           0.           0.           0.           0.\n",
      "    0.           0.           1.04242424  -1.99757576   0.95757576   0.\n",
      "    0.           0.           0.           0.        ]\n",
      " [  0.           0.           0.           0.           0.           0.\n",
      "    0.           0.           0.           0.           0.           0.\n",
      "    0.           0.           0.           1.04017857  -1.99776786\n",
      "    0.95982143   0.           0.           0.           0.        ]\n",
      " [  0.           0.           0.           0.           0.           0.\n",
      "    0.           0.           0.           0.           0.           0.\n",
      "    0.           0.           0.           0.           1.03818369\n",
      "   -1.99793602   0.96181631   0.           0.           0.        ]\n",
      " [  0.           0.           0.           0.           0.           0.\n",
      "    0.           0.           0.           0.           0.           0.\n",
      "    0.           0.           0.           0.           0.           1.03639847\n",
      "   -1.99808429   0.96360153   0.           0.        ]\n",
      " [  0.           0.           0.           0.           0.           0.\n",
      "    0.           0.           0.           0.           0.           0.\n",
      "    0.           0.           0.           0.           0.           0.\n",
      "    1.03479037  -1.99821588   0.96520963   0.        ]\n",
      " [  0.           0.           0.           0.           0.           0.\n",
      "    0.           0.           0.           0.           0.           0.\n",
      "    0.           0.           0.           0.           0.           0.\n",
      "    0.          10.          -9.           3.        ]]\n"
     ]
    }
   ],
   "source": [
    "matrix = create_matrix(start_x=0, finish_x=2, h=0.1)\n",
    "print(matrix)"
   ]
  },
  {
   "cell_type": "code",
   "execution_count": 5,
   "metadata": {},
   "outputs": [
    {
     "name": "stdout",
     "output_type": "stream",
     "text": [
      "y1 = 1.9375\n",
      "y2 = 2.0375\n",
      "y3 = 2.14375\n",
      "y4 = 2.25625\n",
      "y5 = 2.375\n",
      "y6 = 2.5\n",
      "y7 = 2.6\n",
      "y8 = 2.7\n",
      "y9 = 2.8\n",
      "y10 = 2.9\n",
      "y11 = 3.0\n",
      "y12 = 3.1\n",
      "y13 = 3.2\n",
      "y14 = 3.3\n",
      "y15 = 3.4\n",
      "y16 = 3.5\n",
      "y17 = 3.6\n",
      "y18 = 3.7\n",
      "y19 = 3.8\n",
      "y20 = 3.9\n",
      "y21 = 4.0\n"
     ]
    }
   ],
   "source": [
    "gauss(matrix)"
   ]
  },
  {
   "cell_type": "code",
   "execution_count": null,
   "metadata": {
    "collapsed": true
   },
   "outputs": [],
   "source": []
  }
 ],
 "metadata": {
  "kernelspec": {
   "display_name": "Python 3",
   "language": "python",
   "name": "python3"
  },
  "language_info": {
   "codemirror_mode": {
    "name": "ipython",
    "version": 3
   },
   "file_extension": ".py",
   "mimetype": "text/x-python",
   "name": "python",
   "nbconvert_exporter": "python",
   "pygments_lexer": "ipython3",
   "version": "3.6.3"
  }
 },
 "nbformat": 4,
 "nbformat_minor": 2
}
