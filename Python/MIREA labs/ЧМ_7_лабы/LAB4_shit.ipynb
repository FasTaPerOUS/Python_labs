{
 "cells": [
  {
   "cell_type": "code",
   "execution_count": 21,
   "metadata": {},
   "outputs": [],
   "source": [
    "import sympy\n",
    "import numpy as np\n",
    "import math\n",
    "import matplotlib.pyplot as plt\n",
    "x = sympy.symbols('x')\n",
    "y = sympy.symbols('y')\n",
    "z = sympy.symbols('z')\n",
    "func = (-(x**2 + 2) * y + 2*x*z)/x**2   #(3*y+(x-2)*z)/(x-2)**2\n",
    "y1 = math.pi / 2\n",
    "z1 = 1 - math.pi / 2\n",
    "startX = math.pi / 2\n",
    "finishX = math.pi / 2 + 1"
   ]
  },
  {
   "cell_type": "code",
   "execution_count": 22,
   "metadata": {
    "collapsed": true
   },
   "outputs": [],
   "source": [
    "def graphic(a, b):\n",
    "    plt.grid(True)\n",
    "    plt.plot(a[0], a[1], color = 'red')\n",
    "    plt.plot(b[0], b[1], color = 'blue')\n",
    "    x1,x2,y1,y2 = plt.axis()\n",
    "    plt.axis((startX,finishX,0,5))\n",
    "    plt.show()"
   ]
  },
  {
   "cell_type": "code",
   "execution_count": 23,
   "metadata": {
    "collapsed": true
   },
   "outputs": [],
   "source": [
    "def rungeKutta(v, h, arrayX, arrayY, arrayZ):\n",
    "    for i in range(v):\n",
    "        k1 = h*z1\n",
    "        l1 = h*func.subs([(x, arrayX[-1]),(y, arrayY[-1]),(z, arrayZ[-1])])\n",
    "        k2 = h*(z1+l1 / 2)\n",
    "        l2 = h*func.subs([(x, arrayX[-1] + h / 2),(y, arrayY[-1]+ k1 / 2),(z, arrayZ[-1] + l1 / 2)])\n",
    "        k3 = h*(z1+l2 / 2)\n",
    "        l3 = h*func.subs([(x, arrayX[-1] + h / 2),(y, arrayY[-1]+ k2 / 2),(z, arrayZ[-1] + l2 / 2)])\n",
    "        k4 = h*(z1+l3)\n",
    "        l4 = h*func.subs([(x, arrayX[-1] + h),(y, arrayY[-1]+ k3),(z, arrayZ[-1] + l3)])\n",
    "        delta = 1 / 6 * (k1 + 2 * k2 + 2 * k3 + k4)\n",
    "        arrayX.append(arrayX[-1] + h)\n",
    "        arrayY.append(arrayY[-1] + delta)\n",
    "    return arrayX, arrayY"
   ]
  },
  {
   "cell_type": "code",
   "execution_count": 24,
   "metadata": {},
   "outputs": [
    {
     "data": {
      "image/png": "[encoded data removed]",
      "text/plain": [
       "<matplotlib.figure.Figure at 0x28817310c18>"
      ]
     },
     "metadata": {},
     "output_type": "display_data"
    }
   ],
   "source": [
    "arrayX1 = [startX]\n",
    "arrayY1 = [y1]\n",
    "arrayZ1 = [z1]\n",
    "arrayX1, arrayY1 = rungeKutta(v=10, h=0.1, arrayX=arrayX1, arrayY=arrayY1, arrayZ=arrayZ1)\n",
    "arrayX2 = [startX]\n",
    "arrayY2 = [y1]\n",
    "arrayZ2 = [z1]\n",
    "arrayX2, arrayY2 = rungeKutta(v=100, h=0.01, arrayX=arrayX2, arrayY=arrayY2, arrayZ=arrayZ2)\n",
    "a = (arrayX1, arrayY1)\n",
    "b = (arrayX2, arrayY2)\n",
    "\n",
    "graphic(a=a, b=b)"
   ]
  },
  {
   "cell_type": "code",
   "execution_count": null,
   "metadata": {
    "collapsed": true
   },
   "outputs": [],
   "source": []
  },
  {
   "cell_type": "code",
   "execution_count": null,
   "metadata": {
    "collapsed": true
   },
   "outputs": [],
   "source": []
  },
  {
   "cell_type": "code",
   "execution_count": null,
   "metadata": {
    "collapsed": true
   },
   "outputs": [],
   "source": []
  }
 ],
 "metadata": {
  "kernelspec": {
   "display_name": "Python 3",
   "language": "python",
   "name": "python3"
  },
  "language_info": {
   "codemirror_mode": {
    "name": "ipython",
    "version": 3
   },
   "file_extension": ".py",
   "mimetype": "text/x-python",
   "name": "python",
   "nbconvert_exporter": "python",
   "pygments_lexer": "ipython3",
   "version": "3.6.3"
  }
 },
 "nbformat": 4,
 "nbformat_minor": 2
}
