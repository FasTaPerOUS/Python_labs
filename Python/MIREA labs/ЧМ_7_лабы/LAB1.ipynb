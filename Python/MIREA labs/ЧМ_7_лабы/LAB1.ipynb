{
 "cells": [
  {
   "cell_type": "code",
   "execution_count": 8,
   "metadata": {},
   "outputs": [
    {
     "name": "stdout",
     "output_type": "stream",
     "text": [
      "2.71828182845905**(x - 1/x) + y/x**2\n"
     ]
    },
    {
     "data": {
      "text/plain": [
       "2.36787900000000"
      ]
     },
     "execution_count": 8,
     "metadata": {},
     "output_type": "execute_result"
    }
   ],
   "source": [
    "import sympy\n",
    "import math\n",
    "import matplotlib.pyplot as plt\n",
    "x = sympy.symbols('x')\n",
    "y = sympy.symbols('y')\n",
    "func = y / x**2 + math.exp(1) ** (x - 1 / x)\n",
    "print(func)\n",
    "y1 = 1.367879\n",
    "startX = 1\n",
    "finishX = 2\n",
    "func.subs([(x, 1), (y, y1)])"
   ]
  },
  {
   "cell_type": "code",
   "execution_count": 9,
   "metadata": {
    "collapsed": true
   },
   "outputs": [],
   "source": [
    "def graphic(a, b):\n",
    "    plt.grid(True)\n",
    "    plt.plot(a[0], a[1], color = 'red')\n",
    "    plt.plot(b[0], b[1], color = 'black')\n",
    "    plt.show()"
   ]
  },
  {
   "cell_type": "code",
   "execution_count": 10,
   "metadata": {
    "collapsed": true
   },
   "outputs": [],
   "source": [
    "def newton(h):\n",
    "    newFunc = []\n",
    "    arrayX = [startX]\n",
    "    arrayY = [y1]\n",
    "    while (arrayX[-1] <= finishX - 0.000001):\n",
    "        newFunc.append(func.subs([(x, arrayX[-1]), (y, arrayY[-1])]))\n",
    "        arrayX.append(arrayX[-1] + h)\n",
    "        arrayY.append(arrayY[-1] + newFunc[-1] * h)\n",
    "    return (arrayX, arrayY)    "
   ]
  },
  {
   "cell_type": "code",
   "execution_count": 11,
   "metadata": {
    "collapsed": true
   },
   "outputs": [],
   "source": [
    "def upgradedNewton(h):\n",
    "    newFunc = []\n",
    "    arrayX = [startX]\n",
    "    arrayY = [y1]\n",
    "    errY = []\n",
    "    while (arrayX[-1] <= finishX - 0.000001):\n",
    "        errY.append(arrayY[-1] + h * func.subs([(x, arrayX[-1]), (y, arrayY[-1])]))\n",
    "        arrayX.append(arrayX[-1] + h)\n",
    "        newFunc.append(func.subs([(x, arrayX[-2]), (y, arrayY[-1])]) + func.subs([(x, arrayX[-1]), (y, errY[-1])]))\n",
    "        arrayY.append(arrayY[-1] + newFunc[-1] * h / 2)\n",
    "    return (arrayX, arrayY)"
   ]
  },
  {
   "cell_type": "code",
   "execution_count": 15,
   "metadata": {},
   "outputs": [
    {
     "data": {
      "image/png": "[encoded data removed]",
      "text/plain": [
       "<matplotlib.figure.Figure at 0x28c0cfd64e0>"
      ]
     },
     "metadata": {},
     "output_type": "display_data"
    },
    {
     "name": "stdout",
     "output_type": "stream",
     "text": [
      "0.0\n",
      "-0.00766107307110042\n",
      "-0.0171654820682394\n",
      "-0.0285841439170671\n",
      "-0.0419917254280535\n",
      "-0.0574770332033392\n",
      "-0.0751489246292216\n",
      "-0.0951398352681436\n",
      "-0.117608140861684\n",
      "-0.142740045751483\n"
     ]
    }
   ],
   "source": [
    "newton01 = newton(h=0.1)\n",
    "newton001 = newton(h=0.01)\n",
    "graphic(a=newton01, b=newton001)\n",
    "for i in range(10):\n",
    "    print(newton01[1][i] - newton001[1][i*10])"
   ]
  },
  {
   "cell_type": "code",
   "execution_count": 16,
   "metadata": {},
   "outputs": [
    {
     "data": {
      "image/png": "[encoded data removed]",
      "text/plain": [
       "<matplotlib.figure.Figure at 0x28c0d005d68>"
      ]
     },
     "metadata": {},
     "output_type": "display_data"
    },
    {
     "name": "stdout",
     "output_type": "stream",
     "text": [
      "0.0\n",
      "-0.000138407394147277\n",
      "-0.000249899779905860\n",
      "-0.000335827444972736\n",
      "-0.000395112395945585\n",
      "-0.000425526573891499\n",
      "-0.000424249305972957\n",
      "-0.000388088821509314\n",
      "-0.000313547576063833\n",
      "-0.000196815360726355\n"
     ]
    }
   ],
   "source": [
    "upgradedNewton01 = upgradedNewton(h=0.1)\n",
    "upgradedNewton001 = upgradedNewton(h=0.01)\n",
    "graphic(a=upgradedNewton01, b=upgradedNewton001)\n",
    "\n",
    "for i in range(10):\n",
    "    print(upgradedNewton01[1][i] - upgradedNewton001[1][i*10])"
   ]
  },
  {
   "cell_type": "code",
   "execution_count": 19,
   "metadata": {},
   "outputs": [
    {
     "name": "stdout",
     "output_type": "stream",
     "text": [
      "0.0\n",
      "-0.000770997281410057\n",
      "-0.00177678407566351\n",
      "-0.00302323793454873\n",
      "-0.00451954905477603\n",
      "-0.00627793738966975\n",
      "-0.00831364432256843\n",
      "-0.0106450354920122\n",
      "-0.0132937578709784\n",
      "-0.0162849344294616\n"
     ]
    }
   ],
   "source": [
    "for i in range(10):\n",
    "    print(newton001[1][i* 10] - upgradedNewton01[1][i])"
   ]
  },
  {
   "cell_type": "code",
   "execution_count": null,
   "metadata": {
    "collapsed": true
   },
   "outputs": [],
   "source": []
  },
  {
   "cell_type": "code",
   "execution_count": null,
   "metadata": {
    "collapsed": true
   },
   "outputs": [],
   "source": []
  },
  {
   "cell_type": "code",
   "execution_count": null,
   "metadata": {
    "collapsed": true
   },
   "outputs": [],
   "source": []
  },
  {
   "cell_type": "code",
   "execution_count": null,
   "metadata": {
    "collapsed": true
   },
   "outputs": [],
   "source": [
    "# def newton(h, y1, startX, finishX):\n",
    "#     newFunc = []\n",
    "#     hNewFunc = []\n",
    "#     arrayX = [startX]\n",
    "#     arrayY = [y1]\n",
    "#     while (arrayX[-1] <= finishX + 0.000001):\n",
    "#         newFunc.append(func.subs([(x, arrayX[-1]), (y, arrayY[-1])]))\n",
    "#         hNewFunc.append(h * newFunc[-1])\n",
    "# #         print(arrayX[-1], arrayY[-1], newFunc[-1], hNewFunc[-1], sep = '\\t')\n",
    "#         if (arrayX[-1] + h > finishX + 0.000001): break\n",
    "#         arrayY.append(arrayY[-1] + hNewFunc[-1])\n",
    "#         arrayX.append(arrayX[-1] + h)\n",
    "#     plt.grid(True)\n",
    "#     plt.plot(arrayX, newFunc, color = 'blue')\n",
    "#     boof = newFunc\n",
    "    \n",
    "#     newFunc = []\n",
    "#     hNewFunc = []\n",
    "#     arrayX = [startX]\n",
    "#     arrayY = [y1]\n",
    "#     h /= 10\n",
    "#     while (arrayX[-1] <= finishX + 0.000001):\n",
    "#         newFunc.append(func.subs([(x, arrayX[-1]), (y, arrayY[-1])]))\n",
    "#         hNewFunc.append(h * newFunc[-1])\n",
    "# #         print(arrayX[-1], arrayY[-1], newFunc[-1], hNewFunc[-1], sep = '\\t')\n",
    "#         if (arrayX[-1] + h > finishX + 0.000001): break\n",
    "#         arrayY.append(arrayY[-1] + hNewFunc[-1])\n",
    "#         arrayX.append(arrayX[-1] + h)\n",
    "#     plt.plot(arrayX, newFunc, color = 'red')\n",
    "    \n",
    "#     plt.show()\n",
    "    \n",
    "#     for i in range(0, 11):\n",
    "#         print(boof[i] - newFunc[i * 10])"
   ]
  },
  {
   "cell_type": "code",
   "execution_count": 95,
   "metadata": {
    "collapsed": true
   },
   "outputs": [],
   "source": [
    "# newton(h=0.1, y1=y1, startX=startX, finishX=finishX)"
   ]
  },
  {
   "cell_type": "code",
   "execution_count": null,
   "metadata": {
    "collapsed": true
   },
   "outputs": [],
   "source": [
    "# def upgradedNewton(h, y1, startX, finishX):\n",
    "#     newFunc = []\n",
    "#     hNewFunc = []\n",
    "#     oh = []\n",
    "#     my = []\n",
    "#     arrayX = [startX, startX + h]\n",
    "#     arrayY = [y1]\n",
    "#     while (arrayX[-1] <= finishX + 0.00001 + h):\n",
    "#         newFunc.append(func.subs([(x, arrayX[-2]), (y, arrayY[-1])]))\n",
    "#         oh.append((newFunc[-1] + func.subs([(x, arrayX[-1]), (y, arrayY[-1] + h * newFunc[-1])])) / 2 - 0.1)\n",
    "#         hNewFunc.append(h * newFunc[-1])\n",
    "# #         print(arrayX[-1], arrayY[-1], newFunc[-1], hNewFunc[-1], sep = '\\t')\n",
    "#         if (arrayX[-1] + h > finishX + 0.000001): break\n",
    "#         arrayY.append(arrayY[-1] + h * oh[-1])\n",
    "#         arrayX.append(arrayX[-1] + h)\n",
    "#     del arrayX[-1]\n",
    "#     print(oh)\n",
    "#     plt.grid(True)\n",
    "#     plt.plot(arrayX, oh, color = 'blue')\n",
    "    \n",
    "#     h /= 10\n",
    "#     newFunc = []\n",
    "#     hNewFunc = []\n",
    "#     oh = []\n",
    "#     my = []\n",
    "#     arrayX = [startX, startX + h]\n",
    "#     arrayY = [y1]\n",
    "#     while (arrayX[-1] <= finishX + 0.00001 + h):\n",
    "#         newFunc.append(func.subs([(x, arrayX[-2]), (y, arrayY[-1])]))\n",
    "#         oh.append((newFunc[-1] + func.subs([(x, arrayX[-1]), (y, arrayY[-1] + h * newFunc[-1])])) / 2)\n",
    "#         hNewFunc.append(h * newFunc[-1])\n",
    "# #         print(arrayX[-1], arrayY[-1], newFunc[-1], hNewFunc[-1], sep = '\\t')\n",
    "#         if (arrayX[-1] + h > finishX + 0.000001): break\n",
    "#         arrayY.append(arrayY[-1] + h * oh[-1])\n",
    "#         arrayX.append(arrayX[-1] + h)\n",
    "#     del arrayX[-1]\n",
    "#     plt.plot(arrayX, oh, color = 'red')\n",
    "    \n",
    "#     plt.show()\n",
    "# #     "
   ]
  },
  {
   "cell_type": "code",
   "execution_count": null,
   "metadata": {
    "collapsed": true
   },
   "outputs": [],
   "source": [
    "# upgradedNewton(h=0.1, y1=y1, startX=startX, finishX=finishX)"
   ]
  }
 ],
 "metadata": {
  "kernelspec": {
   "display_name": "Python 3",
   "language": "python",
   "name": "python3"
  },
  "language_info": {
   "codemirror_mode": {
    "name": "ipython",
    "version": 3
   },
   "file_extension": ".py",
   "mimetype": "text/x-python",
   "name": "python",
   "nbconvert_exporter": "python",
   "pygments_lexer": "ipython3",
   "version": "3.6.3"
  }
 },
 "nbformat": 4,
 "nbformat_minor": 2
}
