{
 "cells": [
  {
   "cell_type": "code",
   "execution_count": 1,
   "metadata": {
    "collapsed": true
   },
   "outputs": [],
   "source": [
    "import sympy\n",
    "import numpy \n",
    "import matplotlib.pyplot as plt\n",
    "x = sympy.symbols('x')"
   ]
  },
  {
   "cell_type": "code",
   "execution_count": 2,
   "metadata": {
    "collapsed": true
   },
   "outputs": [],
   "source": [
    "def find_coeff(inp_x, inp_y, h, alpha, b, d, c, l, m, z, n):\n",
    "    for i in range(n - 1):\n",
    "        h[i] = inp_x[i + 1] - inp_x[i]\n",
    "    for i in range(1, n - 1):\n",
    "        alpha[i] = 3 / h[i] * (inp_y[i + 1] - inp_y[i])  - 3 / h[i - 1] * (inp_y[i] - inp_y[i - 1])\n",
    "    for i in range(1, n - 1):\n",
    "        l[i] = 2 * (inp_x[i + 1] - inp_x[i - 1]) - h[i - 1] * m[i - 1]\n",
    "        m[i] = h[i] / l[i]\n",
    "        z[i] = (alpha[i] - h[i - 1] * z[i - 1]) / l[i]\n",
    "    for i in range(n - 2, -1, -1):\n",
    "        c[i] = z[i] - m[i] * c[i + 1]\n",
    "        b[i] = ((inp_y[i + 1] - inp_y[i]) / h[i]) - (h[i] * (c[i + 1] + 2 * c[i]) / 3)\n",
    "        d[i] = (c[i + 1] - c[i]) / (3 * h[i])"
   ]
  },
  {
   "cell_type": "code",
   "execution_count": 3,
   "metadata": {
    "collapsed": true
   },
   "outputs": [],
   "source": [
    "def take_spline(f, n, inp_y, b, inp_x, c, d):\n",
    "    for i in range(n - 1):\n",
    "        f.append(inp_y[i] + b[i] * (x - inp_x[i]) + c[i] * (pow(x - inp_x[i], 2)) + d[i] * (pow(x - inp_x[i], 3)))\n",
    "    print(f)"
   ]
  },
  {
   "cell_type": "code",
   "execution_count": 4,
   "metadata": {
    "collapsed": true
   },
   "outputs": [],
   "source": [
    "def cubic_spline(x_in, f, inp_x, n):\n",
    "    maxind = n - 1\n",
    "    for i in range(n - 1, 0, -1):\n",
    "        if (x_in < inp_x[i]):\n",
    "            maxind = i\n",
    "    return f[maxind - 1].subs(x, x_in)"
   ]
  },
  {
   "cell_type": "code",
   "execution_count": 5,
   "metadata": {
    "collapsed": true
   },
   "outputs": [],
   "source": [
    "def show_spline(f, inp_x, n):\n",
    "    x_gr = []\n",
    "    y_gr = []\n",
    "    for i in range(int((inp_x[n - 1] - inp_x[0]) * 100 + 1)):\n",
    "        x_gr.append(inp_x[0] + i / 100)\n",
    "        y_gr.append(cubic_spline(inp_x[0] + i / 100, f, inp_x, n))\n",
    "    plt.title('Cubic Spline')\n",
    "    plt.grid(True)\n",
    "    #plt.scatter(xin, cubic_spline(xin, f, inp_x, n), color='red')\n",
    "    plt.plot(x_gr, y_gr, color='green')"
   ]
  },
  {
   "cell_type": "code",
   "execution_count": 6,
   "metadata": {
    "collapsed": true
   },
   "outputs": [],
   "source": [
    "def make_spline(inp_x, inp_y, f, n):\n",
    "    h = numpy.zeros(n - 1)\n",
    "    alpha = numpy.zeros(n - 1)\n",
    "    b = numpy.zeros(n - 1)\n",
    "    d = numpy.zeros(n - 1)\n",
    "    c = numpy.zeros(n)\n",
    "    l = numpy.ones(n - 1)\n",
    "    m = numpy.zeros(n - 1)\n",
    "    z = numpy.zeros(n - 1)\n",
    "    find_coeff(inp_x, inp_y, h, alpha, b, d, c, l, m, z, n)\n",
    "    take_spline(f, n, inp_y, b, inp_x, c, d)\n",
    "    print(alpha, b, c, d)\n",
    "    show_spline(f, inp_x, n)"
   ]
  },
  {
   "cell_type": "code",
   "execution_count": 7,
   "metadata": {
    "collapsed": true
   },
   "outputs": [],
   "source": [
    "def find_min_difference(inp_x, f1, f2, n, eps):\n",
    "    it = (inp_x[-1] - inp_x[0]) * 10 ** eps\n",
    "    min = 999999999999\n",
    "    result = in_x = 0\n",
    "    for i in range(it + 1):\n",
    "        diff = cubic_spline(inp_x[0] + i * 10 ** (-eps), f1, inp_x, n) - cubic_spline(inp_x[0] + i * 10 ** (-eps), f2, inp_x, n)\n",
    "        print(diff)\n",
    "        if (diff < min):\n",
    "            min = diff\n",
    "            in_x = inp_x[0] + i * 10 ** -eps\n",
    "            result = diff\n",
    "    print(in_x, result)"
   ]
  },
  {
   "cell_type": "code",
   "execution_count": 8,
   "metadata": {
    "collapsed": true
   },
   "outputs": [],
   "source": [
    "def check_for_min(min, f, x_in, inp_x):\n",
    "    a = cubic_spline(f=f, inp_x=inp_x, n=len(inp_x), x_in=x_in)\n",
    "    print(a)\n",
    "    if min[0] > a: \n",
    "        min[0] = a\n",
    "        min[1] = x_in\n",
    "    return min"
   ]
  },
  {
   "cell_type": "code",
   "execution_count": 9,
   "metadata": {
    "collapsed": true
   },
   "outputs": [],
   "source": [
    "def find_min_difference1(inp_x, f):\n",
    "    min = [99999999999, -1]\n",
    "    for i in range(1, len(f)):\n",
    "        arr = sympy.solve(sympy.diff(f[i], x))\n",
    "        print(arr)\n",
    "        min = check_for_min(f=f, inp_x=inp_x, min=min, x_in=arr[0])\n",
    "        min = check_for_min(f=f, inp_x=inp_x, min=min, x_in=arr[1])\n",
    "    print(min)"
   ]
  },
  {
   "cell_type": "code",
   "execution_count": 10,
   "metadata": {
    "collapsed": true
   },
   "outputs": [],
   "source": [
    "#print(\"Значение кубического сплайна (в точке x = \", xin, \") = \", cubic_spline(xin, f, inp_x, n), sep=\"\")"
   ]
  },
  {
   "cell_type": "code",
   "execution_count": 11,
   "metadata": {},
   "outputs": [
    {
     "name": "stdout",
     "output_type": "stream",
     "text": [
      "[-0.212214285714286*x + 0.0248571428571429*(x - 1)**3 + 0.953214285714286, -0.193571428571428*x - 0.0122857142857146*(x - 1.5)**3 + 0.0372857142857144*(x - 1.5)**2 + 0.928357142857143, -0.1655*x + 0.00828571428571476*(x - 2)**3 + 0.0188571428571424*(x - 2)**2 + 0.88, -0.140428571428572*x - 0.0208571428571431*(x - 2.5)**3 + 0.0312857142857146*(x - 2.5)**2 + 0.823071428571429]\n",
      "[ 0.     0.084  0.072  0.072] [-0.21221429 -0.19357143 -0.1655     -0.14042857] [ 0.          0.03728571  0.01885714  0.03128571  0.        ] [ 0.02485714 -0.01228571  0.00828571 -0.02085714]\n"
     ]
    },
    {
     "data": {
      "image/png": "[encoded data removed]",
      "text/plain": [
       "<matplotlib.figure.Figure at 0x28a25d27be0>"
      ]
     },
     "metadata": {},
     "output_type": "display_data"
    }
   ],
   "source": [
    "inp1_x = [1, 1.5, 2, 2.5, 3]\n",
    "inp1_y = [0.741, 0.638, 0.549, 0.472, 0.407]\n",
    "n1 = len(inp1_x)\n",
    "f1 = []\n",
    "make_spline(inp1_x, inp1_y, f1, n1)\n",
    "plt.show()"
   ]
  },
  {
   "cell_type": "code",
   "execution_count": 12,
   "metadata": {},
   "outputs": [
    {
     "data": {
      "text/plain": [
       "[-0.686945595036491, 2.68694559503649]"
      ]
     },
     "execution_count": 12,
     "metadata": {},
     "output_type": "execute_result"
    }
   ],
   "source": [
    "sympy.solve(sympy.diff(f1[0]))"
   ]
  },
  {
   "cell_type": "code",
   "execution_count": 13,
   "metadata": {
    "collapsed": true
   },
   "outputs": [],
   "source": [
    "# print(sympy.diff(sympy.diff(f[1])).subs(x, 2))\n",
    "# print(sympy.diff(sympy.diff(f[2])).subs(x, 2))"
   ]
  },
  {
   "cell_type": "code",
   "execution_count": 14,
   "metadata": {
    "collapsed": true
   },
   "outputs": [],
   "source": [
    "#Коды Баркера, обобщение, применить различные методы оптимизации. начать с метода множителей Лагранжа."
   ]
  },
  {
   "cell_type": "code",
   "execution_count": 15,
   "metadata": {},
   "outputs": [
    {
     "name": "stdout",
     "output_type": "stream",
     "text": [
      "[-0.427392857142857*x - 0.138428571428571*(x - 1)**3 + 0.700392857142857, -0.531214285714286*x + 0.388142857142857*(x - 1.5)**3 - 0.207642857142857*(x - 1.5)**2 + 0.838821428571429, -0.44775*x + 0.553857142857143*(x - 2)**3 + 0.374571428571429*(x - 2)**2 + 0.6685, 0.342214285714286*x - 0.803571428571428*(x - 2.5)**3 + 1.20535714285714*(x - 2.5)**2 - 1.14353571428571]\n",
      "[ 0.    -0.228  1.248  2.598] [-0.42739286 -0.53121429 -0.44775     0.34221429] [ 0.         -0.20764286  0.37457143  1.20535714  0.        ] [-0.13842857  0.38814286  0.55385714 -0.80357143]\n"
     ]
    },
    {
     "data": {
      "image/png": "[encoded data removed]",
      "text/plain": [
       "<matplotlib.figure.Figure at 0x28a1ffe2748>"
      ]
     },
     "metadata": {},
     "output_type": "display_data"
    }
   ],
   "source": [
    "inp2_x = [1, 1.5, 2, 2.5, 3]\n",
    "inp2_y = [0.273, 0.042, -0.227, -0.288, 0.084]\n",
    "n2 = len(inp2_x)\n",
    "f2 = []\n",
    "make_spline(inp2_x, inp2_y, f2, n2)\n",
    "plt.show()"
   ]
  },
  {
   "cell_type": "code",
   "execution_count": 16,
   "metadata": {},
   "outputs": [
    {
     "name": "stdout",
     "output_type": "stream",
     "text": [
      "[-0.212214285714286*x + 0.0248571428571429*(x - 1)**3 + 0.953214285714286, -0.193571428571428*x - 0.0122857142857146*(x - 1.5)**3 + 0.0372857142857144*(x - 1.5)**2 + 0.928357142857143, -0.1655*x + 0.00828571428571476*(x - 2)**3 + 0.0188571428571424*(x - 2)**2 + 0.88, -0.140428571428572*x - 0.0208571428571431*(x - 2.5)**3 + 0.0312857142857146*(x - 2.5)**2 + 0.823071428571429]\n",
      "[ 0.     0.084  0.072  0.072] [-0.21221429 -0.19357143 -0.1655     -0.14042857] [ 0.          0.03728571  0.01885714  0.03128571  0.        ] [ 0.02485714 -0.01228571  0.00828571 -0.02085714]\n",
      "[-0.427392857142857*x - 0.138428571428571*(x - 1)**3 + 0.700392857142857, -0.531214285714286*x + 0.388142857142857*(x - 1.5)**3 - 0.207642857142857*(x - 1.5)**2 + 0.838821428571429, -0.44775*x + 0.553857142857143*(x - 2)**3 + 0.374571428571429*(x - 2)**2 + 0.6685, 0.342214285714286*x - 0.803571428571428*(x - 2.5)**3 + 1.20535714285714*(x - 2.5)**2 - 1.14353571428571]\n",
      "[ 0.    -0.228  1.248  2.598] [-0.42739286 -0.53121429 -0.44775     0.34221429] [ 0.         -0.20764286  0.37457143  1.20535714  0.        ] [-0.13842857  0.38814286  0.55385714 -0.80357143]\n"
     ]
    },
    {
     "data": {
      "image/png": "[encoded data removed]",
      "text/plain": [
       "<matplotlib.figure.Figure at 0x28a26198208>"
      ]
     },
     "metadata": {},
     "output_type": "display_data"
    }
   ],
   "source": [
    "f1 = []\n",
    "f2 = []\n",
    "make_spline(inp1_x, inp1_y, f1, n1)\n",
    "make_spline(inp2_x, inp2_y, f2, n2)\n",
    "plt.show()"
   ]
  },
  {
   "cell_type": "code",
   "execution_count": 17,
   "metadata": {},
   "outputs": [
    {
     "name": "stdout",
     "output_type": "stream",
     "text": [
      "0.468000000000000\n",
      "0.489681142857143\n",
      "0.512342000000000\n",
      "0.536962285714286\n",
      "0.564521714285714\n",
      "0.596000000000000\n",
      "0.631813142857143\n",
      "0.670122285714286\n",
      "0.708524857142857\n",
      "0.744618285714286\n",
      "0.776000000000000\n",
      "0.800122285714286\n",
      "0.813856857142857\n",
      "0.813930285714286\n",
      "0.797069142857143\n",
      "0.760000000000000\n",
      "0.700777714285714\n",
      "0.622770285714286\n",
      "0.530674000000000\n",
      "0.429185142857143\n",
      "0.323000000000000\n",
      "3.0 0.323000000000000\n"
     ]
    }
   ],
   "source": [
    "find_min_difference(inp1_x, f1, f2, n1, 1)"
   ]
  },
  {
   "cell_type": "code",
   "execution_count": 18,
   "metadata": {},
   "outputs": [
    {
     "data": {
      "image/png": "[encoded data removed]",
      "text/plain": [
       "<matplotlib.figure.Figure at 0x28a25d36400>"
      ]
     },
     "metadata": {},
     "output_type": "display_data"
    },
    {
     "name": "stdout",
     "output_type": "stream",
     "text": [
      "[2.32506120728431, 3.67493879271569]\n",
      "[1.13587592531484, 2.27190145606225]\n",
      "0.497647202389784\n",
      "0.815479126942942\n",
      "[1.31396167138324, 2.25136956716088]\n",
      "0.540611158905442\n",
      "0.815807241094883\n",
      "[2.32506120728431, 3.67493879271569]\n",
      "0.811423023417314\n",
      "-0.158311709062563\n",
      "[-0.158311709062563, 3.67493879271569]\n"
     ]
    }
   ],
   "source": [
    "f3 = numpy.array(f1) - numpy.array(f2)\n",
    "show_spline(f=f3, inp_x=inp1_x, n=n1)\n",
    "plt.show()\n",
    "print(sympy.solve(sympy.diff(f3[3], x), x))\n",
    "find_min_difference1(f=f3, inp_x=inp1_x)"
   ]
  },
  {
   "cell_type": "code",
   "execution_count": 19,
   "metadata": {},
   "outputs": [
    {
     "name": "stdout",
     "output_type": "stream",
     "text": [
      "-0.306872767857143\n",
      "0.508933035714286\n"
     ]
    }
   ],
   "source": [
    "print(cubic_spline(f=f2, n= n1, inp_x= inp1_x, x_in= 2.25))\n",
    "print(cubic_spline(f=f1, n= n1, inp_x= inp1_x, x_in= 2.25))\n",
    "plt.show()"
   ]
  }
 ],
 "metadata": {
  "kernelspec": {
   "display_name": "Python 3",
   "language": "python",
   "name": "python3"
  },
  "language_info": {
   "codemirror_mode": {
    "name": "ipython",
    "version": 3
   },
   "file_extension": ".py",
   "mimetype": "text/x-python",
   "name": "python",
   "nbconvert_exporter": "python",
   "pygments_lexer": "ipython3",
   "version": "3.6.3"
  }
 },
 "nbformat": 4,
 "nbformat_minor": 2
}
