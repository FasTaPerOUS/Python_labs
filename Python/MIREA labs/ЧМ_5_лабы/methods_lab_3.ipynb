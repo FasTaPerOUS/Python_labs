{
 "cells": [
  {
   "cell_type": "code",
   "execution_count": 12,
   "metadata": {},
   "outputs": [
    {
     "name": "stdout",
     "output_type": "stream",
     "text": [
      "[0, 0.5235987755982988, 1.0471975511965976, 1.5707963267948966]\n"
     ]
    }
   ],
   "source": [
    "import math\n",
    "readinput = [0, math.pi / 6, math.pi * 2 / 6, math.pi * 3 / 6]\n",
    "x_in = math.pi / 4\n",
    "print(readinput)"
   ]
  },
  {
   "cell_type": "code",
   "execution_count": 13,
   "metadata": {
    "collapsed": true
   },
   "outputs": [],
   "source": [
    "def lag(xin, readinput):\n",
    "    a = []\n",
    "    for number in range(len(readinput)):\n",
    "        sum = 1\n",
    "        for i in range(len(readinput)):\n",
    "            if (i != number):\n",
    "                sum *= (xin - readinput[i]) / (readinput[number] - readinput[i])   \n",
    "        a.append(math.cos(readinput[number]) * sum)\n",
    "    sum = 0\n",
    "    for number in range(len(a)):\n",
    "        sum += a[number]\n",
    "    return sum"
   ]
  },
  {
   "cell_type": "code",
   "execution_count": 14,
   "metadata": {},
   "outputs": [
    {
     "name": "stdout",
     "output_type": "stream",
     "text": [
      "Значение в изначально заданной точке (по Лагранжу) (x = 0.7853981633974483) = 0.7058892896287468\n"
     ]
    }
   ],
   "source": [
    "z = []\n",
    "print(\"Значение в изначально заданной точке (по Лагранжу) (x = \", x_in, \") = \", lag(x_in, readinput), sep ='')"
   ]
  },
  {
   "cell_type": "code",
   "execution_count": 15,
   "metadata": {
    "collapsed": true
   },
   "outputs": [],
   "source": [
    "x_cos = []\n",
    "y_cos = []"
   ]
  },
  {
   "cell_type": "code",
   "execution_count": 16,
   "metadata": {
    "collapsed": true
   },
   "outputs": [],
   "source": [
    "x_lag = []\n",
    "y_lag = []\n",
    "for num in range(900):\n",
    "    x_cos.append(-3 + num * 0.01)\n",
    "    y_cos.append(math.cos(-3 + num*0.01))\n",
    "    x_lag.append(-3 +num * 0.01)\n",
    "    y_lag.append(lag(-3 + num * 0.01, readinput))"
   ]
  },
  {
   "cell_type": "code",
   "execution_count": 17,
   "metadata": {},
   "outputs": [
    {
     "data": {
      "image/png": "[encoded data removed]",
      "text/plain": [
       "<matplotlib.figure.Figure at 0x1efede9f198>"
      ]
     },
     "metadata": {},
     "output_type": "display_data"
    }
   ],
   "source": [
    "import matplotlib.pyplot as plt\n",
    "plt.title('Lagrange fuction')\n",
    "plt.grid(True)\n",
    "plt.scatter(math.pi / 4, lag(x_in, readinput), color='red')\n",
    "plt.plot(x_lag, y_lag, color='blue')\n",
    "plt.plot(x_cos, y_cos, color='green')\n",
    "plt.show()"
   ]
  },
  {
   "cell_type": "code",
   "execution_count": 18,
   "metadata": {
    "collapsed": true
   },
   "outputs": [],
   "source": [
    "#Теперь Ньютон\n",
    "f_of = []\n",
    "def make_f_of():\n",
    "    for i in range(len(readinput)):\n",
    "        f_of.append([])\n",
    "    for i in range(len(readinput)):\n",
    "        f_of[i].append(math.cos(readinput[i]))\n",
    "    for j in range(1, len(readinput)):\n",
    "        for i in range(len(readinput)):\n",
    "            if (i <= len(readinput) - j - 1):\n",
    "                f_of[i].append((f_of[i + 1][j - 1] - f_of[i][j - 1]) / (readinput[i + j] - readinput[i]))"
   ]
  },
  {
   "cell_type": "code",
   "execution_count": 19,
   "metadata": {
    "collapsed": true
   },
   "outputs": [],
   "source": [
    "def newton(f_of, xin, readinput):\n",
    "    proizv = 1\n",
    "    sum = 0\n",
    "    for i in range(len(f_of[0])):\n",
    "        if (i != 0):\n",
    "            proizv *= xin - readinput[i - 1]\n",
    "        sum += f_of[0][i] * proizv\n",
    "    return sum"
   ]
  },
  {
   "cell_type": "code",
   "execution_count": 20,
   "metadata": {},
   "outputs": [
    {
     "name": "stdout",
     "output_type": "stream",
     "text": [
      "Значение в изначально заданной точке (по Ньютону) (x = 0.7853981633974483) = 0.7058892896287468\n"
     ]
    }
   ],
   "source": [
    "make_f_of()\n",
    "print(\"Значение в изначально заданной точке (по Ньютону) (x = \", x_in, \") = \", newton(f_of, x_in, readinput), sep ='')"
   ]
  },
  {
   "cell_type": "code",
   "execution_count": 21,
   "metadata": {
    "collapsed": true
   },
   "outputs": [],
   "source": [
    "x_newton = []\n",
    "y_newton = []\n",
    "for num in range(900):\n",
    "    x_newton.append(-3 + num * 0.01)\n",
    "    y_newton.append(newton(f_of, -3 + num * 0.01, readinput))"
   ]
  },
  {
   "cell_type": "code",
   "execution_count": 22,
   "metadata": {},
   "outputs": [
    {
     "data": {
      "image/png": "[encoded data removed]",
      "text/plain": [
       "<matplotlib.figure.Figure at 0x1efede9f0f0>"
      ]
     },
     "metadata": {},
     "output_type": "display_data"
    }
   ],
   "source": [
    "plt.title('Newton fuction')\n",
    "plt.grid(True)\n",
    "plt.scatter(math.pi / 4, newton(f_of, x_in, readinput), color='purple')\n",
    "plt.plot(x_cos, y_cos, color='green')\n",
    "plt.plot(x_newton, y_newton, color='orange')\n",
    "plt.show()"
   ]
  },
  {
   "cell_type": "code",
   "execution_count": null,
   "metadata": {
    "collapsed": true
   },
   "outputs": [],
   "source": []
  }
 ],
 "metadata": {
  "kernelspec": {
   "display_name": "Python 3",
   "language": "python",
   "name": "python3"
  },
  "language_info": {
   "codemirror_mode": {
    "name": "ipython",
    "version": 3
   },
   "file_extension": ".py",
   "mimetype": "text/x-python",
   "name": "python",
   "nbconvert_exporter": "python",
   "pygments_lexer": "ipython3",
   "version": "3.6.3"
  }
 },
 "nbformat": 4,
 "nbformat_minor": 2
}
