{
 "cells": [
  {
   "cell_type": "code",
   "execution_count": 2,
   "metadata": {
    "collapsed": true
   },
   "outputs": [],
   "source": [
    "import sympy\n",
    "import matplotlib.pyplot as plt\n",
    "q = sympy.symbols('x')"
   ]
  },
  {
   "cell_type": "code",
   "execution_count": 3,
   "metadata": {
    "collapsed": true
   },
   "outputs": [],
   "source": [
    "x = [-0.9, 0, 0.9, 1.8, 2.7, 3.6]\n",
    "y = [-0.36892, 0, 0.36892, 0.85408, 1.7856, 6.3138]\n",
    "k0 = len(x)\n",
    "k1 = k2 = k3 = k4 = k5 = k6 = k7 = k8 = k9 = k10 = 0"
   ]
  },
  {
   "cell_type": "code",
   "execution_count": 4,
   "metadata": {
    "collapsed": true
   },
   "outputs": [],
   "source": [
    "for i in range(k0):\n",
    "    k1 += x[i]\n",
    "    k2 += pow(x[i], 2)\n",
    "    k3 += pow(x[i], 3)\n",
    "    k4 += pow(x[i], 4)\n",
    "    k5 += pow(x[i], 5)\n",
    "    k6 += pow(x[i], 6)\n",
    "    k7 += y[i]\n",
    "    k8 += x[i] * y[i]\n",
    "    k9 += pow(x[i], 2) * y[i]\n",
    "    k10 += pow(x[i], 3) * y[i]"
   ]
  },
  {
   "cell_type": "code",
   "execution_count": 5,
   "metadata": {},
   "outputs": [
    {
     "name": "stdout",
     "output_type": "stream",
     "text": [
      "1.24620825396825*x - 0.190134476190476\n"
     ]
    }
   ],
   "source": [
    "a = (k0 * k8 - k1 * k7) / (k2 * k0 - k1 * k1);\n",
    "b = (k7 - k1 * a) / k0;\n",
    "pol1 = a * q + b\n",
    "print(pol1)"
   ]
  },
  {
   "cell_type": "code",
   "execution_count": 6,
   "metadata": {},
   "outputs": [
    {
     "name": "stdout",
     "output_type": "stream",
     "text": [
      "0.508086419753087*x**2 - 0.125625079365085*x - 0.464501142857138\n"
     ]
    }
   ],
   "source": [
    "a = ((k2 * k9 - k8 * k3) * (k1 * k2 - k0 * k3) - (k9 * k1 - k7 * k3) * (k2 * k2 - k1 * k3)) / ((k4 * k2 - k3 * k3) * (k1 * k2 - k0 * k3) - (k1 * k4 - k2 * k3) * (k2 * k2 - k1 * k3))\n",
    "c = (a * (k3 * k3 - k4 * k2) + k2 * k9 - k8 * k3) / (k2 * k2 - k1 * k3)\n",
    "b = (k7 - k0 * c - k2 * a) / k1\n",
    "pol2 = a * q * q + b * q + c\n",
    "print(pol2)"
   ]
  },
  {
   "cell_type": "code",
   "execution_count": 7,
   "metadata": {},
   "outputs": [
    {
     "name": "stdout",
     "output_type": "stream",
     "text": [
      "0.240991718742063*x**3 - 0.46793004115227*x**2 + 0.20622051734274*x + 0.27336730158731\n"
     ]
    }
   ],
   "source": [
    "res1 = (k6 * k2 - k5 * k3) * (k2 * k0 - k1 * k1) - (k4 * k0 - k3 * k1) * (k4 * k2 - k3 * k3)\n",
    "res2 = (k5 * k2 - k4 * k3) * (k2 * k0 - k1 * k1) - (k3 * k0 - k2 * k1) * (k4 * k2 - k3 * k3)\n",
    "res3 = (k10 * k2 - k9 * k3) * (k2 * k0 - k1 * k1) - (k8 * k0 - k7 * k1) * (k4 * k2 - k3 * k3)\n",
    "res4 = (k5 * k0 - k3 * k2) * (k4 * k1 - k2 * k3) - (k6 * k1 - k4 * k3) * (k3 * k0 - k1 * k2)\n",
    "res5 = (k4 * k0 - k2 * k2) * (k4 * k1 - k2 * k3) - (k5 * k1 - k3 * k3) * (k3 * k0 - k1 * k2)\n",
    "res6 = (k9 * k0 - k7 * k2) * (k4 * k1 - k2 * k3) - (k10 * k1 - k8 * k3) * (k3 * k0 - k1 * k2)\n",
    "a = (res3 * res5 - res6 * res2) / (res1 * res5 - res2 * res4)\n",
    "b = (res6 - a * res4) / res5\n",
    "c = ((k9 * k0 - k7 * k2) - a * (k5 * k0 - k3 * k2) - b * (k4 * k0 - k2 * k2)) / (k3 * k0 - k1 * k2)\n",
    "d = (k10 - k4 * c - k5 * b - k6 * a) / k3\n",
    "pol3 = a * q * q * q + b * q * q + c * q + d\n",
    "print(pol3)"
   ]
  },
  {
   "cell_type": "code",
   "execution_count": 8,
   "metadata": {
    "collapsed": true
   },
   "outputs": [],
   "source": [
    "x_pol = []\n",
    "y_pol1 = []\n",
    "y_pol2 = []\n",
    "y_pol3 = []"
   ]
  },
  {
   "cell_type": "code",
   "execution_count": 9,
   "metadata": {
    "collapsed": true
   },
   "outputs": [],
   "source": [
    "for i in range(500):\n",
    "    x_pol.append(-1.0 + i/100)\n",
    "    y_pol1.append(pol1.subs(q, x_pol[i]))\n",
    "    y_pol2.append(pol2.subs(q, x_pol[i]))\n",
    "    y_pol3.append(pol3.subs(q, x_pol[i]))"
   ]
  },
  {
   "cell_type": "code",
   "execution_count": 10,
   "metadata": {},
   "outputs": [
    {
     "data": {
      "image/png": "[encoded data removed]",
      "text/plain": [
       "<matplotlib.figure.Figure at 0x1d8a7f5a898>"
      ]
     },
     "metadata": {},
     "output_type": "display_data"
    }
   ],
   "source": [
    "plt.title('Polynoms')\n",
    "plt.grid(True)\n",
    "plt.scatter(x, y, color='red')\n",
    "plt.plot(x_pol, y_pol1, color='blue')\n",
    "plt.plot(x_pol, y_pol2, color='green')\n",
    "plt.plot(x_pol, y_pol3, color='orange')\n",
    "plt.show()"
   ]
  },
  {
   "cell_type": "code",
   "execution_count": 11,
   "metadata": {},
   "outputs": [
    {
     "name": "stdout",
     "output_type": "stream",
     "text": [
      "8.67902239536762 2.35574870203429 0.355728876825396\n"
     ]
    }
   ],
   "source": [
    "sum1 = sum2 = sum3 = 0\n",
    "for i in range(k0):\n",
    "    sum1 += pow(y[i] - pol1.subs(q, x[i]), 2)\n",
    "    sum2 += pow(y[i] - pol2.subs(q, x[i]), 2)\n",
    "    sum3 += pow(y[i] - pol3.subs(q, x[i]), 2)\n",
    "print(sum1, sum2, sum3)"
   ]
  },
  {
   "cell_type": "code",
   "execution_count": 12,
   "metadata": {},
   "outputs": [
    {
     "name": "stdout",
     "output_type": "stream",
     "text": [
      "0.942801904761904  0.190134476190476  0.562532952380953  1.19896038095238  1.38902780952381  2.01758476190476\n",
      "0.429031428571439  0.464501142857138  0.534933714285714  0.101493714285711  1.11466114285714  0.645751428571436\n",
      "0.0980174603174594  0.273367301587310  0.113294603174599  0.320145396825399  0.376792698412693  0.118702539682534\n"
     ]
    }
   ],
   "source": [
    "err_pol1 = []\n",
    "err_pol2 = []\n",
    "err_pol3 = []\n",
    "for i in range(k0):\n",
    "    err_pol1.append(abs(y[i] - pol1.subs(q, x[i])))\n",
    "    err_pol2.append(abs(y[i] - pol2.subs(q, x[i])))\n",
    "    err_pol3.append(abs(y[i] - pol3.subs(q, x[i])))\n",
    "print('  '.join(map(str, err_pol1)))\n",
    "print('  '.join(map(str, err_pol2)))\n",
    "print('  '.join(map(str, err_pol3)))"
   ]
  },
  {
   "cell_type": "code",
   "execution_count": 13,
   "metadata": {},
   "outputs": [
    {
     "name": "stdout",
     "output_type": "stream",
     "text": [
      "0.527048888888898\n",
      "0.737868444444448\n",
      "0.421639111111115\n",
      "0.421639111111110\n",
      "0.737868444444444\n",
      "0.527048888888902\n"
     ]
    }
   ],
   "source": [
    "for i in range(k0):\n",
    "    print(abs(pol2.subs(q, x[i]) - pol3.subs(q, x[i])))"
   ]
  },
  {
   "cell_type": "code",
   "execution_count": null,
   "metadata": {
    "collapsed": true
   },
   "outputs": [],
   "source": []
  }
 ],
 "metadata": {
  "kernelspec": {
   "display_name": "Python 3",
   "language": "python",
   "name": "python3"
  },
  "language_info": {
   "codemirror_mode": {
    "name": "ipython",
    "version": 3
   },
   "file_extension": ".py",
   "mimetype": "text/x-python",
   "name": "python",
   "nbconvert_exporter": "python",
   "pygments_lexer": "ipython3",
   "version": "3.6.3"
  }
 },
 "nbformat": 4,
 "nbformat_minor": 2
}
