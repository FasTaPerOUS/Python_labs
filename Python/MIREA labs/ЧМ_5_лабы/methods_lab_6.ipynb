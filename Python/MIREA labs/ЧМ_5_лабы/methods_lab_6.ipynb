{
 "cells": [
  {
   "cell_type": "code",
   "execution_count": 10,
   "metadata": {
    "collapsed": true
   },
   "outputs": [],
   "source": [
    "import sympy\n",
    "import numpy\n",
    "import matplotlib.pyplot as plt\n",
    "x = sympy.symbols('x')"
   ]
  },
  {
   "cell_type": "code",
   "execution_count": 11,
   "metadata": {
    "collapsed": true
   },
   "outputs": [],
   "source": [
    "y = x / ((3*x + 4) ** 2)\n",
    "a = 0\n",
    "b = 4.0\n",
    "h = 1.0"
   ]
  },
  {
   "cell_type": "code",
   "execution_count": 12,
   "metadata": {},
   "outputs": [
    {
     "name": "stdout",
     "output_type": "stream",
     "text": [
      "0.0  1.0  2.0  3.0  4.0\n"
     ]
    }
   ],
   "source": [
    "arr_x = []\n",
    "z = 0\n",
    "while (a + z * h <= b):\n",
    "    arr_x.append(a + h * z)\n",
    "    z += 1\n",
    "print('  '.join(map(str, arr_x)))"
   ]
  },
  {
   "cell_type": "code",
   "execution_count": 13,
   "metadata": {},
   "outputs": [
    {
     "name": "stdout",
     "output_type": "stream",
     "text": [
      "Интеграл методом трапеций равен = 0.0659721425552469\n"
     ]
    }
   ],
   "source": [
    "trap_sum = (y.subs(x, arr_x[0]) + y.subs(x, arr_x[len(arr_x) - 1])) / 2\n",
    "for i in range(1, len(arr_x) - 1):\n",
    "    trap_sum += y.subs(x, arr_x[i])\n",
    "trap_sum *= h\n",
    "print(\"Интеграл методом трапеций равен = \", trap_sum, sep = '')"
   ]
  },
  {
   "cell_type": "code",
   "execution_count": 14,
   "metadata": {},
   "outputs": [
    {
     "name": "stdout",
     "output_type": "stream",
     "text": [
      "0.0  0.5  1.0  1.5  2.0  2.5  3.0  3.5  4.0\n"
     ]
    }
   ],
   "source": [
    "arr_x_simps = []\n",
    "z = 0\n",
    "while (a + z * (h / 2) <= b):\n",
    "    arr_x_simps.append(a + h / 2 * z)\n",
    "    z += 1\n",
    "print('  '.join(map(str, arr_x_simps)))"
   ]
  },
  {
   "cell_type": "code",
   "execution_count": 15,
   "metadata": {},
   "outputs": [
    {
     "name": "stdout",
     "output_type": "stream",
     "text": [
      "Интеграл методом Симпсона = 0.0705511221626112\n"
     ]
    }
   ],
   "source": [
    "simps_sum = y.subs(x,arr_x_simps[0]) + y.subs(x,arr_x_simps[len(arr_x_simps) - 1])\n",
    "for i in range(1, len(arr_x_simps) - 1):\n",
    "    if i % 2:\n",
    "        simps_sum += 4 * y.subs(x,arr_x_simps[i])\n",
    "    else:\n",
    "        simps_sum += 2 * y.subs(x,arr_x_simps[i])\n",
    "simps_sum *= h / 6\n",
    "print(\"Интеграл методом Симпсона = \", simps_sum, sep = '')"
   ]
  },
  {
   "cell_type": "code",
   "execution_count": 16,
   "metadata": {},
   "outputs": [
    {
     "name": "stdout",
     "output_type": "stream",
     "text": [
      "Интеграл методом левых прямоугольников = 0.0581596425552470\n",
      "Интеграл методом правых прямоугольников = 0.0737846425552469\n",
      "Интеграл методом средних прямоугольников = 0.0728406119662933\n"
     ]
    }
   ],
   "source": [
    "left_rec_sum = 0\n",
    "right_rec_sum = 0\n",
    "middle_rec_sum = 0\n",
    "for i in range(1, len(arr_x) - 1):\n",
    "    left_rec_sum += y.subs(x, arr_x[i])\n",
    "    right_rec_sum += y.subs(x, arr_x[i])\n",
    "    middle_rec_sum += y.subs(x, arr_x[i] + h / 2)\n",
    "left_rec_sum = (left_rec_sum + y.subs(x, arr_x[0])) * h\n",
    "right_rec_sum = (right_rec_sum + y.subs(x, arr_x[len(arr_x) - 1])) * h\n",
    "middle_rec_sum = (middle_rec_sum + y.subs(x, arr_x[0] + h / 2)) * h\n",
    "print(\"Интеграл методом левых прямоугольников = \", left_rec_sum, sep = '')\n",
    "print(\"Интеграл методом правых прямоугольников = \", right_rec_sum, sep = '')\n",
    "print(\"Интеграл методом средних прямоугольников = \", middle_rec_sum, sep = '')"
   ]
  },
  {
   "cell_type": "code",
   "execution_count": 17,
   "metadata": {
    "collapsed": true
   },
   "outputs": [],
   "source": [
    "#погрешность по правилу рунге\n",
    "simps_sum1 = simps_sum\n",
    "left_rec_sum1 = left_rec_sum\n",
    "right_rec_sum1 = right_rec_sum\n",
    "middle_rec_sum1 = middle_rec_sum\n",
    "trap_sum1 = trap_sum"
   ]
  },
  {
   "cell_type": "code",
   "execution_count": 18,
   "metadata": {},
   "outputs": [
    {
     "name": "stdout",
     "output_type": "stream",
     "text": [
      "Симпсон: 0.0705511221626112\n",
      "Трапеция: 0.0659721425552469\n",
      "Средний прямоугольник: 0.0728406119662933\n"
     ]
    }
   ],
   "source": [
    "print(\"Симпсон: \", simps_sum1 + (simps_sum - simps_sum1) / 15, sep = '')\n",
    "print(\"Трапеция: \", trap_sum1 + (trap_sum - trap_sum1) / 3, sep = '')\n",
    "print(\"Средний прямоугольник: \", middle_rec_sum1 + (middle_rec_sum - middle_rec_sum1) / 3, sep = '')"
   ]
  },
  {
   "cell_type": "code",
   "execution_count": null,
   "metadata": {
    "collapsed": true
   },
   "outputs": [],
   "source": []
  },
  {
   "cell_type": "code",
   "execution_count": null,
   "metadata": {
    "collapsed": true
   },
   "outputs": [],
   "source": []
  }
 ],
 "metadata": {
  "kernelspec": {
   "display_name": "Python 3",
   "language": "python",
   "name": "python3"
  },
  "language_info": {
   "codemirror_mode": {
    "name": "ipython",
    "version": 3
   },
   "file_extension": ".py",
   "mimetype": "text/x-python",
   "name": "python",
   "nbconvert_exporter": "python",
   "pygments_lexer": "ipython3",
   "version": "3.6.3"
  }
 },
 "nbformat": 4,
 "nbformat_minor": 2
}
