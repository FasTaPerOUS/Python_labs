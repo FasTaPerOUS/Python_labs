{
 "cells": [
  {
   "cell_type": "code",
   "execution_count": 6,
   "metadata": {
    "collapsed": true
   },
   "outputs": [],
   "source": [
    "import numpy as np\n",
    "import sympy\n",
    "x = sympy.symbols('x')"
   ]
  },
  {
   "cell_type": "code",
   "execution_count": 3,
   "metadata": {
    "collapsed": true
   },
   "outputs": [],
   "source": [
    "a1 = np.array([[-5, -6, 4, -2, 64], [0, 3, -4, -6, -55], [2, 4, -4, 2, -48], [1, -8, 2, 8, 68]]).astype(np.float64)\n",
    "a2 = np.array([[-2, -9, -3, 7, -26], [-7, 2, 2, 5, -25], [-6, 2, 0, 0, -16], [0, -3, 8, -3, -5]]).astype(np.float64)\n",
    "a3 = np.array([[-2, -1, -9, -5, 93], [-4, 4, -2, 6, 16], [0, 5, 7, -4, -80], [0, 9, 7, 7, -119]]).astype(np.float64)\n",
    "a4 = np.array([[1, 4, -9, 7, -67], [2, -2, -2, 3, -57], [-1, 3, -9, -1, -26], [-5, 2, 2, 1, 52]]).astype(np.float64)\n",
    "a5 = np.array([[9, -7, -1, 1, 55], [2, 7, 3, -6, -66], [4, 7, -3, -7, -43], [-9, -5, -1, -6, -24]]).astype(np.float64)\n",
    "a6 = np.array([[-5, 2, 4, -4, 57], [4, 9, -7, -5, -23], [0, -5, 6, 7, 23], [4, 8, -6, -6, -20]]).astype(np.float64)\n",
    "a = [a1, a2, a3, a4, a5, a6]"
   ]
  },
  {
   "cell_type": "code",
   "execution_count": 23,
   "metadata": {
    "collapsed": true
   },
   "outputs": [],
   "source": [
    "def gauss(x):\n",
    "    for i in range(len(x)):\n",
    "        for j in range(i, len(x)):\n",
    "            if (j == i):\n",
    "                max_el = abs(x[i][j])\n",
    "                index = i\n",
    "                for z in range(j, len(x)):\n",
    "                    if (max_el < abs(x[z][j])):\n",
    "                        max_el = abs(x[z][j])\n",
    "                        index = z\n",
    "                x[i], x[index] == x[index], x[i]\n",
    "                x[i] /= x[j][i]\n",
    "            else:\n",
    "                x[j] -= x[i] * (x[j][i])\n",
    "    for i in range(len(x) - 1, -1, -1):\n",
    "        for j in range(i - 1, -1, -1):\n",
    "            x[j] -= x[i] * (x[j][i])\n",
    "    for i in range(len(x)):\n",
    "        print (\"x\", i + 1, \" = \", x[i][len(x[i]) - 1], sep = \"\")"
   ]
  },
  {
   "cell_type": "code",
   "execution_count": 4,
   "metadata": {},
   "outputs": [
    {
     "name": "stdout",
     "output_type": "stream",
     "text": [
      "x1 = -2.0\n",
      "x2 = -5.0\n",
      "x3 = 7.0\n",
      "x4 = 2.0\n"
     ]
    }
   ],
   "source": [
    "gauss(a[0])"
   ]
  },
  {
   "cell_type": "code",
   "execution_count": 25,
   "metadata": {},
   "outputs": [
    {
     "name": "stdout",
     "output_type": "stream",
     "text": [
      "[[  1.    4.5   1.5  -3.5  13. ]\n",
      " [  0.   33.5  12.5 -19.5  66. ]\n",
      " [  0.   29.    9.  -21.   62. ]\n",
      " [  0.   -3.    8.   -3.   -5. ]]\n",
      "[[  1.           4.5          1.5         -3.5         13.        ]\n",
      " [  0.           1.           0.37313433  -0.58208955   1.97014925]\n",
      " [  0.           0.          -1.82089552  -4.11940299   4.86567164]\n",
      " [  0.           0.           9.11940299  -4.74626866   0.91044776]]\n",
      "[[  1.           4.5          1.5         -3.5         13.        ]\n",
      " [  0.           1.           0.37313433  -0.58208955   1.97014925]\n",
      " [ -0.          -0.           1.           2.26229508  -2.67213115]\n",
      " [  0.           0.           0.         -25.37704918  25.27868852]]\n",
      "[[  1.           4.5          1.5         -3.5         13.        ]\n",
      " [  0.           1.           0.37313433  -0.58208955   1.97014925]\n",
      " [ -0.          -0.           1.           2.26229508  -2.67213115]\n",
      " [ -0.          -0.          -0.           1.          -0.99612403]]\n",
      "x1 = 3.18217054264\n",
      "x2 = 1.54651162791\n",
      "x3 = -0.418604651163\n",
      "x4 = -0.996124031008\n"
     ]
    }
   ],
   "source": [
    "gauss(a[1])"
   ]
  },
  {
   "cell_type": "code",
   "execution_count": 5,
   "metadata": {},
   "outputs": [
    {
     "name": "stdout",
     "output_type": "stream",
     "text": [
      "x1 = -9.0\n",
      "x2 = -7.0\n",
      "x3 = -7.0\n",
      "x4 = -1.0\n"
     ]
    }
   ],
   "source": [
    "gauss(a[2])"
   ]
  },
  {
   "cell_type": "code",
   "execution_count": 17,
   "metadata": {},
   "outputs": [
    {
     "name": "stdout",
     "output_type": "stream",
     "text": [
      "x1 = -5.0\n",
      "x2 = 9.0\n",
      "x3 = 7.0\n",
      "x4 = -5.0\n"
     ]
    }
   ],
   "source": [
    "gauss(a[3])"
   ]
  },
  {
   "cell_type": "code",
   "execution_count": 18,
   "metadata": {},
   "outputs": [
    {
     "name": "stdout",
     "output_type": "stream",
     "text": [
      "x1 = 2.0\n",
      "x2 = -4.0\n",
      "x3 = -4.0\n",
      "x4 = 5.0\n"
     ]
    }
   ],
   "source": [
    "gauss(a[4])"
   ]
  },
  {
   "cell_type": "code",
   "execution_count": 19,
   "metadata": {},
   "outputs": [
    {
     "name": "stdout",
     "output_type": "stream",
     "text": [
      "x1 = -3.0\n",
      "x2 = 5.0\n",
      "x3 = 8.0\n",
      "x4 = -0.0\n"
     ]
    }
   ],
   "source": [
    "gauss(a[5])"
   ]
  },
  {
   "cell_type": "code",
   "execution_count": 1,
   "metadata": {
    "collapsed": true
   },
   "outputs": [],
   "source": [
    "def gauss(x):\n",
    "    for i in range(len(x)):\n",
    "        b = 0\n",
    "        for j in range(i, len(x)):\n",
    "            if (b == 1): break\n",
    "            if (j == i):\n",
    "                for z in range(i, len(x)):\n",
    "                    if (x[z][i] != 0):\n",
    "                        x[z] /= x[z][i]\n",
    "                        x[z], x[i] = x[i], x[z]\n",
    "                        break\n",
    "                    if (z == len(x) - 1):\n",
    "                        b = 1\n",
    "            else:\n",
    "                x[j] -= x[i] * (x[j][i])\n",
    "    #print(x)\n",
    "    for i in range(len(x) - 1, -1, -1):\n",
    "        for j in range(i - 1, -1, -1):\n",
    "            x[j] -= x[i] * (x[j][i])\n",
    "    #print(x)\n",
    "    for i in range(len(x)):\n",
    "        print (\"x\", i + 1, \" = \", x[i][len(x[i]) - 1], sep = \"\")"
   ]
  },
  {
   "cell_type": "code",
   "execution_count": null,
   "metadata": {
    "collapsed": true
   },
   "outputs": [],
   "source": []
  }
 ],
 "metadata": {
  "kernelspec": {
   "display_name": "Python 3",
   "language": "python",
   "name": "python3"
  },
  "language_info": {
   "codemirror_mode": {
    "name": "ipython",
    "version": 3
   },
   "file_extension": ".py",
   "mimetype": "text/x-python",
   "name": "python",
   "nbconvert_exporter": "python",
   "pygments_lexer": "ipython3",
   "version": "3.6.3"
  }
 },
 "nbformat": 4,
 "nbformat_minor": 2
}
