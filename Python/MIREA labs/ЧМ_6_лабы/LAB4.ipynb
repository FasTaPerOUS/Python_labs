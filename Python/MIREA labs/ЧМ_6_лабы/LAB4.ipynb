{
 "cells": [
  {
   "cell_type": "code",
   "execution_count": 106,
   "metadata": {
    "collapsed": true
   },
   "outputs": [],
   "source": [
    "import sympy\n",
    "import math\n",
    "x = sympy.symbols('x')\n",
    "function = x ** 6 - 5 * x - 2"
   ]
  },
  {
   "cell_type": "code",
   "execution_count": 107,
   "metadata": {
    "collapsed": true
   },
   "outputs": [],
   "source": [
    "a = -0.9\n",
    "b = 0.9\n",
    "eps = 0.00000001"
   ]
  },
  {
   "cell_type": "code",
   "execution_count": 108,
   "metadata": {
    "collapsed": true
   },
   "outputs": [],
   "source": [
    "def half(f, a, b, eps):\n",
    "    aa = a\n",
    "    bb = b\n",
    "    while(bb - aa > eps):\n",
    "        c = (aa + bb) / 2\n",
    "        if (f.subs(x, c) * f.subs(x, bb) < 0):\n",
    "            aa = c\n",
    "        else:\n",
    "            bb = c\n",
    "    print(\"x =\", (aa + bb) / 2)\n",
    "    #print(\"CHECK: \", f, \"- -\", f.subs(x, (aa + bb) / 2))"
   ]
  },
  {
   "cell_type": "code",
   "execution_count": 109,
   "metadata": {},
   "outputs": [
    {
     "name": "stdout",
     "output_type": "stream",
     "text": [
      "x = -0.3991906967014075\n"
     ]
    }
   ],
   "source": [
    "half(function, a, b, eps)"
   ]
  },
  {
   "cell_type": "code",
   "execution_count": 110,
   "metadata": {},
   "outputs": [],
   "source": [
    "def it(f, a, b, eps):\n",
    "    newf = (x ** 6 - 2) / 5\n",
    "    x0 = 0\n",
    "    x1 = 0.5\n",
    "    while(abs(x1 - x0) > eps):\n",
    "        x0 = x1\n",
    "        x1 = newf.subs(x, x0)\n",
    "    print(x1)\n",
    "    #print(\"CHECK: \", f, \"- -\", f.subs(x, x1))"
   ]
  },
  {
   "cell_type": "code",
   "execution_count": 111,
   "metadata": {
    "scrolled": true
   },
   "outputs": [
    {
     "name": "stdout",
     "output_type": "stream",
     "text": [
      "-0.399190694528434\n"
     ]
    }
   ],
   "source": [
    "it(function, a, b, eps)"
   ]
  },
  {
   "cell_type": "code",
   "execution_count": 116,
   "metadata": {
    "collapsed": true
   },
   "outputs": [],
   "source": [
    "def newton(f, a, b, eps):\n",
    "    aa = -2\n",
    "    bb = -1\n",
    "    newf = sympy.diff(f)\n",
    "    #print(newf)\n",
    "    x0 = 0\n",
    "    x1 = aa + eps\n",
    "    while(abs(x1 - x0) > eps):\n",
    "        x0 = x1\n",
    "        x1 = x0 - f.subs(x, x0) / newf.subs(x, x0)\n",
    "    print(x1)\n",
    "    x0 = 0\n",
    "    x2 = aa + eps\n",
    "    while(abs(x2 - x0) > eps):\n",
    "        x0 = x2\n",
    "        x2 = x0 - f.subs(x, x0) / newf.subs(x, x0)\n",
    "        print((x2 - x1)/((x0 - x1) ** 2))\n",
    "    #print(\"CHECK: \", f, \"- -\", f.subs(x, x1))"
   ]
  },
  {
   "cell_type": "code",
   "execution_count": 117,
   "metadata": {},
   "outputs": [
    {
     "name": "stdout",
     "output_type": "stream",
     "text": [
      "-0.399190694578413\n",
      "-0.482061847599736\n",
      "-0.588956979190899\n",
      "-0.689162197629699\n",
      "-0.628590921469184\n",
      "-0.225351036103905\n",
      "-0.0795624484027915\n",
      "-0.0752673461786642\n",
      "0\n"
     ]
    }
   ],
   "source": [
    "newton(function, a, b, eps)"
   ]
  },
  {
   "cell_type": "code",
   "execution_count": 114,
   "metadata": {
    "collapsed": true
   },
   "outputs": [],
   "source": [
    "def mod_newton(f, a, b, eps):\n",
    "    aa = -55\n",
    "    bb = -44\n",
    "    x0 = aa + eps\n",
    "    x1 = bb - eps\n",
    "    x2 = x1 - f.subs(x, x1) / (f.subs(x, x1) - f.subs(x, x0)) * (x1 - x0)\n",
    "    while(abs(x2 - x1) > eps):\n",
    "        x0 = x1\n",
    "        x1 = x2\n",
    "        x2 = x1 - f.subs(x, x1) / (f.subs(x, x1) - f.subs(x, x0)) * (x1 - x0)\n",
    "    print(x2)\n",
    "    #print(\"CHECK: \", f, \"- -\", f.subs(x, x2))"
   ]
  },
  {
   "cell_type": "code",
   "execution_count": 115,
   "metadata": {},
   "outputs": [
    {
     "name": "stdout",
     "output_type": "stream",
     "text": [
      "-0.399190694578426\n"
     ]
    }
   ],
   "source": [
    "mod_newton(function, a, b, eps)"
   ]
  },
  {
   "cell_type": "code",
   "execution_count": null,
   "metadata": {
    "collapsed": true
   },
   "outputs": [],
   "source": []
  }
 ],
 "metadata": {
  "kernelspec": {
   "display_name": "Python 3",
   "language": "python",
   "name": "python3"
  },
  "language_info": {
   "codemirror_mode": {
    "name": "ipython",
    "version": 3
   },
   "file_extension": ".py",
   "mimetype": "text/x-python",
   "name": "python",
   "nbconvert_exporter": "python",
   "pygments_lexer": "ipython3",
   "version": "3.6.3"
  }
 },
 "nbformat": 4,
 "nbformat_minor": 2
}
