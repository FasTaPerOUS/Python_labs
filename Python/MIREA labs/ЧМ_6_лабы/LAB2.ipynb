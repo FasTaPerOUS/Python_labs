{
 "cells": [
  {
   "cell_type": "code",
   "execution_count": 1,
   "metadata": {
    "collapsed": true
   },
   "outputs": [],
   "source": [
    "import numpy as np"
   ]
  },
  {
   "cell_type": "code",
   "execution_count": 2,
   "metadata": {
    "collapsed": true
   },
   "outputs": [],
   "source": [
    "a1 = np.array([[12, -5, 0, 0, 0, 148], [-3, -18, -8, 0, 0, 45], [0, -2, -16, -9, 0, -155], \n",
    "               [0, 0, -4, 18, -7, 11], [0, 0, 0, 4, -9, 3]]).astype(np.float64)\n",
    "a2 = np.array([[-12, -7, 0, 0, 0, -102], [-7, -11, -3, 0, 0, -92], [0, -7, 21, -8, 0, -65], \n",
    "               [0, 0, 4, -13, 5, 38], [0, 0, 0, -6, 14, -12]]).astype(np.float64)\n",
    "a3 = np.array([[-6, 3, 0, 0, 0, -33], [6, -23, -9, 0, 0, -107], [0, 2, -7, -1, 0, 18], \n",
    "               [0, 0, 5, 15, -9, -69], [0, 0, 0, 1, -9, 69]]).astype(np.float64)\n",
    "a4 = np.array([[16, -9, 0, 0, 0, -27], [8, -13, -5, 0, 0, -84], [0, -3, -21, 9, 0, -225], \n",
    "               [0, 0, -9, 16, -5, -89], [0, 0, 0, 1, -9, 69]]).astype(np.float64)\n",
    "a5 = np.array([[-11, 9, 0, 0, 0, -158], [0, -8, -6, 0, 0, 66], [0, 6, 15, -2, 0, -45], \n",
    "               [0, 0, 4, 6, -1, 24], [0, 0, 0, -7, -10, -1]]).astype(np.float64)\n",
    "a6 = np.array([[6, 3, 0, 0, 0, 0], [-9, -17, 3, 0, 0, -99], [0, -3, 12, -7, 0, -107], \n",
    "               [0, 0, 2, -9, -6, 5], [0, 0, 0, -4, 5, -6]]).astype(np.float64)\n",
    "a = [a1, a2, a3, a4, a5, a6]"
   ]
  },
  {
   "cell_type": "code",
   "execution_count": 3,
   "metadata": {
    "collapsed": true
   },
   "outputs": [],
   "source": [
    "def reverse_arr(z):\n",
    "    z.reverse()\n",
    "    return z"
   ]
  },
  {
   "cell_type": "code",
   "execution_count": 4,
   "metadata": {
    "collapsed": true
   },
   "outputs": [],
   "source": [
    "def running_coef(x):\n",
    "    P = []\n",
    "    for i in range(len(x)):\n",
    "        if (i == 0):\n",
    "            P.append(-x[i][i + 1] / x[i][i])\n",
    "        elif (i == len(x) - 1):\n",
    "            P.append(0)\n",
    "        else:\n",
    "            P.append(-x[i][i + 1] / (x[i][i] + x[i][i - 1] * P[-1]))\n",
    "    #print(P)\n",
    "    Q = []\n",
    "    for i in range(len(x)):\n",
    "        if (i == 0):\n",
    "            Q.append(x[i][-1] / x[i][i])\n",
    "        else:\n",
    "            Q.append((x[i][-1] - x[i][i - 1] * Q[-1]) / (x[i][i] + x[i][i - 1] * P[i - 1]))\n",
    "    #print(Q)\n",
    "    X = []\n",
    "    for i in range(len(x) - 1, -1, -1):\n",
    "        if (i == len(x) - 1):\n",
    "            X.append(Q[i])\n",
    "        else:\n",
    "            X.append(P[i] * X[-1] + Q[i])\n",
    "    reverse_arr(X)\n",
    "    #print(X)\n",
    "    print(Q)\n",
    "    print(P)\n",
    "    for i in range(len(X)):\n",
    "        print(\"x\", i + 1, \" = \", X[i], sep = \"\")"
   ]
  },
  {
   "cell_type": "code",
   "execution_count": 5,
   "metadata": {},
   "outputs": [
    {
     "name": "stdout",
     "output_type": "stream",
     "text": [
      "[12.333333333333334, -4.2597402597402594, 10.779965753424657, 2.6564128424945368, 1.0]\n",
      "[0.41666666666666669, -0.41558441558441561, -0.59332191780821919, 0.34358715750546309, 0]\n",
      "x1 = 9.0\n",
      "x2 = -8.0\n",
      "x3 = 9.0\n",
      "x4 = 3.0\n",
      "x5 = 1.0\n"
     ]
    }
   ],
   "source": [
    "running_coef(a[0])"
   ]
  },
  {
   "cell_type": "code",
   "execution_count": 6,
   "metadata": {},
   "outputs": [
    {
     "name": "stdout",
     "output_type": "stream",
     "text": [
      "[8.5, 4.6987951807228923, -1.3358395989974934, -3.7145066368830273, -2.9999999999999996]\n",
      "[-0.58333333333333337, -0.43373493975903621, 0.3328320802005012, 0.42849778770565744, 0]\n",
      "x1 = 5.0\n",
      "x2 = 6.0\n",
      "x3 = -3.0\n",
      "x4 = -5.0\n",
      "x5 = -3.0\n"
     ]
    }
   ],
   "source": [
    "running_coef(a[1])"
   ]
  },
  {
   "cell_type": "code",
   "execution_count": 7,
   "metadata": {},
   "outputs": [
    {
     "name": "stdout",
     "output_type": "stream",
     "text": [
      "[5.5, 7.0, -0.50632911392405056, -4.6264317180616743, -8.7927188552188547]\n",
      "[0.5, -0.45000000000000001, -0.12658227848101264, 0.62643171806167397, 0]\n",
      "x1 = 8.82528409091\n",
      "x2 = 6.65056818182\n",
      "x3 = 0.776515151515\n",
      "x4 = -10.134469697\n",
      "x5 = -8.79271885522\n"
     ]
    }
   ],
   "source": [
    "running_coef(a[2])"
   ]
  },
  {
   "cell_type": "code",
   "execution_count": 8,
   "metadata": {},
   "outputs": [
    {
     "name": "stdout",
     "output_type": "stream",
     "text": [
      "[-1.6875, 8.2941176470588243, 10.403669724770642, 0.39299610894941606, -8.0]\n",
      "[0.5625, -0.58823529411764708, 0.46788990825688076, 0.42412451361867698, 0]\n",
      "x1 = 4.4408920985e-16\n",
      "x2 = 3.0\n",
      "x3 = 9.0\n",
      "x4 = -3.0\n",
      "x5 = -8.0\n"
     ]
    }
   ],
   "source": [
    "running_coef(a[3])"
   ]
  },
  {
   "cell_type": "code",
   "execution_count": 9,
   "metadata": {},
   "outputs": [
    {
     "name": "stdout",
     "output_type": "stream",
     "text": [
      "[14.363636363636363, -8.25, 0.42857142857142855, 3.295774647887324, -2.0]\n",
      "[0.81818181818181823, -0.75, 0.19047619047619047, 0.14788732394366197, 0]\n",
      "x1 = 7.0\n",
      "x2 = -9.0\n",
      "x3 = 1.0\n",
      "x4 = 3.0\n",
      "x5 = -2.0\n"
     ]
    }
   ],
   "source": [
    "running_coef(a[4])"
   ]
  },
  {
   "cell_type": "code",
   "execution_count": 10,
   "metadata": {},
   "outputs": [
    {
     "name": "stdout",
     "output_type": "stream",
     "text": [
      "[0.0, 7.9199999999999999, -7.379432624113476, -2.5466179159049367, -2.0000000000000004]\n",
      "[-0.5, 0.23999999999999999, 0.62056737588652489, -0.77330895795246801, 0]\n",
      "x1 = -3.0\n",
      "x2 = 6.0\n",
      "x3 = -8.0\n",
      "x4 = -1.0\n",
      "x5 = -2.0\n"
     ]
    }
   ],
   "source": [
    "running_coef(a[5])"
   ]
  },
  {
   "cell_type": "code",
   "execution_count": null,
   "metadata": {
    "collapsed": true
   },
   "outputs": [],
   "source": []
  },
  {
   "cell_type": "code",
   "execution_count": null,
   "metadata": {
    "collapsed": true
   },
   "outputs": [],
   "source": []
  }
 ],
 "metadata": {
  "kernelspec": {
   "display_name": "Python 3",
   "language": "python",
   "name": "python3"
  },
  "language_info": {
   "codemirror_mode": {
    "name": "ipython",
    "version": 3
   },
   "file_extension": ".py",
   "mimetype": "text/x-python",
   "name": "python",
   "nbconvert_exporter": "python",
   "pygments_lexer": "ipython3",
   "version": "3.6.3"
  }
 },
 "nbformat": 4,
 "nbformat_minor": 2
}
