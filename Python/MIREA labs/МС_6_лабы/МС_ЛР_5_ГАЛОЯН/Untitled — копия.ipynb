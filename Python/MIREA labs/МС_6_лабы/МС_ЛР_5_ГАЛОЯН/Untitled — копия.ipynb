{
 "cells": [
  {
   "cell_type": "code",
   "execution_count": 1,
   "metadata": {
    "collapsed": true
   },
   "outputs": [],
   "source": [
    "from scipy import stats\n",
    "from collections import Counter\n",
    "import matplotlib.pyplot as plt\n",
    "import numpy as np\n",
    "import math"
   ]
  },
  {
   "cell_type": "code",
   "execution_count": 2,
   "metadata": {
    "collapsed": true
   },
   "outputs": [],
   "source": [
    "def arr_print(x):\n",
    "    for i in range(len(x)):\n",
    "        print(x[i], end = \"\\t\")\n",
    "        if (i % 10 == 9): print()"
   ]
  },
  {
   "cell_type": "code",
   "execution_count": 3,
   "metadata": {
    "collapsed": true
   },
   "outputs": [],
   "source": [
    "def matrix_print(x):\n",
    "    for i in range(len(x)):\n",
    "        print('\\t'.join(str(a) for a in x[i]))"
   ]
  },
  {
   "cell_type": "code",
   "execution_count": 4,
   "metadata": {
    "collapsed": true
   },
   "outputs": [],
   "source": [
    "def sample_mean(x, s):\n",
    "    z = 0.0\n",
    "    for i in range(len(x)):\n",
    "        z += x[i] ** s\n",
    "    return z / len(x)"
   ]
  },
  {
   "cell_type": "code",
   "execution_count": 5,
   "metadata": {
    "collapsed": true
   },
   "outputs": [],
   "source": [
    "def create_table_5_2(table, a, b):\n",
    "    N = len(a)\n",
    "    M = len(b)\n",
    "    x1_line = a.sum() / N\n",
    "    y1_line = b.sum() / M\n",
    "    a = np.power(a, 2)\n",
    "    b = np.power(b, 2)\n",
    "    x2_line = a.sum() / N\n",
    "    y2_line = b.sum() / M\n",
    "    S2_x = N / (N - 1) * (x2_line - x1_line ** 2)\n",
    "    S2_y = M / (M - 1) * (y2_line - y1_line ** 2)\n",
    "    T_nm = (x1_line - y1_line) / math.sqrt(S2_x * (N - 1) + S2_y * (M - 1)) * math.sqrt(M * N * (N + M - 2) / (N + M))\n",
    "    table.append([x1_line, y1_line, x2_line, y2_line, S2_x, S2_y, T_nm])"
   ]
  },
  {
   "cell_type": "code",
   "execution_count": 6,
   "metadata": {},
   "outputs": [
    {
     "data": {
      "text/plain": [
       "10"
      ]
     },
     "execution_count": 6,
     "metadata": {},
     "output_type": "execute_result"
    }
   ],
   "source": [
    "zxc = np.array([1,2,3,4])\n",
    "zxc.sum()"
   ]
  },
  {
   "cell_type": "code",
   "execution_count": 7,
   "metadata": {
    "collapsed": true
   },
   "outputs": [],
   "source": [
    "def check_5_2or4(first, second):\n",
    "    if abs(first) <= second: print(round(abs(first), 5), round(second, 5), \"ВЕРНА\", sep = '\\t')\n",
    "    else: print(round(abs(first), 5), round(second, 5), \"НЕВЕРНА\", sep = '\\t')"
   ]
  },
  {
   "cell_type": "code",
   "execution_count": 8,
   "metadata": {
    "collapsed": true
   },
   "outputs": [],
   "source": [
    "def create_table_5_3(table, x):\n",
    "    u_line = x.sum() / len(x) / len(x[0])\n",
    "    uj_line = []\n",
    "    for i in range(len(x)):\n",
    "        uj_line.append(x[i].sum() / len(x[i]))\n",
    "    S_total = 0\n",
    "    for i in range(len(x)):\n",
    "        for j in range(len(x[i])):\n",
    "            S_total += (x[i][j] - u_line) ** 2\n",
    "    table.append(S_total)\n",
    "    S_fact = 0\n",
    "    for i in range(len(uj_line)):\n",
    "        S_fact += (uj_line[i] - u_line) ** 2\n",
    "    S_fact *= len(x[0])\n",
    "    table.append(S_fact)\n",
    "    S_left = S_total - S_fact\n",
    "    table.append(S_left)\n",
    "    S2_fact = S_fact / (len(x) - 1)\n",
    "    table.append(S2_fact)\n",
    "    S2_left = S_left / len(x) / (len(x[0]) - 1)\n",
    "    table.append(S2_left)\n",
    "    F_n_m = S2_fact / S2_left\n",
    "    table.append(len(x) - 1)\n",
    "    table.append(len(x) * (len(x[0]) - 1))\n",
    "    table.append(F_n_m)"
   ]
  },
  {
   "cell_type": "code",
   "execution_count": 9,
   "metadata": {
    "collapsed": true
   },
   "outputs": [],
   "source": [
    "def create_table_5_4(table, a, b):\n",
    "    N = len(a)\n",
    "    M = len(b)\n",
    "    x1_line = a.sum() / N\n",
    "    y1_line = b.sum() / M\n",
    "    a = np.power(a, 2)\n",
    "    b = np.power(b, 2)\n",
    "    x2_line = a.sum() / N\n",
    "    y2_line = b.sum() / M\n",
    "    S2_x = N / (N - 1) * (x2_line - x1_line ** 2)\n",
    "    S2_y = M / (M - 1) * (y2_line - y1_line ** 2)\n",
    "    k1 = 0\n",
    "    k2 = 0\n",
    "    boof = [S2_x, S2_y]\n",
    "    S12 = max(boof)\n",
    "    S22 = min(boof)\n",
    "    F_n_m = S12 / S22\n",
    "    if S12 == S2_x: \n",
    "        k1 = N - 1\n",
    "        k2 = M - 1\n",
    "    else:\n",
    "        k1 = M - 1\n",
    "        k2 = N - 1\n",
    "    table.append([S12, S22, k1, k2, F_n_m])"
   ]
  },
  {
   "cell_type": "code",
   "execution_count": null,
   "metadata": {
    "collapsed": true
   },
   "outputs": [],
   "source": []
  },
  {
   "cell_type": "code",
   "execution_count": 10,
   "metadata": {
    "collapsed": true
   },
   "outputs": [],
   "source": [
    "#global\n",
    "alpha = 0.05"
   ]
  },
  {
   "cell_type": "markdown",
   "metadata": {},
   "source": [
    "# 5.1"
   ]
  },
  {
   "cell_type": "code",
   "execution_count": 11,
   "metadata": {},
   "outputs": [
    {
     "name": "stdout",
     "output_type": "stream",
     "text": [
      "0.74704\t1.62938\t-1.86607\t-1.99593\t4.47001\t1.12031\t0.35826\t-0.40877\t-2.76692\t-1.91356\t\n",
      "-0.4537\t3.80448\t3.55019\t-0.54024\t1.54333\t2.96338\t-0.87364\t-1.7243\t-3.26925\t0.42502\t\n",
      "-0.40856\t-0.82681\t-1.7491\t-1.18661\t-0.82003\t-1.61642\t2.9096\t-1.50677\t0.501\t4.60577\t\n",
      "-1.8333\t0.89271\t-0.08014\t1.01276\t-1.63724\t2.16741\t-3.89345\t2.2046\t1.09104\t0.05001\t\n",
      "3.70951\t4.93236\t0.02704\t-2.57067\t0.60882\t0.10851\t1.17859\t1.60418\t0.24086\t0.46004\t\n",
      "-0.97731\t-2.95019\t-1.47079\t-3.18056\t3.48337\t-0.67053\t-0.37623\t-2.68653\t-1.93676\t1.82213\t\n",
      "5.73577\t-1.76736\t-1.26126\t-3.25636\t-1.63884\t-1.62574\t1.09583\t-0.18518\t-0.52784\t0.43342\t\n",
      "3.0936\t-0.05842\t3.26731\t4.0753\t2.48882\t-3.24714\t-1.40511\t-0.49649\t3.0353\t-4.09072\t\n",
      "0.5231\t1.75678\t0.32385\t-0.65912\t1.59368\t-2.30324\t0.29338\t-0.68087\t1.30499\t1.54585\t\n",
      "-0.73188\t3.76\t0.95477\t-2.54184\t1.50627\t-0.78189\t1.53907\t1.2104\t-0.65867\t0.49867\t\n",
      "5.21879\t-1.47033\t-1.31798\t5.69874\t-2.44268\t-1.72528\t-0.37499\t-1.54856\t-1.04838\t2.66251\t\n",
      "-1.4246\t0.25979\t3.5433\t-0.24004\t0.75045\t0.36397\t-1.79353\t-0.41433\t-0.04978\t2.35662\t\n",
      "-3.20756\t-1.19603\t-0.16516\t-0.41753\t-0.35389\t-0.62794\t-0.24401\t1.75754\t0.14434\t-2.59494\t\n",
      "-3.00129\t-0.80785\t-0.50778\t-0.75571\t3.37257\t0.6899\t2.87297\t-1.48774\t-1.96484\t-0.05859\t\n",
      "-3.55646\t5.18997\t0.37023\t0.20028\t-0.53022\t-0.43969\t-0.03658\t2.10435\t-0.37173\t-3.32663\t\n",
      "-0.25503\t1.21194\t-0.17401\t3.73144\t1.02045\t2.34876\t2.00653\t1.04238\t5.54911\t-2.67602\t\n",
      "3.28079\t1.54137\t-0.13512\t-0.42107\t1.54586\t1.40416\t1.05997\t-1.41113\t-0.25098\t3.89764\t\n",
      "0.22269\t0.82682\t-4.33958\t-0.55236\t1.88349\t-0.10242\t-1.41172\t-1.18618\t-0.98826\t4.41789\t\n",
      "-1.28557\t-1.03275\t-0.31492\t-1.59833\t0.43063\t-0.14903\t0.31113\t1.68225\t2.98167\t0.5584\t\n",
      "-1.43575\t1.32532\t-0.49282\t-0.23328\t1.6023\t1.37722\t-5.08035\t0.77164\t1.93315\t-2.1117\t\n",
      "4.9606\t-1.79396\t0.00173\t0.44135\t0.07583\t1.29382\t0.03413\t1.01738\t1.77841\t0.41166\t\n",
      "1.22454\t-0.1339\t0.93562\t0.15724\t-2.73495\t1.67356\t1.24934\t-0.37795\t-0.19016\t1.62044\t\n",
      "-1.39265\t2.67684\t0.33946\t4.36818\t0.24255\t-2.63802\t2.65483\t3.51877\t-0.34822\t-4.26595\t\n",
      "4.17734\t0.45269\t4.1423\t3.16454\t-2.47402\t2.62866\t1.5824\t2.38113\t-0.79428\t-1.05389\t\n",
      "3.98853\t0.50531\t-0.33454\t-1.07361\t4.32421\t3.7317\t-0.67344\t2.1553\t-0.44391\t5.01031\t\n",
      "-3.91534\t-2.1396\t1.93638\t1.18725\t2.71607\t-0.17922\t-1.60713\t0.71796\t1.28669\t2.12124\t\n",
      "-1.03403\t-1.75447\t1.21207\t4.36997\t-1.74672\t1.74797\t-2.08302\t-4.30179\t3.12029\t0.05151\t\n",
      "4.368099999999999\n"
     ]
    }
   ],
   "source": [
    "x1 = np.array([0.74704, 1.62938, -1.86607, -1.99593, 4.47001, 1.12031, 0.35826, -0.40877, -2.76692, -1.91356,\n",
    "-0.45370, 3.80448, 3.55019, -0.54024, 1.54333, 2.96338, -0.87364, -1.72430, -3.26925, 0.42502,\n",
    "-0.40856, -0.82681, -1.74910, -1.18661, -0.82003, -1.61642, 2.90960, -1.50677, 0.50100, 4.60577,\n",
    "-1.83330, 0.89271, -0.08014, 1.01276, -1.63724, 2.16741, -3.89345, 2.20460, 1.09104, 0.05001,\n",
    "3.70951, 4.93236, 0.02704, -2.57067, 0.60882, 0.10851, 1.17859, 1.60418, 0.24086, 0.46004,\n",
    "-0.97731, -2.95019, -1.47079, -3.18056, 3.48337, -0.67053, -0.37623, -2.68653, -1.93676, 1.82213,\n",
    "5.73577, -1.76736, -1.26126, -3.25636, -1.63884, -1.62574, 1.09583, -0.18518, -0.52784, 0.43342,\n",
    "3.09360, -0.05842, 3.26731, 4.07530, 2.48882, -3.24714, -1.40511, -0.49649, 3.03530, -4.09072,\n",
    "0.52310, 1.75678, 0.32385, -0.65912, 1.59368, -2.30324, 0.29338, -0.68087, 1.30499, 1.54585,\n",
    "-0.73188, 3.76000, 0.95477, -2.54184, 1.50627, -0.78189, 1.53907, 1.21040, -0.65867, 0.49867,\n",
    "5.21879, -1.47033, -1.31798, 5.69874, -2.44268, -1.72528, -0.37499, -1.54856, -1.04838, 2.66251,\n",
    "-1.42460, 0.25979, 3.54330, -0.24004, 0.75045, 0.36397, -1.79353, -0.41433, -0.04978, 2.35662,\n",
    "-3.20756, -1.19603, -0.16516, -0.41753, -0.35389, -0.62794, -0.24401, 1.75754, 0.14434, -2.59494,\n",
    "-3.00129, -0.80785, -0.50778, -0.75571, 3.37257, 0.68990, 2.87297, -1.48774, -1.96484, -0.05859,\n",
    "-3.55646, 5.18997, 0.37023, 0.20028, -0.53022, -0.43969, -0.03658, 2.10435, -0.37173, -3.32663,\n",
    "-0.25503, 1.21194, -0.17401, 3.73144, 1.02045, 2.34876, 2.00653, 1.04238, 5.54911, -2.67602,\n",
    "3.28079, 1.54137, -0.13512, -0.42107, 1.54586, 1.40416, 1.05997, -1.41113, -0.25098, 3.89764,\n",
    "0.22269, 0.82682, -4.33958, -0.55236, 1.88349, -0.10242, -1.41172, -1.18618, -0.98826, 4.41789,\n",
    "-1.28557, -1.03275, -0.31492, -1.59833, 0.43063, -0.14903, 0.31113, 1.68225, 2.98167, 0.55840,\n",
    "-1.43575, 1.32532, -0.49282, -0.23328, 1.60230, 1.37722, -5.08035, 0.77164, 1.93315, -2.11170,\n",
    "4.96060, -1.79396, 0.00173, 0.44135, 0.07583, 1.29382, 0.03413, 1.01738, 1.77841, 0.41166,\n",
    "1.22454, -0.13390, 0.93562, 0.15724, -2.73495, 1.67356, 1.24934, -0.37795, -0.19016, 1.62044,\n",
    "-1.39265, 2.67684, 0.33946, 4.36818, 0.24255, -2.63802, 2.65483, 3.51877, -0.34822, -4.26595,\n",
    "4.17734, 0.45269, 4.14230, 3.16454, -2.47402, 2.62866, 1.58240, 2.38113, -0.79428, -1.05389,\n",
    "3.98853, 0.50531, -0.33454, -1.07361, 4.32421, 3.73170, -0.67344, 2.15530, -0.44391, 5.01031,\n",
    "-3.91534, -2.13960, 1.93638, 1.18725, 2.71607, -0.17922, -1.60713, 0.71796, 1.28669, 2.12124,\n",
    "-1.03403, -1.75447, 1.21207, 4.36997, -1.74672, 1.74797, -2.08302, -4.30179, 3.12029, 0.05151])\n",
    "a1 = -0.2\n",
    "o1 = 2.09\n",
    "arr_print(x1)\n",
    "print(o1**2)"
   ]
  },
  {
   "cell_type": "code",
   "execution_count": 12,
   "metadata": {},
   "outputs": [
    {
     "name": "stdout",
     "output_type": "stream",
     "text": [
      "0.32753\t-0.04656\n"
     ]
    }
   ],
   "source": [
    "m1_1 = x1.sum() / len(x1)\n",
    "Ca_1 = a1 + o1 / math.sqrt(len(x1)) / stats.norm.cdf(x=1 - alpha)\n",
    "print(round(m1_1, 5), round(Ca_1,5), sep='\\t')"
   ]
  },
  {
   "cell_type": "code",
   "execution_count": 13,
   "metadata": {},
   "outputs": [
    {
     "name": "stdout",
     "output_type": "stream",
     "text": [
      "0.32753\t0.05\t-0.04656\tH1\n",
      "Не забудь поменять последний столбец в ворде\n"
     ]
    }
   ],
   "source": [
    "if m1_1 <= Ca_1: print(round(m1_1, 5), alpha, round(Ca_1,5), \"H0\", sep = \"\\t\")\n",
    "else: print(round(m1_1, 5), alpha, round(Ca_1,5), \"H1\", sep = \"\\t\")\n",
    "print(\"Не забудь поменять последний столбец в ворде\")"
   ]
  },
  {
   "cell_type": "markdown",
   "metadata": {
    "collapsed": true
   },
   "source": [
    "# 5.2"
   ]
  },
  {
   "cell_type": "code",
   "execution_count": 14,
   "metadata": {},
   "outputs": [
    {
     "name": "stdout",
     "output_type": "stream",
     "text": [
      "1.47663\t0.86925\t-1.58272\n",
      "-0.39364\t1.85266\t3.03459\n",
      "0.02783\t-2.55485\t3.49961\n",
      "-0.16788\t0.89531\t-1.60687\n",
      "3.94303\t0.32271\t1.45983\n",
      "1.80628\t-1.11685\t-2.15456\n",
      "-4.53521\t-1.55183\t-4.98896\n",
      "1.46053\t-2.228\t2.27919\n",
      "3.11661\t-4.90955\t-3.11305\n",
      "0.67138\t-1.92164\t-1.28153\n",
      "-2.30383\t-4.35887\t3.22595\n",
      "3.18576\t1.85473\t1.11702\n",
      "3.47568\t4.05407\t-0.2929\n",
      "1.1955\t-0.47326\t-1.56568\n",
      "-1.90925\t-0.6328\t0.47816\n",
      "1.6277\t1.74933\t1.34183\n",
      "-0.86389\t0.55739\t-0.82081\n",
      "0.80087\t-1.29069\t0.6296\n",
      "-1.67631\t0.76572\t-0.64944\n",
      "3.36375\t0.06858\t1.58766\n"
     ]
    }
   ],
   "source": [
    "x2 = np.array([[1.47663, 0.86925, -1.58272],\n",
    "[-0.39364, 1.85266, 3.03459],\n",
    "[0.02783, -2.55485, 3.49961],\n",
    "[-0.16788, 0.89531, -1.60687],\n",
    "[3.94303, 0.32271, 1.45983],\n",
    "[1.80628, -1.11685, -2.15456],\n",
    "[-4.53521, -1.55183, -4.98896],\n",
    "[1.46053, -2.22800, 2.27919],\n",
    "[3.11661, -4.90955, -3.11305],\n",
    "[0.67138, -1.92164, -1.28153],\n",
    "[-2.30383, -4.35887, 3.22595],\n",
    "[3.18576, 1.85473, 1.11702],\n",
    "[3.47568, 4.05407, -0.29290],\n",
    "[1.19550, -0.47326, -1.56568],\n",
    "[-1.90925, -0.63280, 0.47816],\n",
    "[1.62770, 1.74933, 1.34183],\n",
    "[-0.86389, 0.55739, -0.82081],\n",
    "[0.80087, -1.29069, 0.62960],\n",
    "[-1.67631, 0.76572, -0.64944],\n",
    "[3.36375, 0.06858, 1.58766]])\n",
    "matrix_print(x2)\n",
    "x2 = x2.T"
   ]
  },
  {
   "cell_type": "code",
   "execution_count": 15,
   "metadata": {},
   "outputs": [
    {
     "name": "stdout",
     "output_type": "stream",
     "text": [
      "0.71508\t-0.40243\t5.24066\t4.65821\t4.97824\t4.73291\t1.60372\n",
      "0.71508\t0.02985\t5.24066\t4.74837\t4.97824\t4.99735\t0.97025\n",
      "-0.40243\t0.02985\t4.65821\t4.74837\t4.73291\t4.99735\t-0.61975\n"
     ]
    }
   ],
   "source": [
    "table_5_2 = []\n",
    "for i in range(len(x2)):\n",
    "    for j in range(i + 1, len(x2)):\n",
    "        create_table_5_2(a=x2[i], b=x2[j], table=table_5_2)\n",
    "for i in range(len(table_5_2)):\n",
    "    print('\\t'.join(str(round(i, 5)) for i in table_5_2[i]))"
   ]
  },
  {
   "cell_type": "code",
   "execution_count": 16,
   "metadata": {},
   "outputs": [
    {
     "name": "stdout",
     "output_type": "stream",
     "text": [
      "1.60372\t2.02439\tВЕРНА\n",
      "0.97025\t2.02439\tВЕРНА\n",
      "0.61975\t2.02439\tВЕРНА\n"
     ]
    }
   ],
   "source": [
    "t_kp_a = stats.t.ppf(1 - alpha / 2, 2 * len(x2[0]) - 2)\n",
    "for i in range(len(table_5_2)):\n",
    "    check_5_2or4(first=table_5_2[i][-1], second=t_kp_a)"
   ]
  },
  {
   "cell_type": "markdown",
   "metadata": {},
   "source": [
    "# 5.3"
   ]
  },
  {
   "cell_type": "code",
   "execution_count": 17,
   "metadata": {},
   "outputs": [
    {
     "name": "stdout",
     "output_type": "stream",
     "text": [
      "292.16287\t12.7015\t279.46138\t6.35075\t4.90283\t2\t57\t1.29532\n"
     ]
    }
   ],
   "source": [
    "table_5_3 = []\n",
    "create_table_5_3(table=table_5_3, x=x2)\n",
    "print('\\t'.join(str(round(i, 5)) for i in table_5_3))"
   ]
  },
  {
   "cell_type": "code",
   "execution_count": 18,
   "metadata": {},
   "outputs": [
    {
     "data": {
      "text/plain": [
       "3.1588427192606465"
      ]
     },
     "execution_count": 18,
     "metadata": {},
     "output_type": "execute_result"
    }
   ],
   "source": [
    "z_alpha = stats.f.ppf(1 - alpha, table_5_3[-3], table_5_3[-2])\n",
    "z_alpha"
   ]
  },
  {
   "cell_type": "code",
   "execution_count": 19,
   "metadata": {},
   "outputs": [
    {
     "name": "stdout",
     "output_type": "stream",
     "text": [
      "1.29532 <= 3.15884\tНе противоречит\n"
     ]
    }
   ],
   "source": [
    "if table_5_3[-1] <= z_alpha: print(round(table_5_3[-1], 5), \" <= \" , round(z_alpha, 5),\"\\tНе противоречит\", sep=\"\")\n",
    "else: print(round(table_5_3[-1], 5), \">\" , round(z_alpha, 5),\"\\tПротиворечит\", sep=\"\")"
   ]
  },
  {
   "cell_type": "markdown",
   "metadata": {},
   "source": [
    "# 5.4"
   ]
  },
  {
   "cell_type": "code",
   "execution_count": 20,
   "metadata": {},
   "outputs": [
    {
     "name": "stdout",
     "output_type": "stream",
     "text": [
      "4.97824\t4.73291\t19\t19\t1.05183\n",
      "4.99735\t4.97824\t19\t19\t1.00384\n",
      "4.99735\t4.73291\t19\t19\t1.05587\n"
     ]
    }
   ],
   "source": [
    "table_5_4 = []\n",
    "for i in range(len(x2)):\n",
    "    for j in range(i + 1, len(x2)):\n",
    "        create_table_5_4(a=x2[i], b=x2[j], table=table_5_4)\n",
    "for z in range(len(table_5_4)):\n",
    "    print('\\t'.join(str(round(i, 5)) for i in table_5_4[z]))"
   ]
  },
  {
   "cell_type": "code",
   "execution_count": 21,
   "metadata": {},
   "outputs": [
    {
     "name": "stdout",
     "output_type": "stream",
     "text": [
      "1.05183\t2.52645\tВЕРНА\n",
      "1.00384\t2.52645\tВЕРНА\n",
      "1.05587\t2.52645\tВЕРНА\n"
     ]
    }
   ],
   "source": [
    "for i in range(len(table_5_4)):\n",
    "    z_half2_alpha = stats.f.ppf(1 - alpha / 2, table_5_4[i][-3], table_5_4[i][-2])\n",
    "    check_5_2or4(first=table_5_4[i][-1], second=z_half2_alpha)"
   ]
  },
  {
   "cell_type": "markdown",
   "metadata": {},
   "source": [
    "# 5.5"
   ]
  },
  {
   "cell_type": "code",
   "execution_count": 22,
   "metadata": {},
   "outputs": [
    {
     "name": "stderr",
     "output_type": "stream",
     "text": [
      "C:\\Anaconda3\\lib\\site-packages\\scipy\\stats\\stats.py:2966: RuntimeWarning: invalid value encountered in true_divide\n",
      "  msb = ssbn / float(dfbn)\n"
     ]
    },
    {
     "data": {
      "text/plain": [
       "F_onewayResult(statistic=array([ nan,  nan,  nan,  nan,  nan,  nan,  nan,  nan,  nan,  nan,  nan,\n",
       "        nan,  nan,  nan,  nan,  nan,  nan,  nan,  nan,  nan]), pvalue=array([ nan,  nan,  nan,  nan,  nan,  nan,  nan,  nan,  nan,  nan,  nan,\n",
       "        nan,  nan,  nan,  nan,  nan,  nan,  nan,  nan,  nan]))"
      ]
     },
     "execution_count": 22,
     "metadata": {},
     "output_type": "execute_result"
    }
   ],
   "source": [
    "stats.f_oneway(x2)"
   ]
  },
  {
   "cell_type": "code",
   "execution_count": 23,
   "metadata": {},
   "outputs": [
    {
     "name": "stdout",
     "output_type": "stream",
     "text": [
      "Ttest_indResult(statistic=1.6037247791966678, pvalue=0.11705529664065413)\n",
      "Ttest_indResult(statistic=0.97024809054755601, pvalue=0.33805835274678153)\n",
      "Ttest_indResult(statistic=-0.61974563947745265, pvalue=0.53912390501838159)\n"
     ]
    }
   ],
   "source": [
    "for i in range(len(x2)):\n",
    "    for j in range(i + 1, len(x2)):\n",
    "        print(stats.ttest_ind(x2[i], x2[j]))"
   ]
  },
  {
   "cell_type": "code",
   "execution_count": 24,
   "metadata": {},
   "outputs": [
    {
     "data": {
      "text/plain": [
       "BartlettResult(statistic=0.016994840615609845, pvalue=0.99153858072400525)"
      ]
     },
     "execution_count": 24,
     "metadata": {},
     "output_type": "execute_result"
    }
   ],
   "source": [
    "stats.bartlett(x2[0], x2[1], x2[2])"
   ]
  },
  {
   "cell_type": "code",
   "execution_count": null,
   "metadata": {
    "collapsed": true
   },
   "outputs": [],
   "source": []
  }
 ],
 "metadata": {
  "kernelspec": {
   "display_name": "Python 3",
   "language": "python",
   "name": "python3"
  },
  "language_info": {
   "codemirror_mode": {
    "name": "ipython",
    "version": 3
   },
   "file_extension": ".py",
   "mimetype": "text/x-python",
   "name": "python",
   "nbconvert_exporter": "python",
   "pygments_lexer": "ipython3",
   "version": "3.6.3"
  }
 },
 "nbformat": 4,
 "nbformat_minor": 2
}
