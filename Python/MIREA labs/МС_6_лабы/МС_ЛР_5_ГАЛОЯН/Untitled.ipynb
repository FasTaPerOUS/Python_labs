{
 "cells": [
  {
   "cell_type": "code",
   "execution_count": 1,
   "metadata": {
    "collapsed": true
   },
   "outputs": [],
   "source": [
    "from scipy import stats\n",
    "from collections import Counter\n",
    "import matplotlib.pyplot as plt\n",
    "import numpy as np\n",
    "import math"
   ]
  },
  {
   "cell_type": "code",
   "execution_count": 2,
   "metadata": {
    "collapsed": true
   },
   "outputs": [],
   "source": [
    "def arr_print(x):\n",
    "    for i in range(len(x)):\n",
    "        print(x[i], end = \"\\t\")\n",
    "        if (i % 10 == 9): print()"
   ]
  },
  {
   "cell_type": "code",
   "execution_count": 3,
   "metadata": {
    "collapsed": true
   },
   "outputs": [],
   "source": [
    "def matrix_print(x):\n",
    "    for i in range(len(x)):\n",
    "        print('\\t'.join(str(a) for a in x[i]))"
   ]
  },
  {
   "cell_type": "code",
   "execution_count": 4,
   "metadata": {
    "collapsed": true
   },
   "outputs": [],
   "source": [
    "def sample_mean(x, s):\n",
    "    z = 0.0\n",
    "    for i in range(len(x)):\n",
    "        z += x[i] ** s\n",
    "    return z / len(x)"
   ]
  },
  {
   "cell_type": "code",
   "execution_count": 5,
   "metadata": {
    "collapsed": true
   },
   "outputs": [],
   "source": [
    "def create_table_5_2(table, a, b):\n",
    "    N = len(a)\n",
    "    M = len(b)\n",
    "    x1_line = a.sum() / N\n",
    "    y1_line = b.sum() / M\n",
    "    a = np.power(a, 2)\n",
    "    b = np.power(b, 2)\n",
    "    x2_line = a.sum() / N\n",
    "    y2_line = b.sum() / M\n",
    "    S2_x = N / (N - 1) * (x2_line - x1_line ** 2)\n",
    "    S2_y = M / (M - 1) * (y2_line - y1_line ** 2)\n",
    "    T_nm = (x1_line - y1_line) / math.sqrt(S2_x * (N - 1) + S2_y * (M - 1)) * math.sqrt(M * N * (N + M - 2) / (N + M))\n",
    "    table.append([x1_line, y1_line, x2_line, y2_line, S2_x, S2_y, T_nm])"
   ]
  },
  {
   "cell_type": "code",
   "execution_count": 6,
   "metadata": {},
   "outputs": [
    {
     "data": {
      "text/plain": [
       "10"
      ]
     },
     "execution_count": 6,
     "metadata": {},
     "output_type": "execute_result"
    }
   ],
   "source": [
    "zxc = np.array([1,2,3,4])\n",
    "zxc.sum()"
   ]
  },
  {
   "cell_type": "code",
   "execution_count": 35,
   "metadata": {
    "collapsed": true
   },
   "outputs": [],
   "source": [
    "def check_5_2or4(first, second):\n",
    "    if abs(first) <= second: print(round(abs(first), 5), round(second, 5), \"ВЕРНА\", sep = '\\t')\n",
    "    else: print(round(abs(first), 5), round(second, 5), \"НЕВЕРНА\", sep = '\\t')"
   ]
  },
  {
   "cell_type": "code",
   "execution_count": 8,
   "metadata": {
    "collapsed": true
   },
   "outputs": [],
   "source": [
    "def create_table_5_3(table, x):\n",
    "    u_line = x.sum() / len(x) / len(x[0])\n",
    "    uj_line = []\n",
    "    for i in range(len(x)):\n",
    "        uj_line.append(x[i].sum() / len(x[i]))\n",
    "    S_total = 0\n",
    "    for i in range(len(x)):\n",
    "        for j in range(len(x[i])):\n",
    "            S_total += (x[i][j] - u_line) ** 2\n",
    "    table.append(S_total)\n",
    "    S_fact = 0\n",
    "    for i in range(len(uj_line)):\n",
    "        S_fact += (uj_line[i] - u_line) ** 2\n",
    "    S_fact *= len(x[0])\n",
    "    table.append(S_fact)\n",
    "    S_left = S_total - S_fact\n",
    "    table.append(S_left)\n",
    "    S2_fact = S_fact / (len(x) - 1)\n",
    "    table.append(S2_fact)\n",
    "    S2_left = S_left / len(x) / (len(x[0]) - 1)\n",
    "    table.append(S2_left)\n",
    "    F_n_m = S2_fact / S2_left\n",
    "    table.append(len(x) - 1)\n",
    "    table.append(len(x) * (len(x[0]) - 1))\n",
    "    table.append(F_n_m)"
   ]
  },
  {
   "cell_type": "code",
   "execution_count": 9,
   "metadata": {
    "collapsed": true
   },
   "outputs": [],
   "source": [
    "def create_table_5_4(table, a, b):\n",
    "    N = len(a)\n",
    "    M = len(b)\n",
    "    x1_line = a.sum() / N\n",
    "    y1_line = b.sum() / M\n",
    "    a = np.power(a, 2)\n",
    "    b = np.power(b, 2)\n",
    "    x2_line = a.sum() / N\n",
    "    y2_line = b.sum() / M\n",
    "    S2_x = N / (N - 1) * (x2_line - x1_line ** 2)\n",
    "    S2_y = M / (M - 1) * (y2_line - y1_line ** 2)\n",
    "    k1 = 0\n",
    "    k2 = 0\n",
    "    boof = [S2_x, S2_y]\n",
    "    S12 = max(boof)\n",
    "    S22 = min(boof)\n",
    "    F_n_m = S12 / S22\n",
    "    if S12 == S2_x: \n",
    "        k1 = N - 1\n",
    "        k2 = M - 1\n",
    "    else:\n",
    "        k1 = M - 1\n",
    "        k2 = N - 1\n",
    "    table.append([S12, S22, k1, k2, F_n_m])"
   ]
  },
  {
   "cell_type": "code",
   "execution_count": null,
   "metadata": {
    "collapsed": true
   },
   "outputs": [],
   "source": []
  },
  {
   "cell_type": "code",
   "execution_count": 10,
   "metadata": {
    "collapsed": true
   },
   "outputs": [],
   "source": [
    "#global\n",
    "alpha = 0.05"
   ]
  },
  {
   "cell_type": "markdown",
   "metadata": {},
   "source": [
    "# 5.1"
   ]
  },
  {
   "cell_type": "code",
   "execution_count": 27,
   "metadata": {},
   "outputs": [
    {
     "name": "stdout",
     "output_type": "stream",
     "text": [
      "-1.05242\t4.45956\t-1.74221\t3.08331\t3.1223\t0.85208\t-4.09537\t0.84753\t0.27\t2.97423\t\n",
      "-3.17514\t-6.22233\t2.33203\t0.68989\t-3.27263\t-2.06805\t0.66142\t1.17444\t3.02124\t-0.88315\t\n",
      "3.43992\t1.12768\t-0.28539\t-0.84479\t0.49773\t-3.13097\t2.05165\t-1.92597\t0.80889\t3.65526\t\n",
      "0.1046\t-0.44026\t4.31807\t1.56743\t3.44843\t3.62046\t-5.66983\t1.231\t1.87373\t3.32699\t\n",
      "0.63969\t0.10123\t1.83399\t2.83538\t4.23277\t-0.48663\t0.86073\t-1.05698\t3.75959\t1.83514\t\n",
      "-4.97366\t-0.52954\t0.69537\t-3.32581\t1.35998\t-1.06808\t1.62796\t3.04844\t1.93835\t0.5185\t\n",
      "3.59816\t1.47272\t1.73472\t2.56846\t-0.85259\t-0.01886\t-2.04822\t3.09754\t4.67887\t0.35945\t\n",
      "0.81057\t2.15063\t2.42417\t2.32384\t3.28025\t1.91801\t-1.51282\t-2.74913\t-1.47169\t-0.79124\t\n",
      "2.49567\t1.20557\t1.31052\t1.76964\t-0.58943\t0.60116\t-1.11056\t-1.27064\t-0.30176\t-0.30555\t\n",
      "1.1298\t1.41739\t-0.24678\t0.06745\t2.60002\t4.50755\t0.64475\t1.5256\t0.03889\t3.05239\t\n",
      "1.33822\t-0.07152\t-0.32515\t2.27316\t1.82564\t3.82139\t0.94557\t-0.01418\t1.46076\t2.38606\t\n",
      "-1.0697\t1.54599\t2.43154\t3.17635\t-1.7279\t0.4007\t3.5318\t1.58434\t2.75248\t0.515\t\n",
      "1.51792\t1.59862\t1.45392\t0.81242\t-2.22228\t0.18175\t-0.42568\t0.21417\t1.2424\t0.93334\t\n",
      "-0.10402\t-1.08696\t0.69205\t3.01122\t2.59523\t-0.71729\t0.55448\t1.07188\t-4.87022\t1.4461\t\n",
      "1.67139\t0.32876\t-2.12145\t2.3932\t-0.58964\t0.46316\t-1.29324\t-1.56294\t1.73499\t-2.25104\t\n",
      "-0.54026\t0.38591\t-0.83585\t0.046\t-2.35361\t2.71942\t-1.92183\t-0.37443\t-4.32465\t2.06117\t\n",
      "3.65851\t-0.65085\t1.9571\t-0.41359\t2.65826\t2.40366\t-1.28217\t-1.47342\t-0.33422\t-1.79016\t\n",
      "1.88051\t-0.02964\t1.91631\t3.07812\t-0.44564\t3.11943\t1.29447\t0.74214\t-1.70916\t-2.91879\t\n",
      "-2.42204\t-1.6035\t1.79546\t0.45391\t2.5631\t-1.32157\t1.66305\t-1.1164\t-2.4802\t-1.60591\t\n",
      "-0.94021\t0.86835\t3.1171\t2.4371\t-1.49499\t-4.02254\t1.65122\t3.191\t1.71535\t0.81442\t\n",
      "2.32229\t-0.46884\t-3.35811\t0.48625\t0.35053\t0.40367\t-1.06299\t1.18096\t0.70824\t0.21669\t\n",
      "-1.4071\t0.90814\t3.04019\t-0.77557\t1.00627\t0.65227\t-0.13121\t0.38441\t-1.98261\t-2.05663\t\n",
      "-0.11825\t-0.33644\t0.97338\t0.24215\t0.04895\t-0.63881\t0.22773\t3.01208\t0.33543\t-2.11215\t\n",
      "0.68645\t-0.60577\t2.88169\t4.6004\t0.81827\t-2.02558\t-1.53308\t-1.15613\t1.05625\t0.5904\t\n",
      "0.38913\t0.50148\t0.16035\t1.26573\t1.58574\t-1.66043\t0.29336\t-3.54476\t0.38887\t1.30929\t\n",
      "-1.54234\t-3.68894\t8.02235\t2.86916\t-2.76355\t2.874\t1.19945\t-0.92364\t1.33283\t-3.04361\t\n",
      "3.64415\t4.35907\t3.4382\t-3.28071\t2.65951\t-0.41015\t-1.42884\t0.94939\t0.48383\t-0.82744\t\n",
      "4.120899999999999\n"
     ]
    }
   ],
   "source": [
    "x1 = np.array([-1.05242, 4.45956, -1.74221, 3.08331, 3.12230, 0.85208, -4.09537, 0.84753, 0.27000, 2.97423,\n",
    "-3.17514, -6.22233, 2.33203, 0.68989, -3.27263, -2.06805, 0.66142, 1.17444, 3.02124, -0.88315,\n",
    "3.43992, 1.12768, -0.28539, -0.84479, 0.49773, -3.13097, 2.05165, -1.92597, 0.80889, 3.65526,\n",
    "0.10460, -0.44026, 4.31807, 1.56743, 3.44843, 3.62046, -5.66983, 1.23100, 1.87373, 3.32699,\n",
    "0.63969, 0.10123, 1.83399, 2.83538, 4.23277, -0.48663, 0.86073, -1.05698, 3.75959, 1.83514,\n",
    "-4.97366, -0.52954, 0.69537, -3.32581, 1.35998, -1.06808, 1.62796, 3.04844, 1.93835, 0.51850,\n",
    "3.59816, 1.47272, 1.73472, 2.56846, -0.85259, -0.01886, -2.04822, 3.09754, 4.67887, 0.35945,\n",
    "0.81057, 2.15063, 2.42417, 2.32384, 3.28025, 1.91801, -1.51282, -2.74913, -1.47169, -0.79124,\n",
    "2.49567, 1.20557, 1.31052, 1.76964, -0.58943, 0.60116, -1.11056, -1.27064, -0.30176, -0.30555,\n",
    "1.12980, 1.41739, -0.24678, 0.06745, 2.60002, 4.50755, 0.64475, 1.52560, 0.03889, 3.05239,\n",
    "1.33822, -0.07152, -0.32515, 2.27316, 1.82564, 3.82139, 0.94557, -0.01418, 1.46076, 2.38606,\n",
    "-1.06970, 1.54599, 2.43154, 3.17635, -1.72790, 0.40070, 3.53180, 1.58434, 2.75248, 0.51500,\n",
    "1.51792, 1.59862, 1.45392, 0.81242, -2.22228, 0.18175, -0.42568, 0.21417, 1.24240, 0.93334,\n",
    "-0.10402, -1.08696, 0.69205, 3.01122, 2.59523, -0.71729, 0.55448, 1.07188, -4.87022, 1.44610,\n",
    "1.67139, 0.32876, -2.12145, 2.39320, -0.58964, 0.46316, -1.29324, -1.56294, 1.73499, -2.25104,\n",
    "-0.54026, 0.38591, -0.83585, 0.04600, -2.35361, 2.71942, -1.92183, -0.37443, -4.32465, 2.06117,\n",
    "3.65851, -0.65085, 1.95710, -0.41359, 2.65826, 2.40366, -1.28217, -1.47342, -0.33422, -1.79016,\n",
    "1.88051, -0.02964, 1.91631, 3.07812, -0.44564, 3.11943, 1.29447, 0.74214, -1.70916, -2.91879,\n",
    "-2.42204, -1.60350, 1.79546, 0.45391, 2.56310, -1.32157, 1.66305, -1.11640, -2.48020, -1.60591,\n",
    "-0.94021, 0.86835, 3.11710, 2.43710, -1.49499, -4.02254, 1.65122, 3.19100, 1.71535, 0.81442,\n",
    "2.32229, -0.46884, -3.35811, 0.48625, 0.35053, 0.40367, -1.06299, 1.18096, 0.70824, 0.21669,\n",
    "-1.40710, 0.90814, 3.04019, -0.77557, 1.00627, 0.65227, -0.13121, 0.38441, -1.98261, -2.05663,\n",
    "-0.11825, -0.33644, 0.97338, 0.24215, 0.04895, -0.63881, 0.22773, 3.01208, 0.33543, -2.11215,\n",
    "0.68645, -0.60577, 2.88169, 4.60040, 0.81827, -2.02558, -1.53308, -1.15613, 1.05625, 0.59040,\n",
    "0.38913, 0.50148, 0.16035, 1.26573, 1.58574, -1.66043, 0.29336, -3.54476, 0.38887, 1.30929,\n",
    "-1.54234, -3.68894, 8.02235, 2.86916, -2.76355, 2.87400, 1.19945, -0.92364, 1.33283, -3.04361,\n",
    "3.64415, 4.35907, 3.43820, -3.28071, 2.65951, -0.41015, -1.42884, 0.94939, 0.48383, -0.82744])\n",
    "a1 = 0.4\n",
    "o1 = 2.03\n",
    "arr_print(x1)\n",
    "print(o1**2)"
   ]
  },
  {
   "cell_type": "code",
   "execution_count": 39,
   "metadata": {},
   "outputs": [
    {
     "name": "stdout",
     "output_type": "stream",
     "text": [
      "0.51232\t0.54904\n"
     ]
    }
   ],
   "source": [
    "m1_1 = x1.sum() / len(x1)\n",
    "Ca_1 = a1 + o1 / math.sqrt(len(x1)) / stats.norm.cdf(x=1 - alpha)\n",
    "print(round(m1_1, 5), round(Ca_1,5), sep='\\t')"
   ]
  },
  {
   "cell_type": "code",
   "execution_count": 14,
   "metadata": {},
   "outputs": [
    {
     "name": "stdout",
     "output_type": "stream",
     "text": [
      "0.51232\t0.05\t0.54904\tH0\n",
      "Не забудь поменять последний столбец в ворде\n"
     ]
    }
   ],
   "source": [
    "if m1_1 <= Ca_1: print(round(m1_1, 5), alpha, round(Ca_1,5), \"H0\", sep = \"\\t\")\n",
    "else: print(round(m1_1, 5), alpha, round(Ca_1,5), \"H1\", sep = \"\\t\")\n",
    "print(\"Не забудь поменять последний столбец в ворде\")"
   ]
  },
  {
   "cell_type": "markdown",
   "metadata": {
    "collapsed": true
   },
   "source": [
    "# 5.2"
   ]
  },
  {
   "cell_type": "code",
   "execution_count": 15,
   "metadata": {},
   "outputs": [
    {
     "name": "stdout",
     "output_type": "stream",
     "text": [
      "3.11687\t0.53305\t2.60043\n",
      "0.67333\t1.94425\t0.85439\n",
      "0.95232\t-0.65972\t0.5049\n",
      "2.61838\t-0.23654\t1.2867\n",
      "0.83444\t1.59868\t0.78071\n",
      "4.7717\t-1.81934\t5.0322\n",
      "1.50403\t3.18528\t1.56763\n",
      "-0.68198\t4.44236\t1.9498\n",
      "-1.6089\t0.02686\t1.58698\n",
      "-0.26767\t0.79272\t-0.51339\n",
      "-0.15119\t3.55057\t2.17288\n",
      "0.08394\t2.68435\t0.67162\n",
      "-1.2758\t1.55615\t4.58039\n",
      "-0.72093\t-0.61112\t1.16237\n",
      "0.68791\t2.28625\t-0.17909\n",
      "1.65143\t-0.28006\t2.57729\n",
      "1.93335\t1.6159\t1.6287\n",
      "0.00738\t5.40635\t4.64595\n",
      "2.0382\t0.83854\t-0.644\n",
      "2.93539\t2.56252\t3.17137\n",
      "0.95511\n"
     ]
    }
   ],
   "source": [
    "x2 = np.array([[3.11687, 0.53305, 2.60043],\n",
    "[0.67333, 1.94425, 0.85439],\n",
    "[0.95232, -0.65972, 0.50490],\n",
    "[2.61838, -0.23654, 1.28670],\n",
    "[0.83444, 1.59868, 0.78071],\n",
    "[4.77170, -1.81934, 5.03220],\n",
    "[1.50403, 3.18528, 1.56763],\n",
    "[-0.68198, 4.44236, 1.94980],\n",
    "[-1.60890, 0.02686, 1.58698],\n",
    "[-0.26767, 0.79272, -0.51339],\n",
    "[-0.15119, 3.55057, 2.17288],\n",
    "[0.08394, 2.68435, 0.67162],\n",
    "[-1.27580, 1.55615, 4.58039],\n",
    "[-0.72093, -0.61112, 1.16237],\n",
    "[0.68791, 2.28625, -0.17909],\n",
    "[1.65143, -0.28006, 2.57729],\n",
    "[1.93335, 1.61590, 1.62870],\n",
    "[0.00738, 5.40635, 4.64595],\n",
    "[2.03820, 0.83854, -0.64400],\n",
    "[2.93539, 2.56252, 3.17137]])\n",
    "matrix_print(x2)\n",
    "x2 = x2.T\n",
    "sum = 0\n",
    "for i in range(len(x2[0])):\n",
    "    sum += x2[0][i]\n",
    "sum /= 20\n",
    "print(sum)"
   ]
  },
  {
   "cell_type": "code",
   "execution_count": 16,
   "metadata": {},
   "outputs": [
    {
     "name": "stdout",
     "output_type": "stream",
     "text": [
      "0.95511\t1.47085\t3.43352\t5.39765\t2.65398\t3.40447\t-0.93706\n",
      "0.95511\t1.77189\t3.43352\t5.66322\t2.65398\t2.65644\t-1.5851\n",
      "1.47085\t1.77189\t5.39765\t5.66322\t3.40447\t2.65644\t-0.54685\n"
     ]
    }
   ],
   "source": [
    "table_5_2 = []\n",
    "for i in range(len(x2)):\n",
    "    for j in range(i + 1, len(x2)):\n",
    "        create_table_5_2(a=x2[i], b=x2[j], table=table_5_2)\n",
    "for i in range(len(table_5_2)):\n",
    "    print('\\t'.join(str(round(i, 5)) for i in table_5_2[i]))"
   ]
  },
  {
   "cell_type": "code",
   "execution_count": 36,
   "metadata": {},
   "outputs": [
    {
     "name": "stdout",
     "output_type": "stream",
     "text": [
      "0.93706\t2.02439\tВЕРНА\n",
      "1.5851\t2.02439\tВЕРНА\n",
      "0.54685\t2.02439\tВЕРНА\n"
     ]
    }
   ],
   "source": [
    "t_kp_a = stats.t.ppf(1 - alpha / 2, 2 * len(x2[0]) - 2)\n",
    "for i in range(len(table_5_2)):\n",
    "    check_5_2or4(first=table_5_2[i][-1], second=t_kp_a)"
   ]
  },
  {
   "cell_type": "markdown",
   "metadata": {},
   "source": [
    "# 5.3"
   ]
  },
  {
   "cell_type": "code",
   "execution_count": 18,
   "metadata": {},
   "outputs": [
    {
     "name": "stdout",
     "output_type": "stream",
     "text": [
      "172.40794\t6.82498\t165.58297\t3.41249\t2.90496\t2\t57\t1.17471\n"
     ]
    }
   ],
   "source": [
    "table_5_3 = []\n",
    "create_table_5_3(table=table_5_3, x=x2)\n",
    "print('\\t'.join(str(round(i, 5)) for i in table_5_3))"
   ]
  },
  {
   "cell_type": "code",
   "execution_count": 19,
   "metadata": {},
   "outputs": [
    {
     "data": {
      "text/plain": [
       "3.1588427192606465"
      ]
     },
     "execution_count": 19,
     "metadata": {},
     "output_type": "execute_result"
    }
   ],
   "source": [
    "z_alpha = stats.f.ppf(1 - alpha, table_5_3[-3], table_5_3[-2])\n",
    "z_alpha"
   ]
  },
  {
   "cell_type": "code",
   "execution_count": 20,
   "metadata": {},
   "outputs": [
    {
     "name": "stdout",
     "output_type": "stream",
     "text": [
      "1.17471 <= 3.15884\tНе противоречит\n"
     ]
    }
   ],
   "source": [
    "if table_5_3[-1] <= z_alpha: print(round(table_5_3[-1], 5), \" <= \" , round(z_alpha, 5),\"\\tНе противоречит\", sep=\"\")\n",
    "else: print(round(table_5_3[-1], 5), \">\" , round(z_alpha, 5),\"\\tПротиворечит\", sep=\"\")"
   ]
  },
  {
   "cell_type": "markdown",
   "metadata": {},
   "source": [
    "# 5.4"
   ]
  },
  {
   "cell_type": "code",
   "execution_count": 32,
   "metadata": {},
   "outputs": [
    {
     "name": "stdout",
     "output_type": "stream",
     "text": [
      "3.40447\t2.65398\t19\t19\t1.28278\n",
      "2.65644\t2.65398\t19\t19\t1.00093\n",
      "3.40447\t2.65644\t19\t19\t1.28159\n"
     ]
    }
   ],
   "source": [
    "table_5_4 = []\n",
    "for i in range(len(x2)):\n",
    "    for j in range(i + 1, len(x2)):\n",
    "        create_table_5_4(a=x2[i], b=x2[j], table=table_5_4)\n",
    "for z in range(len(table_5_4)):\n",
    "    print('\\t'.join(str(round(i, 5)) for i in table_5_4[z]))"
   ]
  },
  {
   "cell_type": "code",
   "execution_count": 37,
   "metadata": {},
   "outputs": [
    {
     "name": "stdout",
     "output_type": "stream",
     "text": [
      "1.28278\t2.52645\tВЕРНА\n",
      "1.00093\t2.52645\tВЕРНА\n",
      "1.28159\t2.52645\tВЕРНА\n"
     ]
    }
   ],
   "source": [
    "for i in range(len(table_5_4)):\n",
    "    z_half2_alpha = stats.f.ppf(1 - alpha / 2, table_5_4[i][-3], table_5_4[i][-2])\n",
    "    check_5_2or4(first=table_5_4[i][-1], second=z_half2_alpha)"
   ]
  },
  {
   "cell_type": "markdown",
   "metadata": {},
   "source": [
    "# 5.5"
   ]
  },
  {
   "cell_type": "code",
   "execution_count": 23,
   "metadata": {},
   "outputs": [
    {
     "name": "stderr",
     "output_type": "stream",
     "text": [
      "C:\\Anaconda3\\lib\\site-packages\\scipy\\stats\\stats.py:2966: RuntimeWarning: invalid value encountered in true_divide\n",
      "  msb = ssbn / float(dfbn)\n"
     ]
    },
    {
     "data": {
      "text/plain": [
       "F_onewayResult(statistic=array([ nan,  nan,  nan,  nan,  nan,  nan,  nan,  nan,  nan,  nan,  nan,\n",
       "        nan,  nan,  nan,  nan,  nan,  nan,  nan,  nan,  nan]), pvalue=array([ nan,  nan,  nan,  nan,  nan,  nan,  nan,  nan,  nan,  nan,  nan,\n",
       "        nan,  nan,  nan,  nan,  nan,  nan,  nan,  nan,  nan]))"
      ]
     },
     "execution_count": 23,
     "metadata": {},
     "output_type": "execute_result"
    }
   ],
   "source": [
    "stats.f_oneway(x2)"
   ]
  },
  {
   "cell_type": "code",
   "execution_count": 24,
   "metadata": {},
   "outputs": [
    {
     "name": "stdout",
     "output_type": "stream",
     "text": [
      "Ttest_indResult(statistic=-0.93705959704983455, pvalue=0.35464560721358374)\n",
      "Ttest_indResult(statistic=-1.585098559522732, pvalue=0.12123182750669077)\n",
      "Ttest_indResult(statistic=-0.54685065396140331, pvalue=0.58767850178654346)\n"
     ]
    }
   ],
   "source": [
    "for i in range(len(x2)):\n",
    "    for j in range(i + 1, len(x2)):\n",
    "        print(stats.ttest_ind(x2[i], x2[j]))"
   ]
  },
  {
   "cell_type": "code",
   "execution_count": 25,
   "metadata": {},
   "outputs": [
    {
     "data": {
      "text/plain": [
       "BartlettResult(statistic=0.39221049595313756, pvalue=0.82192572410638309)"
      ]
     },
     "execution_count": 25,
     "metadata": {},
     "output_type": "execute_result"
    }
   ],
   "source": [
    "stats.bartlett(x2[0], x2[1], x2[2])"
   ]
  },
  {
   "cell_type": "code",
   "execution_count": null,
   "metadata": {
    "collapsed": true
   },
   "outputs": [],
   "source": []
  }
 ],
 "metadata": {
  "kernelspec": {
   "display_name": "Python 3",
   "language": "python",
   "name": "python3"
  },
  "language_info": {
   "codemirror_mode": {
    "name": "ipython",
    "version": 3
   },
   "file_extension": ".py",
   "mimetype": "text/x-python",
   "name": "python",
   "nbconvert_exporter": "python",
   "pygments_lexer": "ipython3",
   "version": "3.6.3"
  }
 },
 "nbformat": 4,
 "nbformat_minor": 2
}
