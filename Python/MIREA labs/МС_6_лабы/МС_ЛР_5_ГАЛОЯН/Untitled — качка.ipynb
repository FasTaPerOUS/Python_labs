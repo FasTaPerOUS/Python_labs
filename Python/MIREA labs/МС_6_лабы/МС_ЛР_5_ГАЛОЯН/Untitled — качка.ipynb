{
 "cells": [
  {
   "cell_type": "code",
   "execution_count": 4,
   "metadata": {
    "collapsed": true
   },
   "outputs": [],
   "source": [
    "from scipy import stats\n",
    "from collections import Counter\n",
    "import matplotlib.pyplot as plt\n",
    "import numpy as np\n",
    "import math"
   ]
  },
  {
   "cell_type": "code",
   "execution_count": 5,
   "metadata": {
    "collapsed": true
   },
   "outputs": [],
   "source": [
    "def arr_print(x):\n",
    "    for i in range(len(x)):\n",
    "        print(x[i], end = \"\\t\")\n",
    "        if (i % 10 == 9): print()"
   ]
  },
  {
   "cell_type": "code",
   "execution_count": 6,
   "metadata": {
    "collapsed": true
   },
   "outputs": [],
   "source": [
    "def matrix_print(x):\n",
    "    for i in range(len(x)):\n",
    "        print('\\t'.join(str(a) for a in x[i]))"
   ]
  },
  {
   "cell_type": "code",
   "execution_count": 7,
   "metadata": {
    "collapsed": true
   },
   "outputs": [],
   "source": [
    "def sample_mean(x, s):\n",
    "    z = 0.0\n",
    "    for i in range(len(x)):\n",
    "        z += x[i] ** s\n",
    "    return z / len(x)"
   ]
  },
  {
   "cell_type": "code",
   "execution_count": 8,
   "metadata": {
    "collapsed": true
   },
   "outputs": [],
   "source": [
    "def create_table_5_2(table, a, b):\n",
    "    N = len(a)\n",
    "    M = len(b)\n",
    "    x1_line = a.sum() / N\n",
    "    y1_line = b.sum() / M\n",
    "    a = np.power(a, 2)\n",
    "    b = np.power(b, 2)\n",
    "    x2_line = a.sum() / N\n",
    "    y2_line = b.sum() / M\n",
    "    S2_x = N / (N - 1) * (x2_line - x1_line ** 2)\n",
    "    S2_y = M / (M - 1) * (y2_line - y1_line ** 2)\n",
    "    T_nm = (x1_line - y1_line) / math.sqrt(S2_x * (N - 1) + S2_y * (M - 1)) * math.sqrt(M * N * (N + M - 2) / (N + M))\n",
    "    table.append([x1_line, y1_line, x2_line, y2_line, S2_x, S2_y, T_nm])"
   ]
  },
  {
   "cell_type": "code",
   "execution_count": 9,
   "metadata": {},
   "outputs": [
    {
     "data": {
      "text/plain": [
       "10"
      ]
     },
     "execution_count": 9,
     "metadata": {},
     "output_type": "execute_result"
    }
   ],
   "source": [
    "zxc = np.array([1,2,3,4])\n",
    "zxc.sum()"
   ]
  },
  {
   "cell_type": "code",
   "execution_count": 10,
   "metadata": {
    "collapsed": true
   },
   "outputs": [],
   "source": [
    "def check_5_2or4(first, second):\n",
    "    if abs(first) <= second: print(round(abs(first), 5), round(second, 5), \"ВЕРНА\")\n",
    "    else: print(round(abs(first), 5), round(second, 5), \"НЕВЕРНА\")"
   ]
  },
  {
   "cell_type": "code",
   "execution_count": 11,
   "metadata": {
    "collapsed": true
   },
   "outputs": [],
   "source": [
    "def create_table_5_3(table, x):\n",
    "    u_line = x.sum() / len(x) / len(x[0])\n",
    "    uj_line = []\n",
    "    for i in range(len(x)):\n",
    "        uj_line.append(x[i].sum() / len(x[i]))\n",
    "    S_total = 0\n",
    "    for i in range(len(x)):\n",
    "        for j in range(len(x[i])):\n",
    "            S_total += (x[i][j] - u_line) ** 2\n",
    "    table.append(S_total)\n",
    "    S_fact = 0\n",
    "    for i in range(len(uj_line)):\n",
    "        S_fact += (uj_line[i] - u_line) ** 2\n",
    "    S_fact *= len(x[0])\n",
    "    table.append(S_fact)\n",
    "    S_left = S_total - S_fact\n",
    "    table.append(S_left)\n",
    "    S2_fact = S_fact / (len(x) - 1)\n",
    "    table.append(S2_fact)\n",
    "    S2_left = S_left / len(x) / (len(x[0]) - 1)\n",
    "    table.append(S2_left)\n",
    "    F_n_m = S2_fact / S2_left\n",
    "    table.append(len(x) - 1)\n",
    "    table.append(len(x) * (len(x[0]) - 1))\n",
    "    table.append(F_n_m)"
   ]
  },
  {
   "cell_type": "code",
   "execution_count": 12,
   "metadata": {
    "collapsed": true
   },
   "outputs": [],
   "source": [
    "def create_table_5_4(table, a, b):\n",
    "    N = len(a)\n",
    "    M = len(b)\n",
    "    x1_line = a.sum() / N\n",
    "    y1_line = b.sum() / M\n",
    "    a = np.power(a, 2)\n",
    "    b = np.power(b, 2)\n",
    "    x2_line = a.sum() / N\n",
    "    y2_line = b.sum() / M\n",
    "    S2_x = N / (N - 1) * (x2_line - x1_line ** 2)\n",
    "    S2_y = M / (M - 1) * (y2_line - y1_line ** 2)\n",
    "    k1 = 0\n",
    "    k2 = 0\n",
    "    boof = [S2_x, S2_y]\n",
    "    S12 = max(boof)\n",
    "    S22 = min(boof)\n",
    "    F_n_m = S12 / S22\n",
    "    if S12 == S2_x: \n",
    "        k1 = N - 1\n",
    "        k2 = M - 1\n",
    "    else:\n",
    "        k1 = M - 1\n",
    "        k2 = N - 1\n",
    "    table.append([S12, S22, k1, k2, F_n_m])"
   ]
  },
  {
   "cell_type": "code",
   "execution_count": null,
   "metadata": {
    "collapsed": true
   },
   "outputs": [],
   "source": []
  },
  {
   "cell_type": "code",
   "execution_count": 13,
   "metadata": {
    "collapsed": true
   },
   "outputs": [],
   "source": [
    "#global\n",
    "alpha = 0.05"
   ]
  },
  {
   "cell_type": "markdown",
   "metadata": {},
   "source": [
    "# 5.1"
   ]
  },
  {
   "cell_type": "code",
   "execution_count": 14,
   "metadata": {},
   "outputs": [
    {
     "name": "stdout",
     "output_type": "stream",
     "text": [
      "2.58\t4.0\t3.62\t0.61\t0.22\t1.76\t4.32\t1.83\t1.36\t"
     ]
    }
   ],
   "source": [
    "x1 = np.array([2.58, 4, 3.62, 0.61, 0.22, 1.76, 4.32, 1.83, 1.36])\n",
    "a1 = 1.5\n",
    "o1 = 1.92\n",
    "arr_print(x1)"
   ]
  },
  {
   "cell_type": "code",
   "execution_count": 15,
   "metadata": {},
   "outputs": [
    {
     "name": "stdout",
     "output_type": "stream",
     "text": [
      "0.22\t0.61\t1.36\t1.76\t1.83\t2.58\t3.62\t4.0\t4.32\t"
     ]
    }
   ],
   "source": [
    "x1.sort()\n",
    "arr_print(x1)"
   ]
  },
  {
   "cell_type": "code",
   "execution_count": 16,
   "metadata": {},
   "outputs": [
    {
     "name": "stdout",
     "output_type": "stream",
     "text": [
      "2.25556\n",
      "2.27207\n"
     ]
    }
   ],
   "source": [
    "m1_1 = x1.sum() / len(x1)\n",
    "Ca_1 = a1 + o1 / math.sqrt(len(x1)) / stats.norm.cdf(x=1 - alpha)\n",
    "print(round(m1_1, 5))\n",
    "print(round(Ca_1,5))"
   ]
  },
  {
   "cell_type": "code",
   "execution_count": 17,
   "metadata": {},
   "outputs": [
    {
     "name": "stdout",
     "output_type": "stream",
     "text": [
      "2.25556\t0.05\t2.27207\tH0\n",
      "Не забудь поменять последний столбец в ворде\n"
     ]
    }
   ],
   "source": [
    "if m1_1 <= Ca_1: print(round(m1_1, 5), alpha, round(Ca_1,5), \"H0\", sep = \"\\t\")\n",
    "else: print(round(m1_1, 5), alpha, round(Ca_1,5), \"H1\", sep = \"\\t\")\n",
    "print(\"Не забудь поменять последний столбец в ворде\")"
   ]
  },
  {
   "cell_type": "markdown",
   "metadata": {
    "collapsed": true
   },
   "source": [
    "# 5.2"
   ]
  },
  {
   "cell_type": "code",
   "execution_count": 34,
   "metadata": {},
   "outputs": [
    {
     "name": "stdout",
     "output_type": "stream",
     "text": [
      "1.28747\t-0.04089\t3.09867\n",
      "2.64935\t2.02698\t4.0208\n",
      "1.89425\t-1.48504\t2.94389\n",
      "2.15131\t2.34982\t-0.90937\n",
      "3.87779\t1.62562\t2.21172\n",
      "1.78442\t1.89373\t0.37397\n",
      "1.52997\t1.13446\t4.5263\n",
      "2.35262\t-1.36218\t0.4166\n",
      "1.29355\t5.00499\t-2.47036\n",
      "-1.44513\t0.05191\t3.43334\n",
      "2.11371\t0.63499\t-0.31243\n",
      "3.49831\t4.89132\t-0.03663\n",
      "4.25222\t4.04374\t4.57296\n",
      "4.36661\t4.77489\t2.13807\n",
      "-2.12947\t4.22011\t2.97452\n",
      "1.3743\t1.80094\t1.14712\n",
      "1.70303\t4.30394\t-0.68066\n",
      "1.87944\t0.84108\t4.00293\n",
      "-1.19282\t0.53984\t0.1208\n",
      "1.76985\t-0.28439\t1.16861\n",
      "1.750539\n"
     ]
    }
   ],
   "source": [
    "x2 = np.array([[1.28747, -0.04089, 3.09867],\n",
    "[2.64935, 2.02698, 4.02080],\n",
    "[1.89425, -1.48504, 2.94389],\n",
    "[2.15131, 2.34982, -0.90937],\n",
    "[3.87779, 1.62562, 2.21172],\n",
    "[1.78442, 1.89373, 0.37397],\n",
    "[1.52997, 1.13446, 4.52630],\n",
    "[2.35262, -1.36218, 0.41660],\n",
    "[1.29355, 5.00499, -2.47036],\n",
    "[-1.44513, 0.05191, 3.43334],\n",
    "[2.11371, 0.63499, -0.31243],\n",
    "[3.49831, 4.89132, -0.03663],\n",
    "[4.25222, 4.04374, 4.57296],\n",
    "[4.36661, 4.77489, 2.13807],\n",
    "[-2.12947, 4.22011, 2.97452],\n",
    "[1.37430, 1.80094, 1.14712],\n",
    "[1.70303, 4.30394, -0.68066],\n",
    "[1.87944, 0.84108, 4.00293],\n",
    "[-1.19282, 0.53984, 0.12080],\n",
    "[1.76985, -0.28439, 1.16861]])\n",
    "matrix_print(x2)\n",
    "x2 = x2.T\n",
    "sum = 0\n",
    "for i in range(len(x2[0])):\n",
    "    sum += x2[0][i]\n",
    "sum /= 20\n",
    "print(sum)"
   ]
  },
  {
   "cell_type": "code",
   "execution_count": 35,
   "metadata": {},
   "outputs": [
    {
     "name": "stdout",
     "output_type": "stream",
     "text": [
      "1.75054\t1.84829\t5.90087\t7.51986\t2.98577\t4.31966\t-0.16174\n",
      "1.75054\t1.63704\t5.90087\t6.6229\t2.98577\t4.15051\t0.19\n",
      "1.84829\t1.63704\t7.51986\t6.6229\t4.31966\t4.15051\t0.32461\n"
     ]
    }
   ],
   "source": [
    "table_5_2 = []\n",
    "for i in range(len(x2)):\n",
    "    for j in range(i + 1, len(x2)):\n",
    "        create_table_5_2(a=x2[i], b=x2[j], table=table_5_2)\n",
    "for i in range(len(table_5_2)):\n",
    "    print('\\t'.join(str(round(i, 5)) for i in table_5_2[i]))"
   ]
  },
  {
   "cell_type": "code",
   "execution_count": 36,
   "metadata": {},
   "outputs": [
    {
     "name": "stdout",
     "output_type": "stream",
     "text": [
      "0.16174 2.02439 ВЕРНА\n",
      "0.19 2.02439 ВЕРНА\n",
      "0.32461 2.02439 ВЕРНА\n"
     ]
    }
   ],
   "source": [
    "t_kp_a = stats.t.ppf(1 - alpha / 2, 2 * len(x2[0]) - 2)\n",
    "for i in range(len(table_5_2)):\n",
    "    check_5_2or4(first=table_5_2[i][-1], second=t_kp_a)"
   ]
  },
  {
   "cell_type": "markdown",
   "metadata": {},
   "source": [
    "# 5.3"
   ]
  },
  {
   "cell_type": "code",
   "execution_count": 37,
   "metadata": {},
   "outputs": [
    {
     "name": "stdout",
     "output_type": "stream",
     "text": [
      "218.11009\t0.44709\t217.66299\t0.22355\t3.81865\t2\t57\t0.05854\n"
     ]
    }
   ],
   "source": [
    "table_5_3 = []\n",
    "create_table_5_3(table=table_5_3, x=x2)\n",
    "print('\\t'.join(str(round(i, 5)) for i in table_5_3))"
   ]
  },
  {
   "cell_type": "code",
   "execution_count": 19,
   "metadata": {},
   "outputs": [
    {
     "data": {
      "text/plain": [
       "3.1588427192606465"
      ]
     },
     "execution_count": 19,
     "metadata": {},
     "output_type": "execute_result"
    }
   ],
   "source": [
    "z_alpha = stats.f.ppf(1 - alpha, table_5_3[-3], table_5_3[-2])\n",
    "z_alpha"
   ]
  },
  {
   "cell_type": "code",
   "execution_count": 20,
   "metadata": {},
   "outputs": [
    {
     "name": "stdout",
     "output_type": "stream",
     "text": [
      "0.03066 <= 3.15884\tНе противоречит\n"
     ]
    }
   ],
   "source": [
    "if table_5_3[-1] <= z_alpha: print(round(table_5_3[-1], 5), \" <= \" , round(z_alpha, 5),\"\\tНе противоречит\", sep=\"\")\n",
    "else: print(round(table_5_3[-1], 5), \">\" , round(z_alpha, 5),\"\\tПротиворечит\", sep=\"\")"
   ]
  },
  {
   "cell_type": "markdown",
   "metadata": {},
   "source": [
    "# 5.4"
   ]
  },
  {
   "cell_type": "code",
   "execution_count": 18,
   "metadata": {},
   "outputs": [
    {
     "ename": "NameError",
     "evalue": "name 'x2' is not defined",
     "output_type": "error",
     "traceback": [
      "\u001b[1;31m---------------------------------------------------------------------------\u001b[0m",
      "\u001b[1;31mNameError\u001b[0m                                 Traceback (most recent call last)",
      "\u001b[1;32m<ipython-input-18-16f599e1de0a>\u001b[0m in \u001b[0;36m<module>\u001b[1;34m()\u001b[0m\n\u001b[0;32m      1\u001b[0m \u001b[0mtable_5_4\u001b[0m \u001b[1;33m=\u001b[0m \u001b[1;33m[\u001b[0m\u001b[1;33m]\u001b[0m\u001b[1;33m\u001b[0m\u001b[0m\n\u001b[1;32m----> 2\u001b[1;33m \u001b[1;32mfor\u001b[0m \u001b[0mi\u001b[0m \u001b[1;32min\u001b[0m \u001b[0mrange\u001b[0m\u001b[1;33m(\u001b[0m\u001b[0mlen\u001b[0m\u001b[1;33m(\u001b[0m\u001b[0mx2\u001b[0m\u001b[1;33m)\u001b[0m\u001b[1;33m)\u001b[0m\u001b[1;33m:\u001b[0m\u001b[1;33m\u001b[0m\u001b[0m\n\u001b[0m\u001b[0;32m      3\u001b[0m     \u001b[1;32mfor\u001b[0m \u001b[0mj\u001b[0m \u001b[1;32min\u001b[0m \u001b[0mrange\u001b[0m\u001b[1;33m(\u001b[0m\u001b[0mi\u001b[0m \u001b[1;33m+\u001b[0m \u001b[1;36m1\u001b[0m\u001b[1;33m,\u001b[0m \u001b[0mlen\u001b[0m\u001b[1;33m(\u001b[0m\u001b[0mx2\u001b[0m\u001b[1;33m)\u001b[0m\u001b[1;33m)\u001b[0m\u001b[1;33m:\u001b[0m\u001b[1;33m\u001b[0m\u001b[0m\n\u001b[0;32m      4\u001b[0m         \u001b[0mcreate_table_5_4\u001b[0m\u001b[1;33m(\u001b[0m\u001b[0ma\u001b[0m\u001b[1;33m=\u001b[0m\u001b[0mx2\u001b[0m\u001b[1;33m[\u001b[0m\u001b[0mi\u001b[0m\u001b[1;33m]\u001b[0m\u001b[1;33m,\u001b[0m \u001b[0mb\u001b[0m\u001b[1;33m=\u001b[0m\u001b[0mx2\u001b[0m\u001b[1;33m[\u001b[0m\u001b[0mj\u001b[0m\u001b[1;33m]\u001b[0m\u001b[1;33m,\u001b[0m \u001b[0mtable\u001b[0m\u001b[1;33m=\u001b[0m\u001b[0mtable_5_4\u001b[0m\u001b[1;33m)\u001b[0m\u001b[1;33m\u001b[0m\u001b[0m\n\u001b[0;32m      5\u001b[0m \u001b[0mtable_5_4\u001b[0m\u001b[1;33m\u001b[0m\u001b[0m\n",
      "\u001b[1;31mNameError\u001b[0m: name 'x2' is not defined"
     ]
    }
   ],
   "source": [
    "table_5_4 = []\n",
    "for i in range(len(x2)):\n",
    "    for j in range(i + 1, len(x2)):\n",
    "        create_table_5_4(a=x2[i], b=x2[j], table=table_5_4)\n",
    "table_5_4"
   ]
  },
  {
   "cell_type": "code",
   "execution_count": 22,
   "metadata": {},
   "outputs": [
    {
     "name": "stdout",
     "output_type": "stream",
     "text": [
      "1.44675 2.52645 ВЕРНА\n",
      "1.3901 2.52645 ВЕРНА\n",
      "1.04075 2.52645 ВЕРНА\n"
     ]
    }
   ],
   "source": [
    "for i in range(len(table_5_4)):\n",
    "    z_half2_alpha = stats.f.ppf(1 - alpha / 2, table_5_4[i][-3], table_5_4[i][-2])\n",
    "    check_5_2or4(first=table_5_4[i][-1], second=z_half2_alpha)"
   ]
  },
  {
   "cell_type": "markdown",
   "metadata": {},
   "source": [
    "# 5.5"
   ]
  },
  {
   "cell_type": "code",
   "execution_count": 23,
   "metadata": {},
   "outputs": [
    {
     "name": "stderr",
     "output_type": "stream",
     "text": [
      "C:\\Anaconda3\\lib\\site-packages\\scipy\\stats\\stats.py:2966: RuntimeWarning: invalid value encountered in true_divide\n",
      "  msb = ssbn / float(dfbn)\n"
     ]
    },
    {
     "data": {
      "text/plain": [
       "F_onewayResult(statistic=array([ nan,  nan,  nan,  nan,  nan,  nan,  nan,  nan,  nan,  nan,  nan,\n",
       "        nan,  nan,  nan,  nan,  nan,  nan,  nan,  nan,  nan]), pvalue=array([ nan,  nan,  nan,  nan,  nan,  nan,  nan,  nan,  nan,  nan,  nan,\n",
       "        nan,  nan,  nan,  nan,  nan,  nan,  nan,  nan,  nan]))"
      ]
     },
     "execution_count": 23,
     "metadata": {},
     "output_type": "execute_result"
    }
   ],
   "source": [
    "stats.f_oneway(x2)"
   ]
  },
  {
   "cell_type": "code",
   "execution_count": 24,
   "metadata": {},
   "outputs": [
    {
     "name": "stdout",
     "output_type": "stream",
     "text": [
      "Ttest_indResult(statistic=-0.16174340173491969, pvalue=0.87236487275372021)\n",
      "Ttest_indResult(statistic=0.19000337984419538, pvalue=0.85031784461006543)\n",
      "Ttest_indResult(statistic=0.32461347798364493, pvalue=0.74725392636272026)\n"
     ]
    }
   ],
   "source": [
    "for i in range(len(x2)):\n",
    "    for j in range(i + 1, len(x2)):\n",
    "        print(stats.ttest_ind(x2[i], x2[j]))"
   ]
  },
  {
   "cell_type": "code",
   "execution_count": 25,
   "metadata": {},
   "outputs": [
    {
     "data": {
      "text/plain": [
       "BartlettResult(statistic=0.73190952809818122, pvalue=0.69353417317799182)"
      ]
     },
     "execution_count": 25,
     "metadata": {},
     "output_type": "execute_result"
    }
   ],
   "source": [
    "stats.bartlett(x2[0], x2[1], x2[2])"
   ]
  },
  {
   "cell_type": "code",
   "execution_count": null,
   "metadata": {
    "collapsed": true
   },
   "outputs": [],
   "source": []
  }
 ],
 "metadata": {
  "kernelspec": {
   "display_name": "Python 3",
   "language": "python",
   "name": "python3"
  },
  "language_info": {
   "codemirror_mode": {
    "name": "ipython",
    "version": 3
   },
   "file_extension": ".py",
   "mimetype": "text/x-python",
   "name": "python",
   "nbconvert_exporter": "python",
   "pygments_lexer": "ipython3",
   "version": "3.6.3"
  }
 },
 "nbformat": 4,
 "nbformat_minor": 2
}
