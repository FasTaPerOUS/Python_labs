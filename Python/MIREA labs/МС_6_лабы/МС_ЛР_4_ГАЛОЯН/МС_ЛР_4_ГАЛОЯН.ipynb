{
 "cells": [
  {
   "cell_type": "code",
   "execution_count": 59,
   "metadata": {
    "collapsed": true
   },
   "outputs": [],
   "source": [
    "from scipy import stats\n",
    "from collections import Counter\n",
    "import matplotlib.pyplot as plt\n",
    "import numpy as np\n",
    "import math"
   ]
  },
  {
   "cell_type": "code",
   "execution_count": 60,
   "metadata": {
    "collapsed": true
   },
   "outputs": [],
   "source": [
    "def arr_print(x):\n",
    "    for i in range(len(x)):\n",
    "        print(x[i], end = \"\\t\")\n",
    "        if (i % 10 == 9): print()"
   ]
  },
  {
   "cell_type": "code",
   "execution_count": 61,
   "metadata": {
    "collapsed": true
   },
   "outputs": [],
   "source": [
    "def del_repeat(x, x_c):\n",
    "    for i in range(1, len(x)):\n",
    "        if (x[i] != x_c[-1]):\n",
    "            x_c.append(x[i])"
   ]
  },
  {
   "cell_type": "code",
   "execution_count": 62,
   "metadata": {
    "collapsed": true
   },
   "outputs": [],
   "source": [
    "def chance_arrays(x, x_c, n, w):\n",
    "    for i in range(len(x_c)):\n",
    "        n.append(Counter(x)[x_c[i]])\n",
    "        w.append(n[-1] / len(x))"
   ]
  },
  {
   "cell_type": "code",
   "execution_count": 63,
   "metadata": {
    "collapsed": true
   },
   "outputs": [],
   "source": [
    "def emperic_and_distribution(x, x_c, a, b, n):\n",
    "    sum = 0\n",
    "    plt.grid(True)\n",
    "    plt.xticks(np.arange(a, b + 1, 1))\n",
    "    plt.yticks(np.arange(0, 1.1, 0.1))\n",
    "    for i in range(len(x_c) - 1):\n",
    "        sum += Counter(x)[x_c[i]] / n\n",
    "        X = [x_c[i], x_c[i + 1]]\n",
    "        Y = [sum, sum]\n",
    "        plt.plot(X, Y, color = 'blue')\n",
    "    diag_x = [a, b]\n",
    "    diag_y = [0, 1]\n",
    "    plt.plot(diag_x, diag_y, color = 'red')\n",
    "    plt.show()"
   ]
  },
  {
   "cell_type": "code",
   "execution_count": 64,
   "metadata": {
    "collapsed": true
   },
   "outputs": [],
   "source": [
    "def find_F_x(a, b, x):\n",
    "    if x < a:\n",
    "        return 0\n",
    "    elif x > b:\n",
    "        return 1\n",
    "    else:\n",
    "        return (x-a)/(b-a)"
   ]
  },
  {
   "cell_type": "code",
   "execution_count": 65,
   "metadata": {
    "collapsed": true
   },
   "outputs": [],
   "source": [
    "def find_Fn_x(N, j): return float(j) / N"
   ]
  },
  {
   "cell_type": "code",
   "execution_count": 66,
   "metadata": {
    "collapsed": true
   },
   "outputs": [],
   "source": [
    "def find_Fn_x0(N, j): return (float(j) - 1) / N"
   ]
  },
  {
   "cell_type": "code",
   "execution_count": 67,
   "metadata": {
    "collapsed": true
   },
   "outputs": [],
   "source": [
    "def make_table_4_1or3or4(x, a, b, N, table, num):\n",
    "    Dn = -1\n",
    "    xdot = -1\n",
    "    ind = -1\n",
    "    for i in range(N):\n",
    "        fs = []\n",
    "        if num == 1:\n",
    "            fs = [abs(find_Fn_x(N=N, j=i) - find_F_x(a=a, b=b, x=x[i])), \n",
    "                  abs(find_Fn_x0(N=N, j=i) - find_F_x(a=a, b=b, x=x[i]))]\n",
    "        elif num == 3:\n",
    "            fs = [find_Fn_x(N=N, j=i) - find_F_x(a=a, b=b, x=x[i]), \n",
    "                  find_Fn_x0(N=N, j=i) - find_F_x(a=a, b=b, x=x[i])]\n",
    "        elif num == 4:\n",
    "            fs = [find_F_x(a=a, b=b, x=x[i]) - find_Fn_x(N=N, j=i), \n",
    "                  find_F_x(a=a, b=b, x=x[i]) - find_Fn_x0(N=N, j=i)]\n",
    "        if max(fs) > Dn:\n",
    "            Dn = max(fs)\n",
    "            ind = i\n",
    "            xdot = x[i]\n",
    "    DnsqrtN = Dn * math.sqrt(N)\n",
    "    F_xdot = find_F_x(a=a, b=b, x=xdot)\n",
    "    Fn_xdot = find_Fn_x(N=N, j=ind+1)\n",
    "    Fn_xdot_minus_zero = find_Fn_x0(N=N, j=ind+1)\n",
    "    table = [a, b, N, Dn, DnsqrtN, xdot, F_xdot, Fn_xdot, Fn_xdot_minus_zero]\n",
    "    return table"
   ]
  },
  {
   "cell_type": "code",
   "execution_count": 68,
   "metadata": {
    "collapsed": true
   },
   "outputs": [],
   "source": [
    "def print_table__2(D, a, xa):\n",
    "    if D < xa: print(round(D, 5), a, xa, \"Да\", sep = \"\\t\")\n",
    "    else: print(round(D, 5), a, xa, \"Нет\", sep = \"\\t\")"
   ]
  },
  {
   "cell_type": "code",
   "execution_count": 69,
   "metadata": {
    "collapsed": true
   },
   "outputs": [],
   "source": [
    "def print_table__3(a, pval):\n",
    "    if pval < a: print(a, round(pval, 5), \"Нет\", sep = \"\\t\")\n",
    "    else: print(a, round(pval, 5), \"Да\", sep = \"\\t\")"
   ]
  },
  {
   "cell_type": "code",
   "execution_count": 70,
   "metadata": {
    "collapsed": true
   },
   "outputs": [],
   "source": [
    "#0.01 = 1.63, 0.02 = 1.57, 0.05 = 1.36, 0.1 = 1.22, 0.2 = 1.07\n",
    "def check_4_1(D, pval, a):\n",
    "    xa = 0\n",
    "    if a == 0.01: xa = 1.63\n",
    "    elif a == 0.02: xa = 1.57\n",
    "    elif a == 0.05: xa = 1.36\n",
    "    elif a == 0.1: xa = 1.22\n",
    "    elif a == 0.2: xa = 1.07\n",
    "        \n",
    "    if D < xa: print(round(D, 5), \" <= \", xa, \", значит не противоречит эксперементальным данным\", sep = \"\")\n",
    "    else: print(round(D, 5), \" > \", xa, \", значит противоречит эксперементальным данным\", sep = \"\")\n",
    "    print()\n",
    "    print_table__2(D=D, a=a, xa=xa)\n",
    "    print()\n",
    "    \n",
    "    if pval < a: print(round(pval, 5), \" < \", a, \", значит противоречит эксперементальным данным\", sep = \"\")\n",
    "    else: print(round(pval, 5), \" >= \", a, \", значит не противоречит эксперементальным данным\", sep = \"\")\n",
    "    print()\n",
    "    print_table__3(a=a, pval=pval)\n",
    "    "
   ]
  },
  {
   "cell_type": "code",
   "execution_count": 71,
   "metadata": {
    "collapsed": true
   },
   "outputs": [],
   "source": [
    "def show_two_emperic(x1, x1_c, x2, x2_c, a, b, n):\n",
    "    sum1 = sum2 = 0 \n",
    "    plt.grid(True)\n",
    "    plt.xticks(np.arange(a, b + 1, 1))\n",
    "    plt.yticks(np.arange(0, 1.1, 0.1))\n",
    "    for i in range(len(x1_c) - 1):\n",
    "        sum1 += Counter(x1)[x1_c[i]] / n\n",
    "        X1 = [x1_c[i], x1_c[i + 1]]\n",
    "        Y1 = [sum1, sum1]\n",
    "        plt.plot(X1, Y1, color = 'blue')\n",
    "    for i in range(len(x2_c) - 1):\n",
    "        sum2 += Counter(x2)[x2_c[i]] / n\n",
    "        X2 = [x2_c[i], x2_c[i + 1]]\n",
    "        Y2 = [sum2, sum2]\n",
    "        plt.plot(X2, Y2, color = 'red')\n",
    "    plt.show()"
   ]
  },
  {
   "cell_type": "code",
   "execution_count": 72,
   "metadata": {
    "collapsed": true
   },
   "outputs": [],
   "source": [
    "def find_max(findx, helpx, result):\n",
    "    j = 0\n",
    "    for i in range(len(findx)):\n",
    "        fs = []\n",
    "        if findx[i] < helpx[0]: fs = [abs(find_Fn_x(j=i, N=len(findx))), abs(find_Fn_x0(j=i, N=len(findx)))]\n",
    "        elif findx[i] >= helpx[-1]: fs = [abs(find_Fn_x(j=i, N=len(findx)) - 1), abs(find_Fn_x0(j=i, N=len(findx)) - 1)]\n",
    "        else:\n",
    "            while (findx[i] >= helpx[j]): j += 1\n",
    "            fs = [abs(find_Fn_x(j=i, N=len(findx)) - (j - 1) / len(helpx)), \n",
    "                  abs((j - 1) / len(helpx) - find_Fn_x0(j=i, N=len(findx)))]\n",
    "        if result[0] < max(fs):\n",
    "            result[0] = max(fs)\n",
    "            result[1] = i\n",
    "    return result"
   ]
  },
  {
   "cell_type": "code",
   "execution_count": 73,
   "metadata": {
    "collapsed": true
   },
   "outputs": [],
   "source": [
    "def find_Fm_from0toxdot(findx, maxfromx, helpx):\n",
    "    j = 0\n",
    "    while findx[maxfromx[1]] >= helpx[j]: j += 1\n",
    "    return float(j+1) / len(helpx)"
   ]
  },
  {
   "cell_type": "code",
   "execution_count": 74,
   "metadata": {
    "collapsed": true
   },
   "outputs": [],
   "source": [
    "def make_table_4_2(x1, x2, a, b, N, table, M):\n",
    "    Dn = -1\n",
    "    xdot = -1\n",
    "    maxfrom1 = [-1, -1]\n",
    "    maxfrom2 = [-1, -1]\n",
    "    check = 0\n",
    "    find_max(findx=x1, helpx=x2, result=maxfrom1)\n",
    "    find_max(findx=x2, helpx=x1, result=maxfrom2)\n",
    "    xdotel = 0\n",
    "    if maxfrom1[0] < maxfrom2[0]:\n",
    "        Dn = maxfrom2[0]\n",
    "        xdot = maxfrom2[1]\n",
    "        xdotel = x2[xdot]\n",
    "        check = 1\n",
    "    else:\n",
    "        Dn = maxfrom1[0]\n",
    "        xdot = maxfrom1[1]\n",
    "        xdotel = x1[xdot]\n",
    "        check = 2\n",
    "    Knm = Dn * math.sqrt(N * M / (N + M))\n",
    "    six = seven = eight = nine = 0\n",
    "    if check == 1:\n",
    "        maxfrom1, maxfrom2 = maxfrom2, maxfrom1\n",
    "    six = find_Fn_x(j=maxfrom1[1] + 1, N=N)\n",
    "    seven = find_Fn_x0(j=maxfrom1[1] + 1, N=N)\n",
    "    eight = find_Fm_from0toxdot(findx=x1, maxfromx=maxfrom1, helpx=x2)\n",
    "    nine = (find_Fm_from0toxdot(findx=x1, maxfromx=maxfrom1, helpx=x2) * len(x2) - 1) / len(x2)\n",
    "    table = [N, M, Dn, Knm, xdotel, six, seven, eight, nine]\n",
    "    return table"
   ]
  },
  {
   "cell_type": "code",
   "execution_count": 75,
   "metadata": {
    "collapsed": true
   },
   "outputs": [],
   "source": [
    "def print_table_4_3or4_2(D, s_a, a):\n",
    "    if D < s_a: print(round(D, 5), a, round(s_a, 5), \"H0\", sep = \"\\t\")\n",
    "    else: print(round(D, 5), a, round(s_a, 5), \"H1\", sep = \"\\t\")\n",
    "    print(\"не забудь в ворде переделать последний столбец\")"
   ]
  },
  {
   "cell_type": "code",
   "execution_count": 76,
   "metadata": {
    "collapsed": true
   },
   "outputs": [],
   "source": [
    "def check_4_3or4(D, s_a, a):\n",
    "\n",
    "    if D < s_a: print(round(D, 5), \" <= \", round(s_a, 5), \", значит принимается основная гипотеза\", sep = \"\")\n",
    "    else: print(round(D, 5), \" > \", round(s_a, 5), \", значит принимается конкурирующая гипотеза\", sep = \"\")\n",
    "    print()\n",
    "    print_table_4_3or4_2(D=D, a=a, s_a=s_a)\n",
    "    print()"
   ]
  },
  {
   "cell_type": "code",
   "execution_count": 77,
   "metadata": {},
   "outputs": [
    {
     "data": {
      "text/plain": [
       "1.2238734153404083"
      ]
     },
     "execution_count": 77,
     "metadata": {},
     "output_type": "execute_result"
    }
   ],
   "source": [
    "#GLOBAL\n",
    "level_value = 0.05\n",
    "s_alpha = math.sqrt(-0.5*math.log(level_value))\n",
    "s_alpha"
   ]
  },
  {
   "cell_type": "markdown",
   "metadata": {},
   "source": [
    "# 4.1"
   ]
  },
  {
   "cell_type": "code",
   "execution_count": 78,
   "metadata": {},
   "outputs": [
    {
     "name": "stdout",
     "output_type": "stream",
     "text": [
      "2.58\t4\t3.62\t0.61\t0.22\t1.76\t4.32\t1.83\t1.36\t"
     ]
    }
   ],
   "source": [
    "x1 = [2.58, 4, 3.62, 0.61, 0.22, 1.76, 4.32, 1.83, 1.36]\n",
    "arr_print(x1)\n",
    "x1.sort()"
   ]
  },
  {
   "cell_type": "code",
   "execution_count": 79,
   "metadata": {},
   "outputs": [
    {
     "name": "stdout",
     "output_type": "stream",
     "text": [
      "0.22\t0.61\t1.36\t1.76\t1.83\t2.58\t3.62\t4\t4.32\t"
     ]
    }
   ],
   "source": [
    "arr_print(x1)\n",
    "x1_c = [x1[0]]\n",
    "del_repeat(x = x1, x_c = x1_c)\n",
    "n_x1 = []\n",
    "w_x1 = []\n",
    "chance_arrays(n=n_x1, w=w_x1, x=x1, x_c=x1_c)"
   ]
  },
  {
   "cell_type": "code",
   "execution_count": 80,
   "metadata": {
    "collapsed": true
   },
   "outputs": [],
   "source": [
    "a = 0\n",
    "b = 5\n",
    "N = len(x1)"
   ]
  },
  {
   "cell_type": "code",
   "execution_count": 81,
   "metadata": {},
   "outputs": [
    {
     "data": {
      "image/png": "[encoded data removed]",
      "text/plain": [
       "<matplotlib.figure.Figure at 0x1c41b2806d8>"
      ]
     },
     "metadata": {},
     "output_type": "display_data"
    }
   ],
   "source": [
    "emperic_and_distribution(x = x1, x_c = x1_c, a = a, b = b, n = N)"
   ]
  },
  {
   "cell_type": "code",
   "execution_count": 82,
   "metadata": {},
   "outputs": [
    {
     "data": {
      "text/plain": [
       "0.90285958257138688"
      ]
     },
     "execution_count": 82,
     "metadata": {},
     "output_type": "execute_result"
    }
   ],
   "source": [
    "z_4_1 = stats.kstest(x1, 'uniform', args = (a, b))[1]\n",
    "z_4_1"
   ]
  },
  {
   "cell_type": "code",
   "execution_count": 83,
   "metadata": {},
   "outputs": [
    {
     "name": "stdout",
     "output_type": "stream",
     "text": [
      "0\t5\t9\t0.16844\t0.50533\t3.62\t0.724\t0.77778\t0.66667\n"
     ]
    }
   ],
   "source": [
    "#0 - a, 1 - b, 2 - N, 3 - D, 4 - DsqrtN, 5 - xdot, 6 - F_xdot, 7 - Fn_xdot, 8 - Fn_xdot_minus_zero\n",
    "table_4_1 = []\n",
    "D = DsqrtN = xdot = F_xdot = Fn_xdot = Fn_xdot_minus_zero = -1\n",
    "table_4_1 = make_table_4_1or3or4(x=x1, a=a, b=b, N=N, table = table_4_1, num=1)\n",
    "print('\\t'.join(str(round(i, 5)) for i in table_4_1))"
   ]
  },
  {
   "cell_type": "code",
   "execution_count": 84,
   "metadata": {},
   "outputs": [
    {
     "name": "stdout",
     "output_type": "stream",
     "text": [
      "0.50533 <= 1.36, значит не противоречит эксперементальным данным\n",
      "\n",
      "0.50533\t0.05\t1.36\tДа\n",
      "\n",
      "0.90286 >= 0.05, значит не противоречит эксперементальным данным\n",
      "\n",
      "0.05\t0.90286\tДа\n"
     ]
    }
   ],
   "source": [
    "check_4_1(D=table_4_1[4], pval=z_4_1, a=level_value)"
   ]
  },
  {
   "cell_type": "markdown",
   "metadata": {
    "collapsed": true
   },
   "source": [
    "# 4.2"
   ]
  },
  {
   "cell_type": "code",
   "execution_count": 85,
   "metadata": {},
   "outputs": [
    {
     "name": "stdout",
     "output_type": "stream",
     "text": [
      "7.92808\t3.88546\t1.28455\t7.81072\t2.01184\t0.86551\t2.53555\t0.89404\t9.2788\t9.54151\t\n",
      "6.70372\t5.8561\t8.51668\t6.40546\t6.19531\t1.11094\t5.87662\t2.60611\t8.08207\t0.76075\t\n",
      "3.20569\t4.07311\t4.74532\t2.44456\t1.85722\t5.19883\t9.51244\t8.35783\t2.08456\t1.38706\t\n",
      "5.11108\t3.01705\t5.88121\t9.52144\t3.56182\t4.52995\t1.46248\t4.15456\t8.48374\t3.8365\t\n",
      "3.22387\t8.62693\t6.5266\t1.3876\t5.93962\t2.46076\t6.76843\t4.42123\t5.69401\t5.62948\t\n",
      "1.89772\t2.59783\t2.95711\t4.40872\t1.42918\t1.40137\t7.96111\t5.65081\t7.71514\t1.21021\t\n",
      "7.80676\t1.10761\t8.20519\t3.92119\t9.41407\t7.3033\t7.35946\t9.51775\t1.59253\t4.44571\t\n",
      "1.31308\t7.27396\t5.00371\t4.02793\t3.51808\t1.85965\t2.88889\t5.98183\t8.39419\t8.36971\t\n",
      "2.31622\t3.08077\t8.45197\t4.06888\t6.04303\t2.60233\t2.81392\t5.81488\t8.82025\t7.49986\t\n",
      "1.59766\t3.33097\t6.78418\t5.93899\t1.05487\t1.29454\t6.76015\t3.32971\t9.22165\t7.91062\t\n",
      "4.9732\t3.1471\t3.23296\t8.21419\t1.22236\t1.55149\t7.96435\t2.51467\t1.47751\t7.4005\t\n",
      "0.70324\t6.89857\t1.1923\t2.61538\t2.50252\t4.49719\t5.97373\t9.55699\t3.26923\t9.44044\t\n",
      "9.37465\t3.06772\t2.19436\t4.58476\t7.70623\t1.35727\t8.09899\t8.13814\t8.67175\t5.46775\t\n",
      "7.84438\t4.60321\t9.65491\t3.6043\t4.8202\t3.57784\t3.85828\t9.69172\t2.44762\t9.16612\t\n",
      "8.19367\t8.15173\t7.80712\t1.77406\t2.85802\t1.92238\t6.97156\t3.62437\t7.17487\t1.62565\t\n",
      "2.48056\t2.93911\t7.69768\t6.86518\t6.21016\t0.96334\t4.9813\t9.29626\t1.28194\t9.10996\t\n",
      "1.36987\t4.17445\t0.86767\t7.73512\t8.61442\t9.44152\t9.25675\t3.56452\t0.96064\t5.68105\t\n",
      "5.90173\t0.72538\t7.83106\t3.3154\t4.19893\t1.01158\t6.11386\t2.40541\t6.90676\t5.80192\t\n",
      "3.9364\t4.21657\t8.01673\t5.47783\t0.99313\t7.36234\t1.4227\t7.82179\t1.24342\t7.01998\t\n",
      "4.4224\t0.9826\t8.62972\t4.56928\t8.16721\t8.22679\t7.03339\t8.54062\t0.95164\t0.96631\t\n",
      "2.4262\t9.38977\t7.97245\t1.19815\t2.06953\t1.96684\t6.66673\t6.89767\t9.37654\t4.38118\t\n",
      "1.49857\t5.92\t2.95495\t0.98359\t3.8158\t5.90758\t8.42002\t6.86104\t6.74575\t1.42945\t\n",
      "8.58742\t3.92191\t5.52247\t9.32263\t6.9982\t6.43579\t9.5326\t8.6245\t3.44113\t0.73708\t\n",
      "7.79677\t2.36401\t3.99004\t6.14149\t2.12704\t8.00674\t5.97688\t2.62708\t3.84883\t8.87632\t\n",
      "1.8439\t7.71199\t1.15891\t3.64327\t1.16827\t2.81707\t4.11811\t9.36565\t1.5982\t3.44482\t\n",
      "5.50384\t9.13552\t5.09326\t5.84341\t7.88938\t4.99462\t6.40501\t5.82352\t8.32282\t8.29492\t\n",
      "6.31681\t2.49316\t8.24839\t4.91506\t1.68469\t1.84498\t5.78788\t7.79362\t7.35406\t3.06898\t\n"
     ]
    }
   ],
   "source": [
    "x2 = [7.92808, 3.88546, 1.28455, 7.81072, 2.01184, 0.86551, 2.53555, 0.89404, 9.27880, 9.54151,\n",
    "6.70372, 5.85610, 8.51668, 6.40546, 6.19531, 1.11094, 5.87662, 2.60611, 8.08207, 0.76075,\n",
    "3.20569, 4.07311, 4.74532, 2.44456, 1.85722, 5.19883, 9.51244, 8.35783, 2.08456, 1.38706,\n",
    "5.11108, 3.01705, 5.88121, 9.52144, 3.56182, 4.52995, 1.46248, 4.15456, 8.48374, 3.83650,\n",
    "3.22387, 8.62693, 6.52660, 1.38760, 5.93962, 2.46076, 6.76843, 4.42123, 5.69401, 5.62948,\n",
    "1.89772, 2.59783, 2.95711, 4.40872, 1.42918, 1.40137, 7.96111, 5.65081, 7.71514, 1.21021,\n",
    "7.80676, 1.10761, 8.20519, 3.92119, 9.41407, 7.30330, 7.35946, 9.51775, 1.59253, 4.44571,\n",
    "1.31308, 7.27396, 5.00371, 4.02793, 3.51808, 1.85965, 2.88889, 5.98183, 8.39419, 8.36971,\n",
    "2.31622, 3.08077, 8.45197, 4.06888, 6.04303, 2.60233, 2.81392, 5.81488, 8.82025, 7.49986,\n",
    "1.59766, 3.33097, 6.78418, 5.93899, 1.05487, 1.29454, 6.76015, 3.32971, 9.22165, 7.91062,\n",
    "4.97320, 3.14710, 3.23296, 8.21419, 1.22236, 1.55149, 7.96435, 2.51467, 1.47751, 7.40050,\n",
    "0.70324, 6.89857, 1.19230, 2.61538, 2.50252, 4.49719, 5.97373, 9.55699, 3.26923, 9.44044,\n",
    "9.37465, 3.06772, 2.19436, 4.58476, 7.70623, 1.35727, 8.09899, 8.13814, 8.67175, 5.46775,\n",
    "7.84438, 4.60321, 9.65491, 3.60430, 4.82020, 3.57784, 3.85828, 9.69172, 2.44762, 9.16612,\n",
    "8.19367, 8.15173, 7.80712, 1.77406, 2.85802, 1.92238, 6.97156, 3.62437, 7.17487, 1.62565,\n",
    "2.48056, 2.93911, 7.69768, 6.86518, 6.21016, 0.96334, 4.98130, 9.29626, 1.28194, 9.10996,\n",
    "1.36987, 4.17445, 0.86767, 7.73512, 8.61442, 9.44152, 9.25675, 3.56452, 0.96064, 5.68105,\n",
    "5.90173, 0.72538, 7.83106, 3.31540, 4.19893, 1.01158, 6.11386, 2.40541, 6.90676, 5.80192,\n",
    "3.93640, 4.21657, 8.01673, 5.47783, 0.99313, 7.36234, 1.42270, 7.82179, 1.24342, 7.01998,\n",
    "4.42240, 0.98260, 8.62972, 4.56928, 8.16721, 8.22679, 7.03339, 8.54062, 0.95164, 0.96631,\n",
    "2.42620, 9.38977, 7.97245, 1.19815, 2.06953, 1.96684, 6.66673, 6.89767, 9.37654, 4.38118,\n",
    "1.49857, 5.92000, 2.95495, 0.98359, 3.81580, 5.90758, 8.42002, 6.86104, 6.74575, 1.42945,\n",
    "8.58742, 3.92191, 5.52247, 9.32263, 6.99820, 6.43579, 9.53260, 8.62450, 3.44113, 0.73708,\n",
    "7.79677, 2.36401, 3.99004, 6.14149, 2.12704, 8.00674, 5.97688, 2.62708, 3.84883, 8.87632,\n",
    "1.84390, 7.71199, 1.15891, 3.64327, 1.16827, 2.81707, 4.11811, 9.36565, 1.59820, 3.44482,\n",
    "5.50384, 9.13552, 5.09326, 5.84341, 7.88938, 4.99462, 6.40501, 5.82352, 8.32282, 8.29492,\n",
    "6.31681, 2.49316, 8.24839, 4.91506, 1.68469, 1.84498, 5.78788, 7.79362, 7.35406, 3.06898]\n",
    "arr_print(x2)\n",
    "x2.sort()\n",
    "M = len(x2)"
   ]
  },
  {
   "cell_type": "code",
   "execution_count": 86,
   "metadata": {},
   "outputs": [
    {
     "name": "stdout",
     "output_type": "stream",
     "text": [
      "0.70324\t0.72538\t0.73708\t0.76075\t0.86551\t0.86767\t0.89404\t0.95164\t0.96064\t0.96334\t\n",
      "0.96631\t0.9826\t0.98359\t0.99313\t1.01158\t1.05487\t1.10761\t1.11094\t1.15891\t1.16827\t\n",
      "1.1923\t1.19815\t1.21021\t1.22236\t1.24342\t1.28194\t1.28455\t1.29454\t1.31308\t1.35727\t\n",
      "1.36987\t1.38706\t1.3876\t1.40137\t1.4227\t1.42918\t1.42945\t1.46248\t1.47751\t1.49857\t\n",
      "1.55149\t1.59253\t1.59766\t1.5982\t1.62565\t1.68469\t1.77406\t1.8439\t1.84498\t1.85722\t\n",
      "1.85965\t1.89772\t1.92238\t1.96684\t2.01184\t2.06953\t2.08456\t2.12704\t2.19436\t2.31622\t\n",
      "2.36401\t2.40541\t2.4262\t2.44456\t2.44762\t2.46076\t2.48056\t2.49316\t2.50252\t2.51467\t\n",
      "2.53555\t2.59783\t2.60233\t2.60611\t2.61538\t2.62708\t2.81392\t2.81707\t2.85802\t2.88889\t\n",
      "2.93911\t2.95495\t2.95711\t3.01705\t3.06772\t3.06898\t3.08077\t3.1471\t3.20569\t3.22387\t\n",
      "3.23296\t3.26923\t3.3154\t3.32971\t3.33097\t3.44113\t3.44482\t3.51808\t3.56182\t3.56452\t\n",
      "3.57784\t3.6043\t3.62437\t3.64327\t3.8158\t3.8365\t3.84883\t3.85828\t3.88546\t3.92119\t\n",
      "3.92191\t3.9364\t3.99004\t4.02793\t4.06888\t4.07311\t4.11811\t4.15456\t4.17445\t4.19893\t\n",
      "4.21657\t4.38118\t4.40872\t4.42123\t4.4224\t4.44571\t4.49719\t4.52995\t4.56928\t4.58476\t\n",
      "4.60321\t4.74532\t4.8202\t4.91506\t4.9732\t4.9813\t4.99462\t5.00371\t5.09326\t5.11108\t\n",
      "5.19883\t5.46775\t5.47783\t5.50384\t5.52247\t5.62948\t5.65081\t5.68105\t5.69401\t5.78788\t\n",
      "5.80192\t5.81488\t5.82352\t5.84341\t5.8561\t5.87662\t5.88121\t5.90173\t5.90758\t5.92\t\n",
      "5.93899\t5.93962\t5.97373\t5.97688\t5.98183\t6.04303\t6.11386\t6.14149\t6.19531\t6.21016\t\n",
      "6.31681\t6.40501\t6.40546\t6.43579\t6.5266\t6.66673\t6.70372\t6.74575\t6.76015\t6.76843\t\n",
      "6.78418\t6.86104\t6.86518\t6.89767\t6.89857\t6.90676\t6.97156\t6.9982\t7.01998\t7.03339\t\n",
      "7.17487\t7.27396\t7.3033\t7.35406\t7.35946\t7.36234\t7.4005\t7.49986\t7.69768\t7.70623\t\n",
      "7.71199\t7.71514\t7.73512\t7.79362\t7.79677\t7.80676\t7.80712\t7.81072\t7.82179\t7.83106\t\n",
      "7.84438\t7.88938\t7.91062\t7.92808\t7.96111\t7.96435\t7.97245\t8.00674\t8.01673\t8.08207\t\n",
      "8.09899\t8.13814\t8.15173\t8.16721\t8.19367\t8.20519\t8.21419\t8.22679\t8.24839\t8.29492\t\n",
      "8.32282\t8.35783\t8.36971\t8.39419\t8.42002\t8.45197\t8.48374\t8.51668\t8.54062\t8.58742\t\n",
      "8.61442\t8.6245\t8.62693\t8.62972\t8.67175\t8.82025\t8.87632\t9.10996\t9.13552\t9.16612\t\n",
      "9.22165\t9.25675\t9.2788\t9.29626\t9.32263\t9.36565\t9.37465\t9.37654\t9.38977\t9.41407\t\n",
      "9.44044\t9.44152\t9.51244\t9.51775\t9.52144\t9.5326\t9.54151\t9.55699\t9.65491\t9.69172\t\n"
     ]
    }
   ],
   "source": [
    "arr_print(x2)\n",
    "x2_c = [x2[0]]\n",
    "del_repeat(x = x2, x_c = x2_c)\n",
    "n_x2 = []\n",
    "w_x2 = []\n",
    "chance_arrays(n=n_x2, w=w_x2, x=x2, x_c=x2_c)"
   ]
  },
  {
   "cell_type": "code",
   "execution_count": 87,
   "metadata": {},
   "outputs": [
    {
     "data": {
      "image/png": "[encoded data removed]",
      "text/plain": [
       "<matplotlib.figure.Figure at 0x1c41b219eb8>"
      ]
     },
     "metadata": {},
     "output_type": "display_data"
    }
   ],
   "source": [
    "show_two_emperic(x1=x1, a=a, b=b, n=N, x1_c=x1_c, x2=x2, x2_c=x2_c)"
   ]
  },
  {
   "cell_type": "code",
   "execution_count": 88,
   "metadata": {},
   "outputs": [
    {
     "data": {
      "text/plain": [
       "0.0055596415941908013"
      ]
     },
     "execution_count": 88,
     "metadata": {},
     "output_type": "execute_result"
    }
   ],
   "source": [
    "pval = stats.ks_2samp(data1=x1, data2=x2)[1]\n",
    "pval"
   ]
  },
  {
   "cell_type": "code",
   "execution_count": 89,
   "metadata": {},
   "outputs": [
    {
     "ename": "IndexError",
     "evalue": "list index out of range",
     "output_type": "error",
     "traceback": [
      "\u001b[1;31m---------------------------------------------------------------------------\u001b[0m",
      "\u001b[1;31mIndexError\u001b[0m                                Traceback (most recent call last)",
      "\u001b[1;32m<ipython-input-89-957526a3cb45>\u001b[0m in \u001b[0;36m<module>\u001b[1;34m()\u001b[0m\n\u001b[0;32m      2\u001b[0m \u001b[0mtable_4_2\u001b[0m \u001b[1;33m=\u001b[0m \u001b[1;33m[\u001b[0m\u001b[1;33m]\u001b[0m\u001b[1;33m\u001b[0m\u001b[0m\n\u001b[0;32m      3\u001b[0m \u001b[0mD\u001b[0m \u001b[1;33m=\u001b[0m \u001b[0mDsqrtN\u001b[0m \u001b[1;33m=\u001b[0m \u001b[0mxdot\u001b[0m \u001b[1;33m=\u001b[0m \u001b[0mF_xdot\u001b[0m \u001b[1;33m=\u001b[0m \u001b[0mFn_xdot\u001b[0m \u001b[1;33m=\u001b[0m \u001b[0mFn_xdot_minus_zero\u001b[0m \u001b[1;33m=\u001b[0m \u001b[1;33m-\u001b[0m\u001b[1;36m1\u001b[0m\u001b[1;33m\u001b[0m\u001b[0m\n\u001b[1;32m----> 4\u001b[1;33m \u001b[0mtable_4_2\u001b[0m \u001b[1;33m=\u001b[0m \u001b[0mmake_table_4_2\u001b[0m\u001b[1;33m(\u001b[0m\u001b[0ma\u001b[0m\u001b[1;33m=\u001b[0m\u001b[0ma\u001b[0m\u001b[1;33m,\u001b[0m \u001b[0mb\u001b[0m\u001b[1;33m=\u001b[0m\u001b[0mb\u001b[0m\u001b[1;33m,\u001b[0m \u001b[0mM\u001b[0m\u001b[1;33m=\u001b[0m\u001b[0mM\u001b[0m\u001b[1;33m,\u001b[0m \u001b[0mN\u001b[0m\u001b[1;33m=\u001b[0m\u001b[0mN\u001b[0m\u001b[1;33m,\u001b[0m \u001b[0mtable\u001b[0m\u001b[1;33m=\u001b[0m\u001b[0mtable_4_2\u001b[0m\u001b[1;33m,\u001b[0m \u001b[0mx1\u001b[0m\u001b[1;33m=\u001b[0m\u001b[0mx1\u001b[0m\u001b[1;33m,\u001b[0m \u001b[0mx2\u001b[0m\u001b[1;33m=\u001b[0m\u001b[0mx2\u001b[0m\u001b[1;33m)\u001b[0m\u001b[1;33m\u001b[0m\u001b[0m\n\u001b[0m\u001b[0;32m      5\u001b[0m \u001b[0mprint\u001b[0m\u001b[1;33m(\u001b[0m\u001b[1;34m'\\t'\u001b[0m\u001b[1;33m.\u001b[0m\u001b[0mjoin\u001b[0m\u001b[1;33m(\u001b[0m\u001b[0mstr\u001b[0m\u001b[1;33m(\u001b[0m\u001b[0mround\u001b[0m\u001b[1;33m(\u001b[0m\u001b[0mi\u001b[0m\u001b[1;33m,\u001b[0m \u001b[1;36m5\u001b[0m\u001b[1;33m)\u001b[0m\u001b[1;33m)\u001b[0m \u001b[1;32mfor\u001b[0m \u001b[0mi\u001b[0m \u001b[1;32min\u001b[0m \u001b[0mtable_4_2\u001b[0m\u001b[1;33m)\u001b[0m\u001b[1;33m)\u001b[0m\u001b[1;33m\u001b[0m\u001b[0m\n",
      "\u001b[1;32m<ipython-input-74-286bc791f20e>\u001b[0m in \u001b[0;36mmake_table_4_2\u001b[1;34m(x1, x2, a, b, N, table, M)\u001b[0m\n\u001b[0;32m     24\u001b[0m     \u001b[0msix\u001b[0m \u001b[1;33m=\u001b[0m \u001b[0mfind_Fn_x\u001b[0m\u001b[1;33m(\u001b[0m\u001b[0mj\u001b[0m\u001b[1;33m=\u001b[0m\u001b[0mmaxfrom1\u001b[0m\u001b[1;33m[\u001b[0m\u001b[1;36m1\u001b[0m\u001b[1;33m]\u001b[0m \u001b[1;33m+\u001b[0m \u001b[1;36m1\u001b[0m\u001b[1;33m,\u001b[0m \u001b[0mN\u001b[0m\u001b[1;33m=\u001b[0m\u001b[0mN\u001b[0m\u001b[1;33m)\u001b[0m\u001b[1;33m\u001b[0m\u001b[0m\n\u001b[0;32m     25\u001b[0m     \u001b[0mseven\u001b[0m \u001b[1;33m=\u001b[0m \u001b[0mfind_Fn_x0\u001b[0m\u001b[1;33m(\u001b[0m\u001b[0mj\u001b[0m\u001b[1;33m=\u001b[0m\u001b[0mmaxfrom1\u001b[0m\u001b[1;33m[\u001b[0m\u001b[1;36m1\u001b[0m\u001b[1;33m]\u001b[0m \u001b[1;33m+\u001b[0m \u001b[1;36m1\u001b[0m\u001b[1;33m,\u001b[0m \u001b[0mN\u001b[0m\u001b[1;33m=\u001b[0m\u001b[0mN\u001b[0m\u001b[1;33m)\u001b[0m\u001b[1;33m\u001b[0m\u001b[0m\n\u001b[1;32m---> 26\u001b[1;33m     \u001b[0meight\u001b[0m \u001b[1;33m=\u001b[0m \u001b[0mfind_Fm_from0toxdot\u001b[0m\u001b[1;33m(\u001b[0m\u001b[0mfindx\u001b[0m\u001b[1;33m=\u001b[0m\u001b[0mx1\u001b[0m\u001b[1;33m,\u001b[0m \u001b[0mmaxfromx\u001b[0m\u001b[1;33m=\u001b[0m\u001b[0mmaxfrom1\u001b[0m\u001b[1;33m,\u001b[0m \u001b[0mhelpx\u001b[0m\u001b[1;33m=\u001b[0m\u001b[0mx2\u001b[0m\u001b[1;33m)\u001b[0m\u001b[1;33m\u001b[0m\u001b[0m\n\u001b[0m\u001b[0;32m     27\u001b[0m     \u001b[0mnine\u001b[0m \u001b[1;33m=\u001b[0m \u001b[1;33m(\u001b[0m\u001b[0mfind_Fm_from0toxdot\u001b[0m\u001b[1;33m(\u001b[0m\u001b[0mfindx\u001b[0m\u001b[1;33m=\u001b[0m\u001b[0mx1\u001b[0m\u001b[1;33m,\u001b[0m \u001b[0mmaxfromx\u001b[0m\u001b[1;33m=\u001b[0m\u001b[0mmaxfrom1\u001b[0m\u001b[1;33m,\u001b[0m \u001b[0mhelpx\u001b[0m\u001b[1;33m=\u001b[0m\u001b[0mx2\u001b[0m\u001b[1;33m)\u001b[0m \u001b[1;33m*\u001b[0m \u001b[0mlen\u001b[0m\u001b[1;33m(\u001b[0m\u001b[0mx2\u001b[0m\u001b[1;33m)\u001b[0m \u001b[1;33m-\u001b[0m \u001b[1;36m1\u001b[0m\u001b[1;33m)\u001b[0m \u001b[1;33m/\u001b[0m \u001b[0mlen\u001b[0m\u001b[1;33m(\u001b[0m\u001b[0mx2\u001b[0m\u001b[1;33m)\u001b[0m\u001b[1;33m\u001b[0m\u001b[0m\n\u001b[0;32m     28\u001b[0m     \u001b[0mtable\u001b[0m \u001b[1;33m=\u001b[0m \u001b[1;33m[\u001b[0m\u001b[0mN\u001b[0m\u001b[1;33m,\u001b[0m \u001b[0mM\u001b[0m\u001b[1;33m,\u001b[0m \u001b[0mDn\u001b[0m\u001b[1;33m,\u001b[0m \u001b[0mKnm\u001b[0m\u001b[1;33m,\u001b[0m \u001b[0mxdotel\u001b[0m\u001b[1;33m,\u001b[0m \u001b[0msix\u001b[0m\u001b[1;33m,\u001b[0m \u001b[0mseven\u001b[0m\u001b[1;33m,\u001b[0m \u001b[0meight\u001b[0m\u001b[1;33m,\u001b[0m \u001b[0mnine\u001b[0m\u001b[1;33m]\u001b[0m\u001b[1;33m\u001b[0m\u001b[0m\n",
      "\u001b[1;32m<ipython-input-73-dd332b19e480>\u001b[0m in \u001b[0;36mfind_Fm_from0toxdot\u001b[1;34m(findx, maxfromx, helpx)\u001b[0m\n\u001b[0;32m      1\u001b[0m \u001b[1;32mdef\u001b[0m \u001b[0mfind_Fm_from0toxdot\u001b[0m\u001b[1;33m(\u001b[0m\u001b[0mfindx\u001b[0m\u001b[1;33m,\u001b[0m \u001b[0mmaxfromx\u001b[0m\u001b[1;33m,\u001b[0m \u001b[0mhelpx\u001b[0m\u001b[1;33m)\u001b[0m\u001b[1;33m:\u001b[0m\u001b[1;33m\u001b[0m\u001b[0m\n\u001b[0;32m      2\u001b[0m     \u001b[0mj\u001b[0m \u001b[1;33m=\u001b[0m \u001b[1;36m0\u001b[0m\u001b[1;33m\u001b[0m\u001b[0m\n\u001b[1;32m----> 3\u001b[1;33m     \u001b[1;32mwhile\u001b[0m \u001b[0mfindx\u001b[0m\u001b[1;33m[\u001b[0m\u001b[0mmaxfromx\u001b[0m\u001b[1;33m[\u001b[0m\u001b[1;36m1\u001b[0m\u001b[1;33m]\u001b[0m\u001b[1;33m]\u001b[0m \u001b[1;33m>=\u001b[0m \u001b[0mhelpx\u001b[0m\u001b[1;33m[\u001b[0m\u001b[0mj\u001b[0m\u001b[1;33m]\u001b[0m\u001b[1;33m:\u001b[0m \u001b[0mj\u001b[0m \u001b[1;33m+=\u001b[0m \u001b[1;36m1\u001b[0m\u001b[1;33m\u001b[0m\u001b[0m\n\u001b[0m\u001b[0;32m      4\u001b[0m     \u001b[1;32mreturn\u001b[0m \u001b[0mfloat\u001b[0m\u001b[1;33m(\u001b[0m\u001b[0mj\u001b[0m\u001b[1;33m+\u001b[0m\u001b[1;36m1\u001b[0m\u001b[1;33m)\u001b[0m \u001b[1;33m/\u001b[0m \u001b[0mlen\u001b[0m\u001b[1;33m(\u001b[0m\u001b[0mhelpx\u001b[0m\u001b[1;33m)\u001b[0m\u001b[1;33m\u001b[0m\u001b[0m\n",
      "\u001b[1;31mIndexError\u001b[0m: list index out of range"
     ]
    }
   ],
   "source": [
    "#0 - a, 1 - b, 2 - N, 3 - D, 4 - DsqrtN, 5 - xdot, 6 - F_xdot, 7 - Fn_xdot, 8 - Fn_xdot_minus_zero\n",
    "table_4_2 = []\n",
    "D = DsqrtN = xdot = F_xdot = Fn_xdot = Fn_xdot_minus_zero = -1\n",
    "table_4_2 = make_table_4_2(a=a, b=b, M=M, N=N, table=table_4_2, x1=x1, x2=x2)\n",
    "print('\\t'.join(str(round(i, 5)) for i in table_4_2))"
   ]
  },
  {
   "cell_type": "code",
   "execution_count": 90,
   "metadata": {},
   "outputs": [
    {
     "ename": "IndexError",
     "evalue": "list index out of range",
     "output_type": "error",
     "traceback": [
      "\u001b[1;31m---------------------------------------------------------------------------\u001b[0m",
      "\u001b[1;31mIndexError\u001b[0m                                Traceback (most recent call last)",
      "\u001b[1;32m<ipython-input-90-285a76842970>\u001b[0m in \u001b[0;36m<module>\u001b[1;34m()\u001b[0m\n\u001b[1;32m----> 1\u001b[1;33m \u001b[0mcheck_4_1\u001b[0m\u001b[1;33m(\u001b[0m\u001b[0ma\u001b[0m\u001b[1;33m=\u001b[0m\u001b[0mlevel_value\u001b[0m\u001b[1;33m,\u001b[0m \u001b[0mD\u001b[0m\u001b[1;33m=\u001b[0m\u001b[0mtable_4_2\u001b[0m\u001b[1;33m[\u001b[0m\u001b[1;36m3\u001b[0m\u001b[1;33m]\u001b[0m\u001b[1;33m,\u001b[0m \u001b[0mpval\u001b[0m\u001b[1;33m=\u001b[0m\u001b[0mpval\u001b[0m\u001b[1;33m)\u001b[0m\u001b[1;33m\u001b[0m\u001b[0m\n\u001b[0m",
      "\u001b[1;31mIndexError\u001b[0m: list index out of range"
     ]
    }
   ],
   "source": [
    "check_4_1(a=level_value, D=table_4_2[3], pval=pval)"
   ]
  },
  {
   "cell_type": "code",
   "execution_count": null,
   "metadata": {
    "collapsed": true
   },
   "outputs": [],
   "source": []
  },
  {
   "cell_type": "markdown",
   "metadata": {},
   "source": [
    "# 4.3 and 4.4"
   ]
  },
  {
   "cell_type": "code",
   "execution_count": 91,
   "metadata": {},
   "outputs": [
    {
     "name": "stdout",
     "output_type": "stream",
     "text": [
      "0\t5\t9\t0.07844\t0.23533\t1.83\t0.366\t0.55556\t0.44444\n"
     ]
    }
   ],
   "source": [
    "table_4_3 = []\n",
    "D = DsqrtN = xdot = F_xdot = Fn_xdot = Fn_xdot_minus_zero = -1\n",
    "table_4_3 = make_table_4_1or3or4(x=x1, a=a, b=b, N=N, table=table_4_3, num=3)\n",
    "print('\\t'.join(str(round(i, 5)) for i in table_4_3))"
   ]
  },
  {
   "cell_type": "code",
   "execution_count": 56,
   "metadata": {},
   "outputs": [
    {
     "name": "stdout",
     "output_type": "stream",
     "text": [
      "0.23533 <= 1.22387, значит принимается основная гипотеза\n",
      "\n",
      "0.23533\t0.05\t1.22387\tH0\n",
      "не забудь в ворде переделать последний столбец\n",
      "\n"
     ]
    }
   ],
   "source": [
    "check_4_3or4(D=table_4_3[4], s_a=s_alpha, a=level_value)"
   ]
  },
  {
   "cell_type": "code",
   "execution_count": 57,
   "metadata": {},
   "outputs": [
    {
     "name": "stdout",
     "output_type": "stream",
     "text": [
      "0\t5\t9\t0.16844\t0.50533\t3.62\t0.724\t0.77778\t0.66667\n"
     ]
    }
   ],
   "source": [
    "table_4_4 = []\n",
    "D = DsqrtN = xdot = F_xdot = Fn_xdot = Fn_xdot_minus_zero = -1\n",
    "table_4_4 = make_table_4_1or3or4(x=x1, a=a, b=b, N=N, table=table_4_4, num=4)\n",
    "print('\\t'.join(str(round(i, 5)) for i in table_4_4))"
   ]
  },
  {
   "cell_type": "code",
   "execution_count": 36,
   "metadata": {},
   "outputs": [
    {
     "name": "stdout",
     "output_type": "stream",
     "text": [
      "0.70887 <= 1.22387, значит принимается основная гипотеза\n",
      "\n",
      "0.70887\t0.05\t1.22387\tH0\n",
      "не забудь в ворде переделать последний столбец\n",
      "\n"
     ]
    }
   ],
   "source": [
    "check_4_3or4(D=table_4_4[4], s_a=s_alpha, a=level_value)"
   ]
  },
  {
   "cell_type": "code",
   "execution_count": null,
   "metadata": {
    "collapsed": true
   },
   "outputs": [],
   "source": []
  },
  {
   "cell_type": "code",
   "execution_count": null,
   "metadata": {
    "collapsed": true
   },
   "outputs": [],
   "source": []
  }
 ],
 "metadata": {
  "kernelspec": {
   "display_name": "Python 3",
   "language": "python",
   "name": "python3"
  },
  "language_info": {
   "codemirror_mode": {
    "name": "ipython",
    "version": 3
   },
   "file_extension": ".py",
   "mimetype": "text/x-python",
   "name": "python",
   "nbconvert_exporter": "python",
   "pygments_lexer": "ipython3",
   "version": "3.6.3"
  }
 },
 "nbformat": 4,
 "nbformat_minor": 2
}
