{
 "cells": [
  {
   "cell_type": "code",
   "execution_count": 1,
   "metadata": {
    "collapsed": true
   },
   "outputs": [],
   "source": [
    "import matplotlib.pyplot as plt\n",
    "from scipy import stats\n",
    "import math"
   ]
  },
  {
   "cell_type": "code",
   "execution_count": 2,
   "metadata": {
    "collapsed": true
   },
   "outputs": [],
   "source": [
    "def arr_print(x):\n",
    "    for i in range(len(x)):\n",
    "        print(x[i], end = \"\\t\")\n",
    "        if (i % 10 == 9): print()"
   ]
  },
  {
   "cell_type": "code",
   "execution_count": 3,
   "metadata": {
    "collapsed": true
   },
   "outputs": [],
   "source": [
    "def group(a0, af, x, int_x, arr_n, arr_w):\n",
    "    d = af - a0\n",
    "    print(\"Интервалы\\t\\tni\\twi\")\n",
    "    boof = a0\n",
    "    ind = 0\n",
    "    sum = 0\n",
    "    sum1 = 0\n",
    "    int_x.append(a0)\n",
    "    for i in range(m):\n",
    "        boof += round(d / m, 5)\n",
    "        if (i == m - 1): boof = af\n",
    "        int_x.append(round(boof, 5))\n",
    "        n = 0\n",
    "        while(x[ind] <= boof):\n",
    "            if (ind >= N - 1): \n",
    "                n += 1\n",
    "                ind += 1\n",
    "                break\n",
    "            n += 1\n",
    "            ind += 1\n",
    "        sum += n\n",
    "        arr_n.append(n)\n",
    "        arr_w.append(round(n / N, 5))\n",
    "        sum1 += n / N\n",
    "        if (i == 0): print('[', end = \"\")\n",
    "        else: print('(', end = \"\")\n",
    "        print(round(boof - d / m, 5), ',', round(boof, 5), \"]\\t\", n, '\\t', arr_w[-1], sep = \"\")\n",
    "    print('\\t\\t\\t', round(sum, 5), '\\t', round(sum1, 5), sep = \"\")"
   ]
  },
  {
   "cell_type": "code",
   "execution_count": 4,
   "metadata": {
    "collapsed": true
   },
   "outputs": [],
   "source": [
    "def as_static_row(int_x, n_x, w_x, xi_x):\n",
    "    print(\"xi\\t\\tni\\twi\")\n",
    "    for i in range(1, len(int_x)):\n",
    "        xi_x.append(round((int_x[i] + int_x[i - 1]) / 2, 5))\n",
    "        if (xi_x[-1] < 0):\n",
    "            print(xi_x[-1], '\\t', n_x[i - 1], '\\t', w_x[i - 1], sep = \"\")\n",
    "        else:\n",
    "            print(xi_x[-1], \"\\t\", n_x[i - 1], '\\t', w_x[i - 1], sep = \"\")"
   ]
  },
  {
   "cell_type": "code",
   "execution_count": 5,
   "metadata": {
    "collapsed": true
   },
   "outputs": [],
   "source": [
    "def sample_mean(xi_x, w_x, s):\n",
    "    z = 0.0\n",
    "    for i in range(len(xi_x)):\n",
    "        z += xi_x[i] ** s * w_x[i]\n",
    "    return round(z, 5)"
   ]
  },
  {
   "cell_type": "code",
   "execution_count": 6,
   "metadata": {
    "collapsed": true
   },
   "outputs": [],
   "source": [
    "def dispersion(xi_x, w_x, sm_x, h):\n",
    "    z = 0.0\n",
    "    for i in range(len(xi_x)):\n",
    "        z += xi_x[i] ** 2 * w_x[i]\n",
    "    z -= h ** 2 / 12 + sm_x ** 2\n",
    "    return round(z, 5)"
   ]
  },
  {
   "cell_type": "code",
   "execution_count": 7,
   "metadata": {
    "collapsed": true
   },
   "outputs": [],
   "source": [
    "def create_first_table(sm_x, otkl_x, first, second, third, fourth, fifth):\n",
    "    for i in range(len(first)):\n",
    "        second.append(round((first[i] - sm_x) / otkl_x, 5))\n",
    "        third.append(round(stats.norm.pdf(second[-1], sm_x, otkl_x) / otkl_x, 5))\n",
    "        fourth.append(round(stats.norm.cdf(second[-1]), 5))\n",
    "        if i == 1:\n",
    "            fifth.append(round(fourth[-1], 5))\n",
    "        elif i > 1:\n",
    "            fifth.append(round(fourth[-1] - fourth[-2], 5))"
   ]
  },
  {
   "cell_type": "code",
   "execution_count": 8,
   "metadata": {
    "collapsed": true
   },
   "outputs": [],
   "source": [
    "def print_first_table(first, second, third, fourth, fifth):\n",
    "    for i in range(len(first)):\n",
    "        print(i, '\\t', first[i], '\\t', second[i], '\\t', third[i], '\\t', fourth[i], sep = \"\", end = \"\\t\")\n",
    "        if i == 0: print('-')\n",
    "        else: print(fifth[i - 1])"
   ]
  },
  {
   "cell_type": "code",
   "execution_count": 9,
   "metadata": {
    "collapsed": true
   },
   "outputs": [],
   "source": [
    "def create_second_table(second, third, fourth, fifth, N):\n",
    "    for i in range(len(second)):\n",
    "        fourth.append(abs(second[i] - third[i]))\n",
    "        fifth.append(fourth[-1] ** 2 * N / third[i])"
   ]
  },
  {
   "cell_type": "code",
   "execution_count": 10,
   "metadata": {
    "collapsed": true
   },
   "outputs": [],
   "source": [
    "def print_second_table(first, second, third, fourth, fifth):\n",
    "    for i in range(len(second)):\n",
    "        if i == 0: z = '['\n",
    "        else: z = '('\n",
    "        print(i + 1, '\\t', z, first[i], \",\", first[i + 1], \"]\\t\", second[i],\n",
    "              '\\t', round(third[i], 5), '\\t', round(fourth[i], 5), '\\t', round(fifth[i], 5), sep = \"\")\n",
    "    print(\"\\t\\t\\t\\t\", round(sum(second), 3), '\\t', round(sum(third), 5), '\\t', max(fourth), '\\t', sum(fifth), sep = \"\")"
   ]
  },
  {
   "cell_type": "code",
   "execution_count": 11,
   "metadata": {
    "collapsed": true
   },
   "outputs": [],
   "source": [
    "def check(XKP, XB, l):\n",
    "    if (XB <= XKP[l - 4]): print(XB, \" <= \", XKP[l - 4], \", значит не противоречит эксперементальным данным\", sep = \"\")\n",
    "    else: print(XB, \" > \", XKP[l - 4], \", значит противоречит эксперементальным данным\", sep = \"\")"
   ]
  },
  {
   "cell_type": "code",
   "execution_count": 12,
   "metadata": {
    "collapsed": true
   },
   "outputs": [],
   "source": [
    "def graphics(int_x, w_x, h, sm_x, otkl_x, check, a0, af):\n",
    "    X = int_x\n",
    "    Y = []\n",
    "    for i in range(len(int_x)):\n",
    "        Y.append(w_x[i] / h)\n",
    "    width = h\n",
    "    plt.grid(True)\n",
    "    plt.bar(X, Y, width, edgecolor = \"black\", linewidth = 0.7, alpha = 0.7)\n",
    "    #plt.xticks(x)\n",
    "\n",
    "    X_OTH = []\n",
    "    Y_OTH = []\n",
    "    if check == 1:\n",
    "        counter = int_x[0]\n",
    "        while(counter < int_x[-1]):\n",
    "            X_OTH.append(counter)\n",
    "            Y_OTH.append(stats.norm.pdf(counter, sm_x, otkl_x))\n",
    "            counter += 0.001\n",
    "    else:\n",
    "        Y_OTH.append(1 / (af - a0))\n",
    "        Y_OTH.append(1 / (af - a0))\n",
    "        X_OTH.append(a0)\n",
    "        X_OTH.append(af)\n",
    "        \n",
    "    plt.plot(X_OTH, Y_OTH, color = 'orange')\n",
    "    plt.show()"
   ]
  },
  {
   "cell_type": "markdown",
   "metadata": {},
   "source": [
    "# 3-1"
   ]
  },
  {
   "cell_type": "code",
   "execution_count": 13,
   "metadata": {},
   "outputs": [
    {
     "name": "stdout",
     "output_type": "stream",
     "text": [
      "-1.05242\t4.45956\t-1.74221\t3.08331\t3.1223\t0.85208\t-4.09537\t0.84753\t0.27\t2.97423\t\n",
      "-3.17514\t-6.22233\t2.33203\t0.68989\t-3.27263\t-2.06805\t0.66142\t1.17444\t3.02124\t-0.88315\t\n",
      "3.43992\t1.12768\t-0.28539\t-0.84479\t0.49773\t-3.13097\t2.05165\t-1.92597\t0.80889\t3.65526\t\n",
      "0.1046\t-0.44026\t4.31807\t1.56743\t3.44843\t3.62046\t-5.66983\t1.231\t1.87373\t3.32699\t\n",
      "0.63969\t0.10123\t1.83399\t2.83538\t4.23277\t-0.48663\t0.86073\t-1.05698\t3.75959\t1.83514\t\n",
      "-4.97366\t-0.52954\t0.69537\t-3.32581\t1.35998\t-1.06808\t1.62796\t3.04844\t1.93835\t0.5185\t\n",
      "3.59816\t1.47272\t1.73472\t2.56846\t-0.85259\t-0.01886\t-2.04822\t3.09754\t4.67887\t0.35945\t\n",
      "0.81057\t2.15063\t2.42417\t2.32384\t3.28025\t1.91801\t-1.51282\t-2.74913\t-1.47169\t-0.79124\t\n",
      "2.49567\t1.20557\t1.31052\t1.76964\t-0.58943\t0.60116\t-1.11056\t-1.27064\t-0.30176\t-0.30555\t\n",
      "1.1298\t1.41739\t-0.24678\t0.06745\t2.60002\t4.50755\t0.64475\t1.5256\t0.03889\t3.05239\t\n",
      "1.33822\t-0.07152\t-0.32515\t2.27316\t1.82564\t3.82139\t0.94557\t-0.01418\t1.46076\t2.38606\t\n",
      "-1.0697\t1.54599\t2.43154\t3.17635\t-1.7279\t0.4007\t3.5318\t1.58434\t2.75248\t0.515\t\n",
      "1.51792\t1.59862\t1.45392\t0.81242\t-2.22228\t0.18175\t-0.42568\t0.21417\t1.2424\t0.93334\t\n",
      "-0.10402\t-1.08696\t0.69205\t3.01122\t2.59523\t-0.71729\t0.55448\t1.07188\t-4.87022\t1.4461\t\n",
      "1.67139\t0.32876\t-2.12145\t2.3932\t-0.58964\t0.46316\t-1.29324\t-1.56294\t1.73499\t-2.25104\t\n",
      "-0.54026\t0.38591\t-0.83585\t0.046\t-2.35361\t2.71942\t-1.92183\t-0.37443\t-4.32465\t2.06117\t\n",
      "3.65851\t-0.65085\t1.9571\t-0.41359\t2.65826\t2.40366\t-1.28217\t-1.47342\t-0.33422\t-1.79016\t\n",
      "1.88051\t-0.02964\t1.91631\t3.07812\t-0.44564\t3.11943\t1.29447\t0.74214\t-1.70916\t-2.91879\t\n",
      "-2.42204\t-1.6035\t1.79546\t0.45391\t2.5631\t-1.32157\t1.66305\t-1.1164\t-2.4802\t-1.60591\t\n",
      "-0.94021\t0.86835\t3.1171\t2.4371\t-1.49499\t-4.02254\t1.65122\t3.191\t1.71535\t0.81442\t\n",
      "2.32229\t-0.46884\t-3.35811\t0.48625\t0.35053\t0.40367\t-1.06299\t1.18096\t0.70824\t0.21669\t\n",
      "-1.4071\t0.90814\t3.04019\t-0.77557\t1.00627\t0.65227\t-0.13121\t0.38441\t-1.98261\t-2.05663\t\n",
      "-0.11825\t-0.33644\t0.97338\t0.24215\t0.04895\t-0.63881\t0.22773\t3.01208\t0.33543\t-2.11215\t\n",
      "0.68645\t-0.60577\t2.88169\t4.6004\t0.81827\t-2.02558\t-1.53308\t-1.15613\t1.05625\t0.5904\t\n",
      "0.38913\t0.50148\t0.16035\t1.26573\t1.58574\t-1.66043\t0.29336\t-3.54476\t0.38887\t1.30929\t\n",
      "-1.54234\t-3.68894\t8.02235\t2.86916\t-2.76355\t2.874\t1.19945\t-0.92364\t1.33283\t-3.04361\t\n",
      "3.64415\t4.35907\t3.4382\t-3.28071\t2.65951\t-0.41015\t-1.42884\t0.94939\t0.48383\t-0.82744\t\n"
     ]
    }
   ],
   "source": [
    "arr_x = [-1.05242, 4.45956, -1.74221, 3.08331, 3.1223, 0.85208, -4.09537, 0.84753, 0.27, 2.97423, \n",
    "-3.17514, -6.22233, 2.33203, 0.68989, -3.27263, -2.06805, 0.66142, 1.17444, 3.02124, -0.88315, \n",
    "3.43992, 1.12768, -0.28539, -0.84479, 0.49773, -3.13097, 2.05165, -1.92597, 0.80889, 3.65526, \n",
    "0.1046, -0.44026, 4.31807, 1.56743, 3.44843, 3.62046, -5.66983, 1.231, 1.87373, 3.32699, \n",
    "0.63969, 0.10123, 1.83399, 2.83538, 4.23277, -0.48663, 0.86073, -1.05698, 3.75959, 1.83514, \n",
    "-4.97366, -0.52954, 0.69537, -3.32581, 1.35998, -1.06808, 1.62796, 3.04844, 1.93835, 0.5185, \n",
    "3.59816, 1.47272, 1.73472, 2.56846, -0.85259, -0.01886, -2.04822, 3.09754, 4.67887, 0.35945, \n",
    "0.81057, 2.15063, 2.42417, 2.32384, 3.28025, 1.91801, -1.51282, -2.74913, -1.47169, -0.79124, \n",
    "2.49567, 1.20557, 1.31052, 1.76964, -0.58943, 0.60116, -1.11056, -1.27064, -0.30176, -0.30555, \n",
    "1.1298, 1.41739, -0.24678, 0.06745, 2.60002, 4.50755, 0.64475, 1.5256, 0.03889, 3.05239, \n",
    "1.33822, -0.07152, -0.32515, 2.27316, 1.82564, 3.82139, 0.94557, -0.01418, 1.46076, 2.38606, \n",
    "-1.0697, 1.54599, 2.43154, 3.17635, -1.7279, 0.4007, 3.5318, 1.58434, 2.75248, 0.515, \n",
    "1.51792, 1.59862, 1.45392, 0.81242, -2.22228, 0.18175, -0.42568, 0.21417, 1.2424, 0.93334, \n",
    "-0.10402, -1.08696, 0.69205, 3.01122, 2.59523, -0.71729, 0.55448, 1.07188, -4.87022, 1.4461, \n",
    "1.67139, 0.32876, -2.12145, 2.3932, -0.58964, 0.46316, -1.29324, -1.56294, 1.73499, -2.25104, \n",
    "-0.54026, 0.38591, -0.83585, 0.046, -2.35361, 2.71942, -1.92183, -0.37443, -4.32465, 2.06117, \n",
    "3.65851, -0.65085, 1.9571, -0.41359, 2.65826, 2.40366, -1.28217, -1.47342, -0.33422, -1.79016, \n",
    "1.88051, -0.02964, 1.91631, 3.07812, -0.44564, 3.11943, 1.29447, 0.74214, -1.70916, -2.91879, \n",
    "-2.42204, -1.6035, 1.79546, 0.45391, 2.5631, -1.32157, 1.66305, -1.1164, -2.4802, -1.60591, \n",
    "-0.94021, 0.86835, 3.1171, 2.4371, -1.49499, -4.02254, 1.65122, 3.191, 1.71535, 0.81442, \n",
    "2.32229, -0.46884, -3.35811, 0.48625, 0.35053, 0.40367, -1.06299, 1.18096, 0.70824, 0.21669, \n",
    "-1.4071, 0.90814, 3.04019, -0.77557, 1.00627, 0.65227, -0.13121, 0.38441, -1.98261, -2.05663, \n",
    "-0.11825, -0.33644, 0.97338, 0.24215, 0.04895, -0.63881, 0.22773, 3.01208, 0.33543, -2.11215, \n",
    "0.68645, -0.60577, 2.88169, 4.6004, 0.81827, -2.02558, -1.53308, -1.15613, 1.05625, 0.5904, \n",
    "0.38913, 0.50148, 0.16035, 1.26573, 1.58574, -1.66043, 0.29336, -3.54476, 0.38887, 1.30929, \n",
    "-1.54234, -3.68894, 8.02235, 2.86916, -2.76355, 2.874, 1.19945, -0.92364, 1.33283, -3.04361, \n",
    "3.64415, 4.35907, 3.4382, -3.28071, 2.65951, -0.41015, -1.42884, 0.94939, 0.48383, -0.82744]\n",
    "arr_print(arr_x)"
   ]
  },
  {
   "cell_type": "code",
   "execution_count": 14,
   "metadata": {},
   "outputs": [
    {
     "name": "stdout",
     "output_type": "stream",
     "text": [
      "-6.22233\t-5.66983\t-4.97366\t-4.87022\t-4.32465\t-4.09537\t-4.02254\t-3.68894\t-3.54476\t-3.35811\t\n",
      "-3.32581\t-3.28071\t-3.27263\t-3.17514\t-3.13097\t-3.04361\t-2.91879\t-2.76355\t-2.74913\t-2.4802\t\n",
      "-2.42204\t-2.35361\t-2.25104\t-2.22228\t-2.12145\t-2.11215\t-2.06805\t-2.05663\t-2.04822\t-2.02558\t\n",
      "-1.98261\t-1.92597\t-1.92183\t-1.79016\t-1.74221\t-1.7279\t-1.70916\t-1.66043\t-1.60591\t-1.6035\t\n",
      "-1.56294\t-1.54234\t-1.53308\t-1.51282\t-1.49499\t-1.47342\t-1.47169\t-1.42884\t-1.4071\t-1.32157\t\n",
      "-1.29324\t-1.28217\t-1.27064\t-1.15613\t-1.1164\t-1.11056\t-1.08696\t-1.0697\t-1.06808\t-1.06299\t\n",
      "-1.05698\t-1.05242\t-0.94021\t-0.92364\t-0.88315\t-0.85259\t-0.84479\t-0.83585\t-0.82744\t-0.79124\t\n",
      "-0.77557\t-0.71729\t-0.65085\t-0.63881\t-0.60577\t-0.58964\t-0.58943\t-0.54026\t-0.52954\t-0.48663\t\n",
      "-0.46884\t-0.44564\t-0.44026\t-0.42568\t-0.41359\t-0.41015\t-0.37443\t-0.33644\t-0.33422\t-0.32515\t\n",
      "-0.30555\t-0.30176\t-0.28539\t-0.24678\t-0.13121\t-0.11825\t-0.10402\t-0.07152\t-0.02964\t-0.01886\t\n",
      "-0.01418\t0.03889\t0.046\t0.04895\t0.06745\t0.10123\t0.1046\t0.16035\t0.18175\t0.21417\t\n",
      "0.21669\t0.22773\t0.24215\t0.27\t0.29336\t0.32876\t0.33543\t0.35053\t0.35945\t0.38441\t\n",
      "0.38591\t0.38887\t0.38913\t0.4007\t0.40367\t0.45391\t0.46316\t0.48383\t0.48625\t0.49773\t\n",
      "0.50148\t0.515\t0.5185\t0.55448\t0.5904\t0.60116\t0.63969\t0.64475\t0.65227\t0.66142\t\n",
      "0.68645\t0.68989\t0.69205\t0.69537\t0.70824\t0.74214\t0.80889\t0.81057\t0.81242\t0.81442\t\n",
      "0.81827\t0.84753\t0.85208\t0.86073\t0.86835\t0.90814\t0.93334\t0.94557\t0.94939\t0.97338\t\n",
      "1.00627\t1.05625\t1.07188\t1.12768\t1.1298\t1.17444\t1.18096\t1.19945\t1.20557\t1.231\t\n",
      "1.2424\t1.26573\t1.29447\t1.30929\t1.31052\t1.33283\t1.33822\t1.35998\t1.41739\t1.4461\t\n",
      "1.45392\t1.46076\t1.47272\t1.51792\t1.5256\t1.54599\t1.56743\t1.58434\t1.58574\t1.59862\t\n",
      "1.62796\t1.65122\t1.66305\t1.67139\t1.71535\t1.73472\t1.73499\t1.76964\t1.79546\t1.82564\t\n",
      "1.83399\t1.83514\t1.87373\t1.88051\t1.91631\t1.91801\t1.93835\t1.9571\t2.05165\t2.06117\t\n",
      "2.15063\t2.27316\t2.32229\t2.32384\t2.33203\t2.38606\t2.3932\t2.40366\t2.42417\t2.43154\t\n",
      "2.4371\t2.49567\t2.5631\t2.56846\t2.59523\t2.60002\t2.65826\t2.65951\t2.71942\t2.75248\t\n",
      "2.83538\t2.86916\t2.874\t2.88169\t2.97423\t3.01122\t3.01208\t3.02124\t3.04019\t3.04844\t\n",
      "3.05239\t3.07812\t3.08331\t3.09754\t3.1171\t3.11943\t3.1223\t3.17635\t3.191\t3.28025\t\n",
      "3.32699\t3.4382\t3.43992\t3.44843\t3.5318\t3.59816\t3.62046\t3.64415\t3.65526\t3.65851\t\n",
      "3.75959\t3.82139\t4.23277\t4.31807\t4.35907\t4.45956\t4.50755\t4.6004\t4.67887\t8.02235\t\n"
     ]
    }
   ],
   "source": [
    "arr_x.sort()\n",
    "arr_print(arr_x)\n",
    "N = len(arr_x)\n",
    "m = 1 + math.floor(math.log2(N))"
   ]
  },
  {
   "cell_type": "code",
   "execution_count": 15,
   "metadata": {},
   "outputs": [
    {
     "name": "stdout",
     "output_type": "stream",
     "text": [
      "Интервалы\t\tni\twi\n",
      "[-6.22233,-4.63959]\t4\t0.01481\n",
      "(-4.63959,-3.05685]\t11\t0.04074\n",
      "(-3.05685,-1.47411]\t30\t0.11111\n",
      "(-1.47411,0.10863]\t62\t0.22963\n",
      "(0.10863,1.69137]\t87\t0.32222\n",
      "(1.69137,3.27411]\t55\t0.2037\n",
      "(3.27411,4.85685]\t20\t0.07407\n",
      "(4.85685,6.43959]\t0\t0.0\n",
      "(6.43961,8.02235]\t1\t0.0037\n",
      "\t\t\t270\t1.0\n"
     ]
    }
   ],
   "source": [
    "a0 = arr_x[0]\n",
    "af = arr_x[-1]\n",
    "int_x = []\n",
    "n_x = []\n",
    "w_x = []\n",
    "group(a0, af, arr_x, int_x, n_x, w_x)"
   ]
  },
  {
   "cell_type": "code",
   "execution_count": 16,
   "metadata": {
    "collapsed": true
   },
   "outputs": [],
   "source": [
    "h = (af - a0) / m"
   ]
  },
  {
   "cell_type": "code",
   "execution_count": 17,
   "metadata": {},
   "outputs": [
    {
     "name": "stdout",
     "output_type": "stream",
     "text": [
      "xi\t\tni\twi\n",
      "-5.43096\t4\t0.01481\n",
      "-3.84822\t11\t0.04074\n",
      "-2.26548\t30\t0.11111\n",
      "-0.68274\t62\t0.22963\n",
      "0.9\t87\t0.32222\n",
      "2.48274\t55\t0.2037\n",
      "4.06548\t20\t0.07407\n",
      "5.64822\t0\t0.0\n",
      "7.23097\t1\t0.0037\n"
     ]
    }
   ],
   "source": [
    "xi_x = []\n",
    "as_static_row(int_x, n_x, w_x, xi_x)"
   ]
  },
  {
   "cell_type": "code",
   "execution_count": 18,
   "metadata": {},
   "outputs": [
    {
     "name": "stdout",
     "output_type": "stream",
     "text": [
      "0.47791\n"
     ]
    }
   ],
   "source": [
    "sm_x = sample_mean(xi_x, w_x, 1)\n",
    "print(sm_x)"
   ]
  },
  {
   "cell_type": "code",
   "execution_count": 19,
   "metadata": {},
   "outputs": [
    {
     "name": "stdout",
     "output_type": "stream",
     "text": [
      "2.052946662726531\n"
     ]
    }
   ],
   "source": [
    "dsp_x = dispersion(xi_x, w_x, sm_x, h)\n",
    "print(math.sqrt(dsp_x))"
   ]
  },
  {
   "cell_type": "code",
   "execution_count": 20,
   "metadata": {
    "collapsed": true
   },
   "outputs": [],
   "source": [
    "ft_second = []\n",
    "ft_third = []\n",
    "ft_fourth = []\n",
    "ft_fifth = []\n",
    "create_first_table(sm_x, math.sqrt(dsp_x), int_x, ft_second, ft_third, ft_fourth, ft_fifth)"
   ]
  },
  {
   "cell_type": "code",
   "execution_count": 21,
   "metadata": {},
   "outputs": [
    {
     "name": "stdout",
     "output_type": "stream",
     "text": [
      "[-3.26372, -2.49276, -1.7218, -0.95084, -0.17988, 0.59108, 1.36204, 2.133, 2.90396, 3.67493]\n",
      "[0.017979999999999999, 0.033230000000000003, 0.053319999999999999, 0.074300000000000005, 0.08992, 0.094509999999999997, 0.086269999999999999, 0.068390000000000006, 0.04709, 0.028150000000000001]\n",
      "[0.00055000000000000003, 0.0063400000000000001, 0.042549999999999998, 0.17083999999999999, 0.42862, 0.72277000000000002, 0.91341000000000006, 0.98353999999999997, 0.99816000000000005, 0.99987999999999999]\n",
      "[0.0063400000000000001, 0.036209999999999999, 0.12828999999999999, 0.25778000000000001, 0.29415000000000002, 0.19064, 0.070129999999999998, 0.014619999999999999, 0.00172]\n"
     ]
    }
   ],
   "source": [
    "print(ft_second)\n",
    "print(ft_third)\n",
    "print(ft_fourth)\n",
    "print(ft_fifth)"
   ]
  },
  {
   "cell_type": "code",
   "execution_count": 22,
   "metadata": {},
   "outputs": [
    {
     "name": "stdout",
     "output_type": "stream",
     "text": [
      "0\t-6.22233\t-3.26372\t0.01798\t0.00055\t-\n",
      "1\t-4.63959\t-2.49276\t0.03323\t0.00634\t0.00634\n",
      "2\t-3.05685\t-1.7218\t0.05332\t0.04255\t0.03621\n",
      "3\t-1.47411\t-0.95084\t0.0743\t0.17084\t0.12829\n",
      "4\t0.10863\t-0.17988\t0.08992\t0.42862\t0.25778\n",
      "5\t1.69137\t0.59108\t0.09451\t0.72277\t0.29415\n",
      "6\t3.27411\t1.36204\t0.08627\t0.91341\t0.19064\n",
      "7\t4.85685\t2.133\t0.06839\t0.98354\t0.07013\n",
      "8\t6.43959\t2.90396\t0.04709\t0.99816\t0.01462\n",
      "9\t8.02235\t3.67493\t0.02815\t0.99988\t0.00172\n"
     ]
    }
   ],
   "source": [
    "print_first_table(int_x, ft_second, ft_third, ft_fourth, ft_fifth)"
   ]
  },
  {
   "cell_type": "code",
   "execution_count": 23,
   "metadata": {},
   "outputs": [
    {
     "name": "stdout",
     "output_type": "stream",
     "text": [
      "1\t[-6.22233,-4.63959]\t0.01481\t0.00634\t0.00847\t3.05521\n",
      "2\t(-4.63959,-3.05685]\t0.04074\t0.03621\t0.00453\t0.15301\n",
      "3\t(-3.05685,-1.47411]\t0.11111\t0.12829\t0.01718\t0.62118\n",
      "4\t(-1.47411,0.10863]\t0.22963\t0.25778\t0.02815\t0.82999\n",
      "5\t(0.10863,1.69137]\t0.32222\t0.29415\t0.02807\t0.72324\n",
      "6\t(1.69137,3.27411]\t0.2037\t0.19064\t0.01306\t0.24157\n",
      "7\t(3.27411,4.85685]\t0.07407\t0.07013\t0.00394\t0.05977\n",
      "8\t(4.85685,6.43959]\t0.0\t0.01462\t0.01462\t3.9474\n",
      "9\t(6.43959,8.02235]\t0.0037\t0.00172\t0.00198\t0.61541\n",
      "\t\t\t\t1.0\t0.99988\t0.02815\t10.2467718675\n"
     ]
    }
   ],
   "source": [
    "st_fourth = []\n",
    "st_fifth = []\n",
    "create_second_table(w_x, ft_fifth, st_fourth, st_fifth, N)\n",
    "print_second_table(int_x, w_x, ft_fifth, st_fourth, st_fifth)"
   ]
  },
  {
   "cell_type": "code",
   "execution_count": 24,
   "metadata": {},
   "outputs": [
    {
     "data": {
      "image/png": "[encoded data removed]",
      "text/plain": [
       "<matplotlib.figure.Figure at 0x16729c1feb8>"
      ]
     },
     "metadata": {},
     "output_type": "display_data"
    }
   ],
   "source": [
    "graphics(xi_x, w_x, h, sm_x, math.sqrt(dsp_x), 1, a0, af)"
   ]
  },
  {
   "cell_type": "code",
   "execution_count": 25,
   "metadata": {},
   "outputs": [
    {
     "name": "stdout",
     "output_type": "stream",
     "text": [
      "6\n",
      "10.24677 <= 12.6, значит не противоречит эксперементальным данным\n"
     ]
    }
   ],
   "source": [
    "XB = round(sum(st_fifth), 5)\n",
    "l = m - 3\n",
    "print(l)\n",
    "XKP = [9.5, 11.1, 12.6, 14.1, 15.5]\n",
    "check(XKP, XB, l)"
   ]
  },
  {
   "cell_type": "markdown",
   "metadata": {},
   "source": [
    "# 3-2"
   ]
  },
  {
   "cell_type": "code",
   "execution_count": 44,
   "metadata": {},
   "outputs": [
    {
     "name": "stdout",
     "output_type": "stream",
     "text": [
      "6.47386\t1.67515\t6.54487\t5.64946\t1.29949\t5.89687\t2.14135\t4.15024\t2.2858\t7.50013\t\n",
      "5.69788\t8.01511\t1.50469\t2.31487\t6.92422\t7.65493\t8.06623\t6.39151\t3.7861\t7.69264\t\n",
      "3.91903\t9.40849\t2.98681\t9.22948\t8.46664\t5.73658\t8.36728\t2.10238\t4.44499\t5.22772\t\n",
      "8.4067\t7.7272\t5.49169\t2.88214\t2.23306\t2.02462\t9.33685\t2.28796\t1.90564\t2.60863\t\n",
      "9.45007\t6.57493\t7.05148\t6.11305\t9.00232\t3.45256\t3.75415\t5.17669\t1.26421\t8.38681\t\n",
      "3.6466\t4.86952\t8.77291\t1.08196\t4.12873\t9.60766\t1.30939\t7.94923\t3.19399\t1.77631\t\n",
      "1.17097\t1.5163\t9.60973\t5.38027\t4.36534\t8.27197\t6.02998\t8.95462\t3.00751\t8.13472\t\n",
      "1.123\t4.38712\t4.68223\t8.27197\t1.85992\t4.9651\t2.14396\t5.15005\t1.0402\t2.5369\t\n",
      "8.17873\t9.68911\t5.51725\t5.47972\t2.24971\t4.1164\t8.92843\t6.5689\t2.40766\t3.15547\t\n",
      "1.27978\t7.44532\t9.4165\t2.65894\t1.91995\t4.9543\t6.01693\t5.80462\t5.11693\t8.66374\t\n",
      "5.80219\t4.86007\t8.42974\t4.22926\t4.0327\t7.00045\t7.66852\t6.67195\t2.97106\t2.61223\t\n",
      "8.7649\t3.37237\t0.92545\t9.277\t7.7074\t4.50061\t2.12002\t2.33863\t2.72923\t7.90072\t\n",
      "4.33384\t9.56455\t4.86898\t7.75735\t8.32093\t4.58152\t3.07915\t8.31121\t6.72793\t2.38804\t\n",
      "9.16468\t3.98347\t1.29211\t2.41459\t3.60853\t1.76488\t6.15715\t4.67476\t3.83623\t3.7249\t\n",
      "3.13495\t4.31521\t2.04127\t3.6745\t5.63272\t1.3462\t3.02452\t5.30413\t5.15104\t6.60058\t\n",
      "5.57332\t2.51188\t8.85373\t9.58381\t8.00503\t2.27617\t4.70635\t5.87878\t2.7673\t8.91367\t\n",
      "6.8002\t8.40175\t9.23785\t2.72635\t9.65383\t4.21423\t1.68928\t7.01026\t9.57067\t3.70015\t\n",
      "4.47433\t0.84742\t1.26817\t5.39809\t7.69354\t5.3251\t5.92468\t3.68341\t3.78529\t6.91747\t\n",
      "4.35814\t6.74818\t8.92735\t7.98235\t6.20719\t9.43027\t8.11366\t5.72254\t5.07661\t8.15587\t\n",
      "5.68366\t7.57447\t7.44118\t4.10299\t6.12394\t7.67176\t6.79867\t5.79427\t2.60116\t5.74162\t\n",
      "1.54024\t6.8155\t5.62336\t2.68225\t9.64645\t7.45639\t2.96737\t1.82059\t2.68927\t4.22332\t\n",
      "8.6902\t4.72939\t5.15104\t8.82934\t6.3331\t9.16747\t8.61721\t8.90341\t2.88259\t9.55843\t\n",
      "5.14321\t0.70108\t9.50002\t4.29748\t7.3411\t2.91571\t1.96585\t4.78114\t9.36826\t5.01568\t\n",
      "8.23417\t4.76485\t5.68591\t4.60969\t4.67395\t8.30779\t1.01599\t8.19502\t9.09502\t3.8716\t\n",
      "6.25192\t4.78546\t1.38751\t9.09646\t0.70009\t2.62168\t7.43299\t5.15293\t8.20087\t8.8306\t\n",
      "6.11647\t1.96981\t5.86303\t6.10216\t7.2574\t5.98057\t6.70912\t5.40079\t3.33772\t2.81266\t\n",
      "3.16519\t9.28321\t1.61674\t6.57907\t6.92593\t5.81353\t1.2058\t2.06098\t9.06136\t8.34433\t\n"
     ]
    }
   ],
   "source": [
    "arr_x = [6.47386, 1.67515, 6.54487, 5.64946, 1.29949, 5.89687, 2.14135, 4.15024, 2.2858, 7.50013, \n",
    "5.69788, 8.01511, 1.50469, 2.31487, 6.92422, 7.65493, 8.06623, 6.39151, 3.7861, 7.69264, \n",
    "3.91903, 9.40849, 2.98681, 9.22948, 8.46664, 5.73658, 8.36728, 2.10238, 4.44499, 5.22772, \n",
    "8.4067, 7.7272, 5.49169, 2.88214, 2.23306, 2.02462, 9.33685, 2.28796, 1.90564, 2.60863, \n",
    "9.45007, 6.57493, 7.05148, 6.11305, 9.00232, 3.45256, 3.75415, 5.17669, 1.26421, 8.38681, \n",
    "3.6466, 4.86952, 8.77291, 1.08196, 4.12873, 9.60766, 1.30939, 7.94923, 3.19399, 1.77631, \n",
    "1.17097, 1.5163, 9.60973, 5.38027, 4.36534, 8.27197, 6.02998, 8.95462, 3.00751, 8.13472, \n",
    "1.123, 4.38712, 4.68223, 8.27197, 1.85992, 4.9651, 2.14396, 5.15005, 1.0402, 2.5369, \n",
    "8.17873, 9.68911, 5.51725, 5.47972, 2.24971, 4.1164, 8.92843, 6.5689, 2.40766, 3.15547, \n",
    "1.27978, 7.44532, 9.4165, 2.65894, 1.91995, 4.9543, 6.01693, 5.80462, 5.11693, 8.66374, \n",
    "5.80219, 4.86007, 8.42974, 4.22926, 4.0327, 7.00045, 7.66852, 6.67195, 2.97106, 2.61223, \n",
    "8.7649, 3.37237, 0.92545, 9.277, 7.7074, 4.50061, 2.12002, 2.33863, 2.72923, 7.90072, \n",
    "4.33384, 9.56455, 4.86898, 7.75735, 8.32093, 4.58152, 3.07915, 8.31121, 6.72793, 2.38804, \n",
    "9.16468, 3.98347, 1.29211, 2.41459, 3.60853, 1.76488, 6.15715, 4.67476, 3.83623, 3.7249, \n",
    "3.13495, 4.31521, 2.04127, 3.6745, 5.63272, 1.3462, 3.02452, 5.30413, 5.15104, 6.60058, \n",
    "5.57332, 2.51188, 8.85373, 9.58381, 8.00503, 2.27617, 4.70635, 5.87878, 2.7673, 8.91367, \n",
    "6.8002, 8.40175, 9.23785, 2.72635, 9.65383, 4.21423, 1.68928, 7.01026, 9.57067, 3.70015, \n",
    "4.47433, 0.84742, 1.26817, 5.39809, 7.69354, 5.3251, 5.92468, 3.68341, 3.78529, 6.91747, \n",
    "4.35814, 6.74818, 8.92735, 7.98235, 6.20719, 9.43027, 8.11366, 5.72254, 5.07661, 8.15587, \n",
    "5.68366, 7.57447, 7.44118, 4.10299, 6.12394, 7.67176, 6.79867, 5.79427, 2.60116, 5.74162, \n",
    "1.54024, 6.8155, 5.62336, 2.68225, 9.64645, 7.45639, 2.96737, 1.82059, 2.68927, 4.22332, \n",
    "8.6902, 4.72939, 5.15104, 8.82934, 6.3331, 9.16747, 8.61721, 8.90341, 2.88259, 9.55843, \n",
    "5.14321, 0.70108, 9.50002, 4.29748, 7.3411, 2.91571, 1.96585, 4.78114, 9.36826, 5.01568, \n",
    "8.23417, 4.76485, 5.68591, 4.60969, 4.67395, 8.30779, 1.01599, 8.19502, 9.09502, 3.8716, \n",
    "6.25192, 4.78546, 1.38751, 9.09646, 0.70009, 2.62168, 7.43299, 5.15293, 8.20087, 8.8306, \n",
    "6.11647, 1.96981, 5.86303, 6.10216, 7.2574, 5.98057, 6.70912, 5.40079, 3.33772, 2.81266, \n",
    "3.16519, 9.28321, 1.61674, 6.57907, 6.92593, 5.81353, 1.2058, 2.06098, 9.06136, 8.34433]\n",
    "arr_print(arr_x)"
   ]
  },
  {
   "cell_type": "code",
   "execution_count": 45,
   "metadata": {},
   "outputs": [
    {
     "name": "stdout",
     "output_type": "stream",
     "text": [
      "0.70009\t0.70108\t0.84742\t0.92545\t1.01599\t1.0402\t1.08196\t1.123\t1.17097\t1.2058\t\n",
      "1.26421\t1.26817\t1.27978\t1.29211\t1.29949\t1.30939\t1.3462\t1.38751\t1.50469\t1.5163\t\n",
      "1.54024\t1.61674\t1.67515\t1.68928\t1.76488\t1.77631\t1.82059\t1.85992\t1.90564\t1.91995\t\n",
      "1.96585\t1.96981\t2.02462\t2.04127\t2.06098\t2.10238\t2.12002\t2.14135\t2.14396\t2.23306\t\n",
      "2.24971\t2.27617\t2.2858\t2.28796\t2.31487\t2.33863\t2.38804\t2.40766\t2.41459\t2.51188\t\n",
      "2.5369\t2.60116\t2.60863\t2.61223\t2.62168\t2.65894\t2.68225\t2.68927\t2.72635\t2.72923\t\n",
      "2.7673\t2.81266\t2.88214\t2.88259\t2.91571\t2.96737\t2.97106\t2.98681\t3.00751\t3.02452\t\n",
      "3.07915\t3.13495\t3.15547\t3.16519\t3.19399\t3.33772\t3.37237\t3.45256\t3.60853\t3.6466\t\n",
      "3.6745\t3.68341\t3.70015\t3.7249\t3.75415\t3.78529\t3.7861\t3.83623\t3.8716\t3.91903\t\n",
      "3.98347\t4.0327\t4.10299\t4.1164\t4.12873\t4.15024\t4.21423\t4.22332\t4.22926\t4.29748\t\n",
      "4.31521\t4.33384\t4.35814\t4.36534\t4.38712\t4.44499\t4.47433\t4.50061\t4.58152\t4.60969\t\n",
      "4.67395\t4.67476\t4.68223\t4.70635\t4.72939\t4.76485\t4.78114\t4.78546\t4.86007\t4.86898\t\n",
      "4.86952\t4.9543\t4.9651\t5.01568\t5.07661\t5.11693\t5.14321\t5.15005\t5.15104\t5.15104\t\n",
      "5.15293\t5.17669\t5.22772\t5.30413\t5.3251\t5.38027\t5.39809\t5.40079\t5.47972\t5.49169\t\n",
      "5.51725\t5.57332\t5.62336\t5.63272\t5.64946\t5.68366\t5.68591\t5.69788\t5.72254\t5.73658\t\n",
      "5.74162\t5.79427\t5.80219\t5.80462\t5.81353\t5.86303\t5.87878\t5.89687\t5.92468\t5.98057\t\n",
      "6.01693\t6.02998\t6.10216\t6.11305\t6.11647\t6.12394\t6.15715\t6.20719\t6.25192\t6.3331\t\n",
      "6.39151\t6.47386\t6.54487\t6.5689\t6.57493\t6.57907\t6.60058\t6.67195\t6.70912\t6.72793\t\n",
      "6.74818\t6.79867\t6.8002\t6.8155\t6.91747\t6.92422\t6.92593\t7.00045\t7.01026\t7.05148\t\n",
      "7.2574\t7.3411\t7.43299\t7.44118\t7.44532\t7.45639\t7.50013\t7.57447\t7.65493\t7.66852\t\n",
      "7.67176\t7.69264\t7.69354\t7.7074\t7.7272\t7.75735\t7.90072\t7.94923\t7.98235\t8.00503\t\n",
      "8.01511\t8.06623\t8.11366\t8.13472\t8.15587\t8.17873\t8.19502\t8.20087\t8.23417\t8.27197\t\n",
      "8.27197\t8.30779\t8.31121\t8.32093\t8.34433\t8.36728\t8.38681\t8.40175\t8.4067\t8.42974\t\n",
      "8.46664\t8.61721\t8.66374\t8.6902\t8.7649\t8.77291\t8.82934\t8.8306\t8.85373\t8.90341\t\n",
      "8.91367\t8.92735\t8.92843\t8.95462\t9.00232\t9.06136\t9.09502\t9.09646\t9.16468\t9.16747\t\n",
      "9.22948\t9.23785\t9.277\t9.28321\t9.33685\t9.36826\t9.40849\t9.4165\t9.43027\t9.45007\t\n",
      "9.50002\t9.55843\t9.56455\t9.57067\t9.58381\t9.60766\t9.60973\t9.64645\t9.65383\t9.68911\t\n"
     ]
    }
   ],
   "source": [
    "arr_x.sort()\n",
    "arr_print(arr_x)\n",
    "N = len(arr_x)\n",
    "m = 1 + math.floor(math.log2(N))"
   ]
  },
  {
   "cell_type": "code",
   "execution_count": 46,
   "metadata": {},
   "outputs": [
    {
     "name": "stdout",
     "output_type": "stream",
     "text": [
      "Интервалы\t\tni\twi\n",
      "[0.7,1.7]\t24\t0.08889\n",
      "(1.7,2.7]\t34\t0.12593\n",
      "(2.7,3.7]\t24\t0.08889\n",
      "(3.7,4.7]\t31\t0.11481\n",
      "(4.7,5.7]\t35\t0.12963\n",
      "(5.7,6.7]\t30\t0.11111\n",
      "(6.7,7.7]\t25\t0.09259\n",
      "(7.7,8.7]\t31\t0.11481\n",
      "(8.7,9.7]\t36\t0.13333\n",
      "\t\t\t270\t1.0\n"
     ]
    }
   ],
   "source": [
    "a0 = 0.7\n",
    "af = 9.7\n",
    "int_x = []\n",
    "n_x = []\n",
    "w_x = []\n",
    "group(a0, af, arr_x, int_x, n_x, w_x)"
   ]
  },
  {
   "cell_type": "code",
   "execution_count": 47,
   "metadata": {
    "collapsed": true
   },
   "outputs": [],
   "source": [
    "h = (af - a0) / m"
   ]
  },
  {
   "cell_type": "code",
   "execution_count": 48,
   "metadata": {},
   "outputs": [
    {
     "name": "stdout",
     "output_type": "stream",
     "text": [
      "xi\t\tni\twi\n",
      "1.2\t24\t0.08889\n",
      "2.2\t34\t0.12593\n",
      "3.2\t24\t0.08889\n",
      "4.2\t31\t0.11481\n",
      "5.2\t35\t0.12963\n",
      "6.2\t30\t0.11111\n",
      "7.2\t25\t0.09259\n",
      "8.2\t31\t0.11481\n",
      "9.2\t36\t0.13333\n"
     ]
    }
   ],
   "source": [
    "xi_x = []\n",
    "as_static_row(int_x, n_x, w_x, xi_x)"
   ]
  },
  {
   "cell_type": "code",
   "execution_count": 49,
   "metadata": {},
   "outputs": [
    {
     "name": "stdout",
     "output_type": "stream",
     "text": [
      "5.34805\n"
     ]
    }
   ],
   "source": [
    "sm_x = sample_mean(xi_x, w_x, 1)\n",
    "print(sm_x)"
   ]
  },
  {
   "cell_type": "code",
   "execution_count": 50,
   "metadata": {},
   "outputs": [
    {
     "name": "stdout",
     "output_type": "stream",
     "text": [
      "2.5630099492588787\n"
     ]
    }
   ],
   "source": [
    "dsp_x = dispersion(xi_x, w_x, sm_x, h)\n",
    "print(math.sqrt(dsp_x))"
   ]
  },
  {
   "cell_type": "code",
   "execution_count": 33,
   "metadata": {
    "collapsed": true
   },
   "outputs": [],
   "source": [
    "ft_second = []\n",
    "ft_third = []\n",
    "ft_fourth = []\n",
    "ft_fifth = []\n",
    "create_first_table(sm_x, math.sqrt(dsp_x), int_x, ft_second, ft_third, ft_fourth, ft_fifth)"
   ]
  },
  {
   "cell_type": "code",
   "execution_count": 34,
   "metadata": {},
   "outputs": [
    {
     "name": "stdout",
     "output_type": "stream",
     "text": [
      "1\t[0.7,1.7]\t0.08889\t0.11111\t0.02222\t1.19988\n",
      "2\t(1.7,2.7]\t0.12593\t0.11111\t0.01482\t0.53363\n",
      "3\t(2.7,3.7]\t0.08889\t0.11111\t0.02222\t1.19988\n",
      "4\t(3.7,4.7]\t0.11481\t0.11111\t0.0037\t0.03325\n",
      "5\t(4.7,5.7]\t0.12963\t0.11111\t0.01852\t0.83337\n",
      "6\t(5.7,6.7]\t0.11111\t0.11111\t0.0\t0.0\n",
      "7\t(6.7,7.7]\t0.09259\t0.11111\t0.01852\t0.83357\n",
      "8\t(7.7,8.7]\t0.11481\t0.11111\t0.0037\t0.03325\n",
      "9\t(8.7,9.7]\t0.13333\t0.11111\t0.02222\t1.19964\n",
      "\t\t\t\t1.0\t1.0\t0.022221111111111108\t5.866453538999999\n"
     ]
    }
   ],
   "source": [
    "st_fourth = []\n",
    "st_fifth = []\n",
    "ft_fifth = []\n",
    "for i in range(len(w_x)):\n",
    "    ft_fifth.append(1 / m)\n",
    "create_second_table(w_x, ft_fifth, st_fourth, st_fifth, N)\n",
    "print_second_table(int_x, w_x, ft_fifth, st_fourth, st_fifth)"
   ]
  },
  {
   "cell_type": "code",
   "execution_count": 35,
   "metadata": {},
   "outputs": [
    {
     "data": {
      "image/png": "[encoded data removed]",
      "text/plain": [
       "<matplotlib.figure.Figure at 0x1672a2b7a58>"
      ]
     },
     "metadata": {},
     "output_type": "display_data"
    }
   ],
   "source": [
    "graphics(xi_x, w_x, h, sm_x, math.sqrt(dsp_x), 2, a0, af)"
   ]
  },
  {
   "cell_type": "code",
   "execution_count": 36,
   "metadata": {},
   "outputs": [
    {
     "name": "stdout",
     "output_type": "stream",
     "text": [
      "8\n",
      "5.86645 <= 15.5, значит не противоречит эксперементальным данным\n"
     ]
    }
   ],
   "source": [
    "XB = round(sum(st_fifth), 5)\n",
    "l = m - 1\n",
    "print(l)\n",
    "XKP = [9.5, 11.1, 12.6, 14.1, 15.5]\n",
    "check(XKP, XB, l)"
   ]
  },
  {
   "cell_type": "code",
   "execution_count": null,
   "metadata": {
    "collapsed": true
   },
   "outputs": [],
   "source": []
  }
 ],
 "metadata": {
  "kernelspec": {
   "display_name": "Python 3",
   "language": "python",
   "name": "python3"
  },
  "language_info": {
   "codemirror_mode": {
    "name": "ipython",
    "version": 3
   },
   "file_extension": ".py",
   "mimetype": "text/x-python",
   "name": "python",
   "nbconvert_exporter": "python",
   "pygments_lexer": "ipython3",
   "version": "3.6.3"
  }
 },
 "nbformat": 4,
 "nbformat_minor": 2
}
