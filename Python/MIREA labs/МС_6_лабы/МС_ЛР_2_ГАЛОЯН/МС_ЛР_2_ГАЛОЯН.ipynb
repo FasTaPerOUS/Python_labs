{
 "cells": [
  {
   "cell_type": "code",
   "execution_count": 255,
   "metadata": {
    "collapsed": true
   },
   "outputs": [],
   "source": [
    "from collections import Counter\n",
    "import matplotlib.pyplot as plt\n",
    "from scipy import stats\n",
    "import numpy as np\n",
    "import math\n",
    "import sympy\n",
    "N = 200\n",
    "V = 3"
   ]
  },
  {
   "cell_type": "code",
   "execution_count": 256,
   "metadata": {
    "collapsed": true
   },
   "outputs": [],
   "source": [
    "m = 1 + math.floor(math.log2(N))"
   ]
  },
  {
   "cell_type": "code",
   "execution_count": 335,
   "metadata": {
    "collapsed": true
   },
   "outputs": [],
   "source": [
    "def arr_print(x):\n",
    "    for i in range(N):\n",
    "        print(x[i], end = \"\\t\")\n",
    "        if (i % 10 == 9): print()"
   ]
  },
  {
   "cell_type": "code",
   "execution_count": 336,
   "metadata": {
    "collapsed": true
   },
   "outputs": [],
   "source": [
    "def group(a0, af, x, int_x, arr_n, arr_w):\n",
    "    d = af - a0\n",
    "    print(\"Интервалы\\t\\tni\\twi\")\n",
    "    boof = a0\n",
    "    ind = 0\n",
    "    sum = 0\n",
    "    sum1 = 0\n",
    "    int_x.append(a0)\n",
    "    for i in range(m):\n",
    "        boof += round(d / m, 5)\n",
    "        if (i == m - 1): boof = af\n",
    "        int_x.append(boof)\n",
    "        n = 0\n",
    "        while(x[ind] <= boof):\n",
    "            if (ind >= N - 1): \n",
    "                n += 1\n",
    "                ind += 1\n",
    "                break\n",
    "            n += 1\n",
    "            ind += 1\n",
    "        sum += n\n",
    "        arr_n.append(n)\n",
    "        arr_w.append(n / N)\n",
    "        sum1 += n / N\n",
    "        if (i == 0): print('[', end = \"\")\n",
    "        else: print('(', end = \"\")\n",
    "        print(round(boof - d / m, 5), ',', round(boof, 5), \"]\\t\", n, '\\t', n / N, sep = \"\")\n",
    "    print('\\t\\t\\t', sum, '\\t', sum1, sep = \"\")"
   ]
  },
  {
   "cell_type": "code",
   "execution_count": 337,
   "metadata": {
    "collapsed": true
   },
   "outputs": [],
   "source": [
    "def as_static_row(int_x, n_x, w_x, xi_x):\n",
    "    print(\"xi\\t\\tni\\twi\")\n",
    "    for i in range(1, len(int_x)):\n",
    "        xi_x.append(round((int_x[i] + int_x[i - 1]) / 2, 5))\n",
    "        if (xi_x[-1] < 0):\n",
    "            print(xi_x[-1], '\\t', n_x[i - 1], '\\t', w_x[i - 1], sep = \"\")\n",
    "        else:\n",
    "            print(xi_x[-1], \" \\t\", n_x[i - 1], '\\t', w_x[i - 1], sep = \"\")"
   ]
  },
  {
   "cell_type": "code",
   "execution_count": 338,
   "metadata": {
    "collapsed": true
   },
   "outputs": [],
   "source": [
    "def del_repeat(a, a_c):\n",
    "    for i in range(1, len(a)):\n",
    "        if (a[i] != a_c[-1]):\n",
    "            a_c.append(a[i])"
   ]
  },
  {
   "cell_type": "code",
   "execution_count": 339,
   "metadata": {
    "collapsed": true
   },
   "outputs": [],
   "source": [
    "def emperic(x, x_c):\n",
    "    sum = 0\n",
    "    plt.grid(True)\n",
    "    for i in range(len(x_c) - 1):\n",
    "        sum += Counter(x)[x_c[i]] / N\n",
    "        X = [x_c[i], x_c[i + 1]]\n",
    "        Y = [sum, sum]\n",
    "        plt.plot(X, Y, color = 'blue')\n",
    "    plt.show()"
   ]
  },
  {
   "cell_type": "code",
   "execution_count": 340,
   "metadata": {
    "collapsed": true
   },
   "outputs": [],
   "source": [
    "def histogram(int_x, w_x, h):\n",
    "    X = int_x\n",
    "    Y = []\n",
    "    for i in range(len(int_x)):\n",
    "        Y.append(w_x[i] / h)\n",
    "    width = h\n",
    "    plt.grid(True)\n",
    "    plt.bar(X, Y, width, edgecolor = \"black\", linewidth = 0.7, alpha = 0.7)\n",
    "    #plt.xticks(x)\n",
    "    plt.show()"
   ]
  },
  {
   "cell_type": "code",
   "execution_count": 341,
   "metadata": {
    "collapsed": true
   },
   "outputs": [],
   "source": [
    "def sample_mean(xi_x, w_x, s):\n",
    "    z = 0.0\n",
    "    for i in range(len(xi_x)):\n",
    "        z += xi_x[i] ** s * w_x[i]\n",
    "    return round(z, 5)"
   ]
  },
  {
   "cell_type": "code",
   "execution_count": 342,
   "metadata": {
    "collapsed": true
   },
   "outputs": [],
   "source": [
    "def dispersion_shep(xi_x, w_x, sm_x, h):\n",
    "    z = 0.0\n",
    "    for i in range(len(xi_x)):\n",
    "        z += (xi_x[i] - sm_x) ** 2 * w_x[i]\n",
    "    z -= h ** 2 / 12\n",
    "    return round(z, 5)"
   ]
  },
  {
   "cell_type": "code",
   "execution_count": 343,
   "metadata": {
    "collapsed": true
   },
   "outputs": [],
   "source": [
    "def selective_fashion(int_x, w_x, h):\n",
    "    max = -1\n",
    "    ind = -1\n",
    "    for i in range(len(w_x)):\n",
    "        if (w_x[i] > max):\n",
    "            max = w_x[i]\n",
    "            ind = i\n",
    "    z = int_x[ind] + h * (w_x[ind] - w_x[ind - 1]) / (2 * w_x[ind] - w_x[ind + 1] - w_x[ind - 1])\n",
    "    if (ind == 0):\n",
    "        z = int_x[ind] + h * (w_x[ind]) / (2 * w_x[ind] - w_x[ind + 1])\n",
    "    if (ind == len(w_x)):\n",
    "        z = int_x[ind] + h * (w_x[ind] - w_x[ind - 1]) / (2 * w_x[ind] - w_x[ind - 1])\n",
    "    return round(z, 5)"
   ]
  },
  {
   "cell_type": "code",
   "execution_count": 344,
   "metadata": {
    "collapsed": true
   },
   "outputs": [],
   "source": [
    "def selective_median(int_x, w_x, h): \n",
    "    max = -1\n",
    "    ind = -1\n",
    "    for i in range(len(w_x)):\n",
    "        if (w_x[i] > max):\n",
    "            max = w_x[i]\n",
    "            ind = i\n",
    "    sum = 0\n",
    "    for i in range(ind + 1):\n",
    "        sum += w_x[i]\n",
    "    if (sum == 1 / 2):\n",
    "        return int_x[ind + 1]\n",
    "    elif (ind == 0):\n",
    "        prev = 0\n",
    "    else:\n",
    "        prev = sum - w_x[ind]\n",
    "    #if (prev < 1 / 2 < sum):\n",
    "    return int_x[ind] + h / w_x[ind] * (1/2 - prev)"
   ]
  },
  {
   "cell_type": "markdown",
   "metadata": {},
   "source": [
    "# Normal"
   ]
  },
  {
   "cell_type": "code",
   "execution_count": 345,
   "metadata": {},
   "outputs": [
    {
     "name": "stdout",
     "output_type": "stream",
     "text": [
      "-0.3 1.03\n",
      "-2.38491\t1.49775\t-1.36732\t-0.17488\t0.852\t0.56418\t1.35152\t-1.4391\t-0.00067\t-0.99235\t\n",
      "-0.58694\t-0.3716\t1.00765\t-0.63759\t-0.50758\t-0.03133\t-0.78903\t-0.83799\t0.08753\t-0.53102\t\n",
      "-1.73149\t0.06388\t-0.27838\t1.04778\t-0.42206\t2.10171\t-1.09569\t-1.29674\t-0.41169\t-0.93291\t\n",
      "-1.6236\t0.88668\t-0.17228\t-0.05356\t-1.38205\t0.80611\t-1.36435\t-1.40378\t-0.77946\t-2.17266\t\n",
      "-0.9737\t0.76836\t-2.07627\t-0.75573\t-0.67667\t0.08095\t-1.58459\t-0.42726\t-1.17164\t-1.38245\t\n",
      "1.89469\t-1.17924\t-0.73644\t-0.1207\t-0.0053\t-0.82361\t-2.69546\t-1.50993\t-0.99864\t-0.18079\t\n",
      "-1.61717\t-2.18527\t-0.76846\t-1.04687\t-0.69701\t-0.27302\t-0.56673\t-0.29728\t-0.19382\t-1.30614\t\n",
      "-1.67654\t0.51479\t0.82157\t0.05117\t-0.57712\t0.12767\t-1.65601\t0.23567\t-1.5946\t-0.81066\t\n",
      "-0.99664\t-0.76\t-1.71516\t-0.35749\t0.44699\t-0.96749\t1.33183\t0.6109\t-1.38671\t-2.73583\t\n",
      "-0.17778\t1.07834\t-2.30686\t-0.71296\t-0.26458\t-1.15934\t-0.46957\t-0.00681\t0.52116\t-0.86385\t\n",
      "-1.43382\t2.21221\t0.34903\t-0.41848\t-0.00179\t0.28631\t-1.35155\t0.33803\t-1.19708\t0.58038\t\n",
      "0.22311\t-0.32362\t-1.09049\t0.35926\t0.24\t-1.99075\t-0.59555\t-0.94685\t0.84672\t0.0157\t\n",
      "0.75995\t-0.61024\t-0.33445\t0.24859\t-0.43898\t-1.84456\t-1.63836\t-0.4814\t0.05851\t-1.83983\t\n",
      "0.03918\t0.91772\t0.84344\t0.65489\t-0.29841\t-0.46927\t0.09933\t-0.44035\t-0.1317\t0.36047\t\n",
      "0.96491\t1.79127\t1.90072\t0.58229\t-0.46121\t0.25242\t0.10993\t-0.20628\t-0.12875\t-0.41664\t\n",
      "-0.2192\t-1.21305\t0.09073\t-0.96264\t-0.9906\t0.60164\t-0.06097\t1.07016\t0.08222\t1.153\t\n",
      "-0.553\t-0.21383\t-0.30502\t0.00133\t-1.24431\t-1.49381\t-0.81738\t-0.10921\t-2.34373\t0.48476\t\n",
      "1.07804\t-0.09975\t-0.35279\t-0.23197\t0.36354\t-0.59366\t1.05488\t-1.50916\t0.54553\t-0.74086\t\n",
      "-0.89713\t0.31334\t-1.33626\t-1.14674\t1.1539\t-2.11546\t-0.82496\t0.91988\t0.12783\t1.56058\t\n",
      "-0.95906\t-0.366\t-0.38717\t-2.69712\t1.37556\t0.90934\t1.47437\t0.18642\t0.76702\t0.13131\t\n"
     ]
    }
   ],
   "source": [
    "a = (-1) ** V * 0.1 * V\n",
    "o = 0.01 * V + 1\n",
    "print(round(a, 5), o)\n",
    "#arr_normal = np.around(np.random.normal(a, o, N), 5)\n",
    "arr_normal = [-2.38491, 1.49775, -1.36732, -0.17488, 0.852, 0.56418, 1.35152, -1.4391, -0.00067, -0.99235, \n",
    "-0.58694, -0.3716, 1.00765, -0.63759, -0.50758, -0.03133, -0.78903, -0.83799, 0.08753, -0.53102, \n",
    "-1.73149, 0.06388, -0.27838, 1.04778, -0.42206, 2.10171, -1.09569, -1.29674, -0.41169, -0.93291, \n",
    "-1.6236, 0.88668, -0.17228, -0.05356, -1.38205, 0.80611, -1.36435, -1.40378, -0.77946, -2.17266, \n",
    "-0.9737, 0.76836, -2.07627, -0.75573, -0.67667, 0.08095, -1.58459, -0.42726, -1.17164, -1.38245, \n",
    "1.89469, -1.17924, -0.73644, -0.1207, -0.0053, -0.82361, -2.69546, -1.50993, -0.99864, -0.18079, \n",
    "-1.61717, -2.18527, -0.76846, -1.04687, -0.69701, -0.27302, -0.56673, -0.29728, -0.19382, -1.30614, \n",
    "-1.67654, 0.51479, 0.82157, 0.05117, -0.57712, 0.12767, -1.65601, 0.23567, -1.5946, -0.81066, \n",
    "-0.99664, -0.76, -1.71516, -0.35749, 0.44699, -0.96749, 1.33183, 0.6109, -1.38671, -2.73583, \n",
    "-0.17778, 1.07834, -2.30686, -0.71296, -0.26458, -1.15934, -0.46957, -0.00681, 0.52116, -0.86385, \n",
    "-1.43382, 2.21221, 0.34903, -0.41848, -0.00179, 0.28631, -1.35155, 0.33803, -1.19708, 0.58038, \n",
    "0.22311, -0.32362, -1.09049, 0.35926, 0.24, -1.99075, -0.59555, -0.94685, 0.84672, 0.0157, \n",
    "0.75995, -0.61024, -0.33445, 0.24859, -0.43898, -1.84456, -1.63836, -0.4814, 0.05851, -1.83983, \n",
    "0.03918, 0.91772, 0.84344, 0.65489, -0.29841, -0.46927, 0.09933, -0.44035, -0.1317, 0.36047, \n",
    "0.96491, 1.79127, 1.90072, 0.58229, -0.46121, 0.25242, 0.10993, -0.20628, -0.12875, -0.41664, \n",
    "-0.2192, -1.21305, 0.09073, -0.96264, -0.9906, 0.60164, -0.06097, 1.07016, 0.08222, 1.153, \n",
    "-0.553, -0.21383, -0.30502, 0.00133, -1.24431, -1.49381, -0.81738, -0.10921, -2.34373, 0.48476, \n",
    "1.07804, -0.09975, -0.35279, -0.23197, 0.36354, -0.59366, 1.05488, -1.50916, 0.54553, -0.74086, \n",
    "-0.89713, 0.31334, -1.33626, -1.14674, 1.1539, -2.11546, -0.82496, 0.91988, 0.12783, 1.56058, \n",
    "-0.95906, -0.366, -0.38717, -2.69712, 1.37556, 0.90934, 1.47437, 0.18642, 0.76702, 0.13131]\n",
    "arr_print(arr_normal)"
   ]
  },
  {
   "cell_type": "code",
   "execution_count": 346,
   "metadata": {},
   "outputs": [
    {
     "name": "stdout",
     "output_type": "stream",
     "text": [
      "-2.73583\t-2.69712\t-2.69546\t-2.38491\t-2.34373\t-2.30686\t-2.18527\t-2.17266\t-2.11546\t-2.07627\t\n",
      "-1.99075\t-1.84456\t-1.83983\t-1.73149\t-1.71516\t-1.67654\t-1.65601\t-1.63836\t-1.6236\t-1.61717\t\n",
      "-1.5946\t-1.58459\t-1.50993\t-1.50916\t-1.49381\t-1.4391\t-1.43382\t-1.40378\t-1.38671\t-1.38245\t\n",
      "-1.38205\t-1.36732\t-1.36435\t-1.35155\t-1.33626\t-1.30614\t-1.29674\t-1.24431\t-1.21305\t-1.19708\t\n",
      "-1.17924\t-1.17164\t-1.15934\t-1.14674\t-1.09569\t-1.09049\t-1.04687\t-0.99864\t-0.99664\t-0.99235\t\n",
      "-0.9906\t-0.9737\t-0.96749\t-0.96264\t-0.95906\t-0.94685\t-0.93291\t-0.89713\t-0.86385\t-0.83799\t\n",
      "-0.82496\t-0.82361\t-0.81738\t-0.81066\t-0.78903\t-0.77946\t-0.76846\t-0.76\t-0.75573\t-0.74086\t\n",
      "-0.73644\t-0.71296\t-0.69701\t-0.67667\t-0.63759\t-0.61024\t-0.59555\t-0.59366\t-0.58694\t-0.57712\t\n",
      "-0.56673\t-0.553\t-0.53102\t-0.50758\t-0.4814\t-0.46957\t-0.46927\t-0.46121\t-0.44035\t-0.43898\t\n",
      "-0.42726\t-0.42206\t-0.41848\t-0.41664\t-0.41169\t-0.38717\t-0.3716\t-0.366\t-0.35749\t-0.35279\t\n",
      "-0.33445\t-0.32362\t-0.30502\t-0.29841\t-0.29728\t-0.27838\t-0.27302\t-0.26458\t-0.23197\t-0.2192\t\n",
      "-0.21383\t-0.20628\t-0.19382\t-0.18079\t-0.17778\t-0.17488\t-0.17228\t-0.1317\t-0.12875\t-0.1207\t\n",
      "-0.10921\t-0.09975\t-0.06097\t-0.05356\t-0.03133\t-0.00681\t-0.0053\t-0.00179\t-0.00067\t0.00133\t\n",
      "0.0157\t0.03918\t0.05117\t0.05851\t0.06388\t0.08095\t0.08222\t0.08753\t0.09073\t0.09933\t\n",
      "0.10993\t0.12767\t0.12783\t0.13131\t0.18642\t0.22311\t0.23567\t0.24\t0.24859\t0.25242\t\n",
      "0.28631\t0.31334\t0.33803\t0.34903\t0.35926\t0.36047\t0.36354\t0.44699\t0.48476\t0.51479\t\n",
      "0.52116\t0.54553\t0.56418\t0.58038\t0.58229\t0.60164\t0.6109\t0.65489\t0.75995\t0.76702\t\n",
      "0.76836\t0.80611\t0.82157\t0.84344\t0.84672\t0.852\t0.88668\t0.90934\t0.91772\t0.91988\t\n",
      "0.96491\t1.00765\t1.04778\t1.05488\t1.07016\t1.07804\t1.07834\t1.153\t1.1539\t1.33183\t\n",
      "1.35152\t1.37556\t1.47437\t1.49775\t1.56058\t1.79127\t1.89469\t1.90072\t2.10171\t2.21221\t\n"
     ]
    }
   ],
   "source": [
    "arr_normal.sort()\n",
    "arr_print(arr_normal)"
   ]
  },
  {
   "cell_type": "code",
   "execution_count": 326,
   "metadata": {},
   "outputs": [
    {
     "name": "stdout",
     "output_type": "stream",
     "text": [
      "Интервалы\t\tni\twi\n",
      "[-2.73583,-2.11733]\t8\t0.04\n",
      "(-2.11733,-1.49883]\t16\t0.08\n",
      "(-1.49883,-0.88033]\t34\t0.17\n",
      "(-0.88033,-0.26183]\t50\t0.25\n",
      "(-0.26183,0.35667]\t46\t0.23\n",
      "(0.35667,0.97517]\t27\t0.135\n",
      "(0.97517,1.59367]\t14\t0.07\n",
      "(1.5937,2.21221]\t5\t0.025\n",
      "\t\t\t200\t1.0\n"
     ]
    }
   ],
   "source": [
    "a0 = arr_normal[0]\n",
    "af = arr_normal[-1]\n",
    "int_normal = []\n",
    "n_normal = []\n",
    "w_normal = []\n",
    "group(a0, af, arr_normal, int_normal, n_normal, w_normal)\n",
    "int_normal = np.around(int_normal, 5)"
   ]
  },
  {
   "cell_type": "code",
   "execution_count": 327,
   "metadata": {},
   "outputs": [
    {
     "name": "stdout",
     "output_type": "stream",
     "text": [
      "xi\t\tni\twi\n",
      "-2.42658\t8\t0.04\n",
      "-1.80808\t16\t0.08\n",
      "-1.18958\t34\t0.17\n",
      "-0.57108\t50\t0.25\n",
      "0.04742 \t46\t0.23\n",
      "0.66592 \t27\t0.135\n",
      "1.28442 \t14\t0.07\n",
      "1.90294 \t5\t0.025\n"
     ]
    }
   ],
   "source": [
    "xi_normal = []\n",
    "as_static_row(int_normal, n_normal, w_normal, xi_normal)"
   ]
  },
  {
   "cell_type": "code",
   "execution_count": 328,
   "metadata": {
    "collapsed": true
   },
   "outputs": [],
   "source": [
    "arr_normal_c = [arr_normal[0]]\n",
    "del_repeat(arr_normal, arr_normal_c)"
   ]
  },
  {
   "cell_type": "code",
   "execution_count": 329,
   "metadata": {},
   "outputs": [
    {
     "data": {
      "image/png": "[encoded data removed]",
      "text/plain": [
       "<matplotlib.figure.Figure at 0x1e506388710>"
      ]
     },
     "metadata": {},
     "output_type": "display_data"
    }
   ],
   "source": [
    "plt.axes()\n",
    "plt.yticks(np.arange(0, 1.1, 0.1))\n",
    "plt.title(\"normal emperic\")\n",
    "emperic(arr_normal, arr_normal_c)"
   ]
  },
  {
   "cell_type": "code",
   "execution_count": 330,
   "metadata": {},
   "outputs": [
    {
     "data": {
      "image/png": "[encoded data removed]",
      "text/plain": [
       "<matplotlib.figure.Figure at 0x1e505d9b3c8>"
      ]
     },
     "metadata": {},
     "output_type": "display_data"
    }
   ],
   "source": [
    "h = (af - a0) / m\n",
    "plt.title(\"normal histogram\")\n",
    "histogram(xi_normal, w_normal, h)"
   ]
  },
  {
   "cell_type": "code",
   "execution_count": 331,
   "metadata": {
    "scrolled": true
   },
   "outputs": [
    {
     "name": "stdout",
     "output_type": "stream",
     "text": [
      "-0.34842\n",
      "0.93228\n",
      "0.96555\n",
      "-0.38553\n",
      "-0.3607858\n",
      "0.03533057925\n",
      "-0.328589824412\n"
     ]
    }
   ],
   "source": [
    "sm_normal = sample_mean(xi_normal, w_normal, 1)\n",
    "print(sm_normal)\n",
    "dsp_shep_normal = dispersion_shep(xi_normal, w_normal, sm_normal, h)\n",
    "print(dsp_shep_normal)\n",
    "qd_normal = round(math.sqrt(dsp_shep_normal), 5)\n",
    "print(qd_normal)\n",
    "sf_normal = selective_fashion(int_normal, w_normal, h)\n",
    "print(sf_normal)\n",
    "smed_normal = selective_median(int_normal, w_normal, h)\n",
    "print(smed_normal)\n",
    "sm2_normal = sample_mean(xi_normal, w_normal, 2)\n",
    "sm3_normal = sample_mean(xi_normal, w_normal, 3)\n",
    "sm4_normal = sample_mean(xi_normal, w_normal, 4)\n",
    "ac_normal = (sm3_normal - 3 * sm2_normal * sm_normal + 2 * (sm_normal ** 3)) / ((math.sqrt(sm2_normal - sm_normal ** 2)) ** 3)\n",
    "print(ac_normal)\n",
    "kc_normal = ((sm4_normal - 4 * sm3_normal * sm_normal + 6 * sm2_normal * sm_normal ** 2 - 3 * sm_normal ** 4) \n",
    "            / ((math.sqrt(sm2_normal - sm_normal ** 2)) ** 4)) - 3\n",
    "print(kc_normal)"
   ]
  },
  {
   "cell_type": "code",
   "execution_count": 332,
   "metadata": {
    "collapsed": true
   },
   "outputs": [],
   "source": [
    "t_sm_normal = a\n",
    "t_dsp_normal = o ** 2\n",
    "t_qd_normal = math.sqrt(t_dsp_normal)\n",
    "t_sf_normal = a\n",
    "t_smed_normal = a\n",
    "t_ac_normal = 0\n",
    "t_kc_normal = 0"
   ]
  },
  {
   "cell_type": "code",
   "execution_count": 333,
   "metadata": {},
   "outputs": [
    {
     "name": "stdout",
     "output_type": "stream",
     "text": [
      "-0.34842\t-0.30000000000000004\t0.04842\t0.1614\n",
      "0.93228\t1.0609\t0.12862\t0.121236685833\n",
      "0.96555\t1.03\t0.06445000000000001\t0.06257281553398059\n",
      "-0.38553\t-0.30000000000000004\t0.08553\t0.2851\n",
      "-0.3607858\t-0.30000000000000004\t0.0607858\t0.202619333333\n",
      "0.03533057925\t0\t0.03533057925\tinf\n",
      "-0.328589824412\t0\t0.328589824412\tinf\n"
     ]
    },
    {
     "name": "stderr",
     "output_type": "stream",
     "text": [
      "C:\\Anaconda3\\lib\\site-packages\\ipykernel_launcher.py:6: RuntimeWarning: divide by zero encountered in double_scalars\n",
      "  \n",
      "C:\\Anaconda3\\lib\\site-packages\\ipykernel_launcher.py:7: RuntimeWarning: divide by zero encountered in double_scalars\n",
      "  import sys\n"
     ]
    }
   ],
   "source": [
    "print(sm_normal, t_sm_normal, abs(t_sm_normal - sm_normal), abs((t_sm_normal - sm_normal) / t_sm_normal), sep = '\\t')\n",
    "print(dsp_shep_normal, t_dsp_normal, abs(t_dsp_normal - dsp_shep_normal), abs((t_dsp_normal - dsp_shep_normal) / t_dsp_normal), sep = '\\t')\n",
    "print(qd_normal, t_qd_normal, abs(t_qd_normal - qd_normal), abs((t_qd_normal - qd_normal) / t_qd_normal), sep = '\\t')\n",
    "print(sf_normal, t_sf_normal, abs(t_sf_normal - sf_normal), abs((t_sf_normal - sf_normal) / t_sf_normal), sep = '\\t')\n",
    "print(smed_normal, t_smed_normal, abs(t_smed_normal - smed_normal), abs((t_smed_normal - smed_normal) / t_smed_normal), sep = '\\t')\n",
    "print(ac_normal, t_ac_normal, abs(t_ac_normal - ac_normal), abs((t_ac_normal - ac_normal) / t_ac_normal), sep = '\\t')\n",
    "print(kc_normal, t_kc_normal, abs(t_kc_normal - kc_normal), abs((t_kc_normal - kc_normal) / t_kc_normal), sep = '\\t')"
   ]
  },
  {
   "cell_type": "code",
   "execution_count": 334,
   "metadata": {},
   "outputs": [
    {
     "name": "stdout",
     "output_type": "stream",
     "text": [
      "Интервалы\twi\tpi\t|pi - wi|\n",
      "[-2.73583,-2.11733]\t0.04\t0.02981\t0.01019\n",
      "(-2.11733,-1.49883]\t0.08\t0.0834\t0.0034\n",
      "(-1.49883,-0.88033]\t0.17\t0.16434\t0.00566\n",
      "(-0.88033,-0.26183]\t0.25\t0.22821\t0.02179\n",
      "(-0.26183,0.35667]\t0.23\t0.22333\t0.00667\n",
      "(0.35667,0.97517]\t0.135\t0.15403\t0.01903\n",
      "(0.97517,1.59367]\t0.07\t0.07486\t0.00486\n",
      "(1.59367,2.21221]\t0.025\t0.02563\t0.00063\n",
      "0.983618935393\n"
     ]
    }
   ],
   "source": [
    "print(\"Интервалы\\twi\\tpi\\t|pi - wi|\")\n",
    "sum = 0\n",
    "for i in range(len(int_normal) - 1):\n",
    "    z = stats.norm.cdf(int_normal[i + 1], a, o) - stats.norm.cdf(int_normal[i], a, o)\n",
    "    if (i == 0): print('[', end = \"\")\n",
    "    else: print('(', end = \"\")\n",
    "    print(int_normal[i], ',', int_normal[i + 1], ']\\t', w_normal[i], '\\t', round(z, 5),\n",
    "        '\\t', round(abs(z - w_normal[i]), 5), sep = \"\")\n",
    "    sum += z\n",
    "print(sum)"
   ]
  },
  {
   "cell_type": "markdown",
   "metadata": {},
   "source": [
    "# exponential"
   ]
  },
  {
   "cell_type": "code",
   "execution_count": 278,
   "metadata": {},
   "outputs": [
    {
     "name": "stdout",
     "output_type": "stream",
     "text": [
      "2.97\n",
      "0.05174, 0.02413, 0.07671, 0.20856, 0.28771, 0.13135, 0.37197, 0.90276, 0.04248, 0.27395, \n",
      "0.30574, 0.49678, 0.15077, 0.0653, 0.03569, 0.2785, 0.07799, 0.64307, 0.10286, 0.09468, \n",
      "0.03354, 0.24577, 0.01596, 0.61811, 0.0591, 0.14455, 0.10891, 0.01622, 0.88208, 0.24962, \n",
      "0.21502, 0.47674, 0.19722, 0.3285, 0.21033, 0.80651, 0.97721, 0.10184, 0.06831, 0.53274, \n",
      "0.05148, 0.02722, 0.3797, 0.28411, 1.01512, 0.09749, 0.00063, 0.01506, 0.07802, 0.02047, \n",
      "0.19642, 0.12685, 1.32748, 0.36509, 0.02479, 0.41913, 0.34703, 0.2279, 1.25669, 0.44815, \n",
      "0.28504, 0.18268, 0.14914, 0.28282, 0.0315, 0.81106, 0.27521, 0.119, 0.33669, 2.01043, \n",
      "0.34454, 0.49143, 0.06819, 0.60151, 0.24783, 0.12738, 0.47379, 1.05731, 0.84133, 0.02287, \n",
      "0.25756, 0.85448, 0.2652, 0.37885, 0.30672, 0.06087, 0.41871, 0.58935, 1.01442, 0.18767, \n",
      "0.0301, 0.40424, 0.02128, 1.7073, 0.66598, 0.14264, 0.26163, 0.27823, 0.01244, 0.03421, \n",
      "0.30718, 0.38886, 0.40646, 0.28522, 0.06108, 1.30078, 0.13109, 0.01164, 0.08905, 0.10792, \n",
      "0.03479, 0.16783, 0.0922, 0.27221, 0.37046, 0.06404, 0.45272, 0.2292, 0.02659, 0.02303, \n",
      "0.08799, 0.32836, 0.08253, 0.03457, 0.3466, 0.30633, 0.51837, 0.03444, 0.7447, 0.0645, \n",
      "0.41611, 0.32863, 0.22144, 0.62446, 0.21646, 0.28792, 1.1309, 0.03457, 0.18371, 0.15587, \n",
      "0.1732, 0.03232, 0.6349, 0.56806, 0.08949, 0.12824, 0.2516, 0.71234, 0.15471, 0.01116, \n",
      "0.07957, 0.41123, 0.38494, 0.0665, 0.11186, 1.92169, 0.079, 0.26177, 0.4173, 0.73205, \n",
      "0.14681, 0.50615, 0.25888, 0.08006, 0.15469, 0.19525, 0.00032, 0.22126, 0.08316, 0.10099, \n",
      "0.06242, 0.11937, 0.17228, 0.38664, 0.2802, 0.0115, 0.40988, 0.10245, 0.05971, 0.43767, \n",
      "1.32136, 0.39814, 1.30795, 0.19598, 0.23277, 0.63134, 0.40095, 0.00472, 0.74938, 0.25091, \n",
      "0.64238, 0.10871, 0.08047, 0.7329, 0.0606, 0.26034, 0.33002, 0.04127, 0.1171, 0.0785, \n"
     ]
    }
   ],
   "source": [
    "l = 3 + (-1) ** V * 0.01 * V\n",
    "print(l)\n",
    "#arr_exp = np.around(np.random.exponential(1/l, N), 5)\n",
    "arr_exp = [0.05174, 0.02413, 0.07671, 0.20856, 0.28771, 0.13135, 0.37197, 0.90276, 0.04248, 0.27395, \n",
    "0.30574, 0.49678, 0.15077, 0.0653, 0.03569, 0.2785, 0.07799, 0.64307, 0.10286, 0.09468, \n",
    "0.03354, 0.24577, 0.01596, 0.61811, 0.0591, 0.14455, 0.10891, 0.01622, 0.88208, 0.24962, \n",
    "0.21502, 0.47674, 0.19722, 0.3285, 0.21033, 0.80651, 0.97721, 0.10184, 0.06831, 0.53274, \n",
    "0.05148, 0.02722, 0.3797, 0.28411, 1.01512, 0.09749, 0.00063, 0.01506, 0.07802, 0.02047, \n",
    "0.19642, 0.12685, 1.32748, 0.36509, 0.02479, 0.41913, 0.34703, 0.2279, 1.25669, 0.44815, \n",
    "0.28504, 0.18268, 0.14914, 0.28282, 0.0315, 0.81106, 0.27521, 0.119, 0.33669, 2.01043, \n",
    "0.34454, 0.49143, 0.06819, 0.60151, 0.24783, 0.12738, 0.47379, 1.05731, 0.84133, 0.02287, \n",
    "0.25756, 0.85448, 0.2652, 0.37885, 0.30672, 0.06087, 0.41871, 0.58935, 1.01442, 0.18767, \n",
    "0.0301, 0.40424, 0.02128, 1.7073, 0.66598, 0.14264, 0.26163, 0.27823, 0.01244, 0.03421, \n",
    "0.30718, 0.38886, 0.40646, 0.28522, 0.06108, 1.30078, 0.13109, 0.01164, 0.08905, 0.10792, \n",
    "0.03479, 0.16783, 0.0922, 0.27221, 0.37046, 0.06404, 0.45272, 0.2292, 0.02659, 0.02303, \n",
    "0.08799, 0.32836, 0.08253, 0.03457, 0.3466, 0.30633, 0.51837, 0.03444, 0.7447, 0.0645, \n",
    "0.41611, 0.32863, 0.22144, 0.62446, 0.21646, 0.28792, 1.1309, 0.03457, 0.18371, 0.15587, \n",
    "0.1732, 0.03232, 0.6349, 0.56806, 0.08949, 0.12824, 0.2516, 0.71234, 0.15471, 0.01116, \n",
    "0.07957, 0.41123, 0.38494, 0.0665, 0.11186, 1.92169, 0.079, 0.26177, 0.4173, 0.73205, \n",
    "0.14681, 0.50615, 0.25888, 0.08006, 0.15469, 0.19525, 0.00032, 0.22126, 0.08316, 0.10099, \n",
    "0.06242, 0.11937, 0.17228, 0.38664, 0.2802, 0.0115, 0.40988, 0.10245, 0.05971, 0.43767, \n",
    "1.32136, 0.39814, 1.30795, 0.19598, 0.23277, 0.63134, 0.40095, 0.00472, 0.74938, 0.25091, \n",
    "0.64238, 0.10871, 0.08047, 0.7329, 0.0606, 0.26034, 0.33002, 0.04127, 0.1171, 0.0785]\n",
    "arr_print(arr_exp)"
   ]
  },
  {
   "cell_type": "code",
   "execution_count": 279,
   "metadata": {},
   "outputs": [
    {
     "name": "stdout",
     "output_type": "stream",
     "text": [
      "0.00032, 0.00063, 0.00472, 0.01116, 0.0115, 0.01164, 0.01244, 0.01506, 0.01596, 0.01622, \n",
      "0.02047, 0.02128, 0.02287, 0.02303, 0.02413, 0.02479, 0.02659, 0.02722, 0.0301, 0.0315, \n",
      "0.03232, 0.03354, 0.03421, 0.03444, 0.03457, 0.03457, 0.03479, 0.03569, 0.04127, 0.04248, \n",
      "0.05148, 0.05174, 0.0591, 0.05971, 0.0606, 0.06087, 0.06108, 0.06242, 0.06404, 0.0645, \n",
      "0.0653, 0.0665, 0.06819, 0.06831, 0.07671, 0.07799, 0.07802, 0.0785, 0.079, 0.07957, \n",
      "0.08006, 0.08047, 0.08253, 0.08316, 0.08799, 0.08905, 0.08949, 0.0922, 0.09468, 0.09749, \n",
      "0.10099, 0.10184, 0.10245, 0.10286, 0.10792, 0.10871, 0.10891, 0.11186, 0.1171, 0.119, \n",
      "0.11937, 0.12685, 0.12738, 0.12824, 0.13109, 0.13135, 0.14264, 0.14455, 0.14681, 0.14914, \n",
      "0.15077, 0.15469, 0.15471, 0.15587, 0.16783, 0.17228, 0.1732, 0.18268, 0.18371, 0.18767, \n",
      "0.19525, 0.19598, 0.19642, 0.19722, 0.20856, 0.21033, 0.21502, 0.21646, 0.22126, 0.22144, \n",
      "0.2279, 0.2292, 0.23277, 0.24577, 0.24783, 0.24962, 0.25091, 0.2516, 0.25756, 0.25888, \n",
      "0.26034, 0.26163, 0.26177, 0.2652, 0.27221, 0.27395, 0.27521, 0.27823, 0.2785, 0.2802, \n",
      "0.28282, 0.28411, 0.28504, 0.28522, 0.28771, 0.28792, 0.30574, 0.30633, 0.30672, 0.30718, \n",
      "0.32836, 0.3285, 0.32863, 0.33002, 0.33669, 0.34454, 0.3466, 0.34703, 0.36509, 0.37046, \n",
      "0.37197, 0.37885, 0.3797, 0.38494, 0.38664, 0.38886, 0.39814, 0.40095, 0.40424, 0.40646, \n",
      "0.40988, 0.41123, 0.41611, 0.4173, 0.41871, 0.41913, 0.43767, 0.44815, 0.45272, 0.47379, \n",
      "0.47674, 0.49143, 0.49678, 0.50615, 0.51837, 0.53274, 0.56806, 0.58935, 0.60151, 0.61811, \n",
      "0.62446, 0.63134, 0.6349, 0.64238, 0.64307, 0.66598, 0.71234, 0.73205, 0.7329, 0.7447, \n",
      "0.74938, 0.80651, 0.81106, 0.84133, 0.85448, 0.88208, 0.90276, 0.97721, 1.01442, 1.01512, \n",
      "1.05731, 1.1309, 1.25669, 1.30078, 1.30795, 1.32136, 1.32748, 1.7073, 1.92169, 2.01043, \n"
     ]
    }
   ],
   "source": [
    "arr_exp.sort()\n",
    "arr_print(arr_exp)"
   ]
  },
  {
   "cell_type": "code",
   "execution_count": 280,
   "metadata": {},
   "outputs": [
    {
     "name": "stdout",
     "output_type": "stream",
     "text": [
      "Интервалы\t\tni\twi\n",
      "[-0.0,0.2513]\t107\t0.535\n",
      "(0.2513,0.5026]\t56\t0.28\n",
      "(0.5026,0.7539]\t18\t0.09\n",
      "(0.7539,1.0052]\t7\t0.035\n",
      "(1.0052,1.2565]\t4\t0.02\n",
      "(1.2565,1.5078]\t5\t0.025\n",
      "(1.5078,1.7591]\t1\t0.005\n",
      "(1.75913,2.01043]\t2\t0.01\n",
      "\t\t\t200\t1.0\n"
     ]
    }
   ],
   "source": [
    "a0 = 0\n",
    "af = arr_exp[-1]\n",
    "int_exp = []\n",
    "n_exp = []\n",
    "w_exp = []\n",
    "group(a0, af, arr_exp, int_exp, n_exp, w_exp)\n",
    "int_exp = np.around(int_exp, 5)"
   ]
  },
  {
   "cell_type": "code",
   "execution_count": 281,
   "metadata": {},
   "outputs": [
    {
     "name": "stdout",
     "output_type": "stream",
     "text": [
      "xi\t\tni\twi\n",
      "0.12565 \t107\t0.535\n",
      "0.37695 \t56\t0.28\n",
      "0.62825 \t18\t0.09\n",
      "0.87955 \t7\t0.035\n",
      "1.13085 \t4\t0.02\n",
      "1.38215 \t5\t0.025\n",
      "1.63345 \t1\t0.005\n",
      "1.88476 \t2\t0.01\n"
     ]
    }
   ],
   "source": [
    "xi_exp = []\n",
    "as_static_row(int_exp, n_exp, w_exp, xi_exp)"
   ]
  },
  {
   "cell_type": "code",
   "execution_count": 282,
   "metadata": {
    "collapsed": true
   },
   "outputs": [],
   "source": [
    "arr_exp_c = [arr_exp[0]]\n",
    "del_repeat(arr_exp, arr_exp_c)"
   ]
  },
  {
   "cell_type": "code",
   "execution_count": 283,
   "metadata": {},
   "outputs": [
    {
     "data": {
      "image/png": "[encoded data removed]",
      "text/plain": [
       "<matplotlib.figure.Figure at 0x1e505f96a58>"
      ]
     },
     "metadata": {},
     "output_type": "display_data"
    }
   ],
   "source": [
    "plt.axes()\n",
    "plt.yticks(np.arange(0, 1.1, 0.1))\n",
    "plt.title(\"exp emperic\")\n",
    "emperic(arr_exp, arr_exp_c)"
   ]
  },
  {
   "cell_type": "code",
   "execution_count": 284,
   "metadata": {},
   "outputs": [
    {
     "data": {
      "image/png": "[encoded data removed]",
      "text/plain": [
       "<matplotlib.figure.Figure at 0x1e50609f390>"
      ]
     },
     "metadata": {},
     "output_type": "display_data"
    }
   ],
   "source": [
    "h = (af - a0) / m\n",
    "plt.title(\"exp histogram\")\n",
    "plt.xticks(np.arange(0, 20, 2))\n",
    "histogram(xi_exp, w_exp, h)"
   ]
  },
  {
   "cell_type": "code",
   "execution_count": 285,
   "metadata": {
    "scrolled": true
   },
   "outputs": [
    {
     "name": "stdout",
     "output_type": "stream",
     "text": [
      "0.34428\n",
      "0.10924\n",
      "0.33051\n",
      "0.17019\n",
      "0.234863317757\n",
      "2.24032669647\n",
      "5.50192197887\n"
     ]
    }
   ],
   "source": [
    "sm_exp = sample_mean(xi_exp, w_exp, 1)\n",
    "print(sm_exp)\n",
    "dsp_shep_exp = dispersion_shep(xi_exp, w_exp, sm_exp, h)\n",
    "print(dsp_shep_exp)\n",
    "qd_exp = round(math.sqrt(dsp_shep_exp), 5)\n",
    "print(qd_exp)\n",
    "sf_exp = selective_fashion(int_exp, w_exp, h)\n",
    "print(sf_exp)\n",
    "smed_exp = selective_median(int_exp, w_exp, h)\n",
    "print(smed_exp)\n",
    "sm2_exp = sample_mean(xi_exp, w_exp, 2)\n",
    "sm3_exp = sample_mean(xi_exp, w_exp, 3)\n",
    "sm4_exp = sample_mean(xi_exp, w_exp, 4)\n",
    "ac_exp = (sm3_exp - 3 * sm2_exp * sm_exp + 2 * (sm_exp ** 3)) / ((math.sqrt(sm2_exp - sm_exp ** 2)) ** 3)\n",
    "print(ac_exp)\n",
    "kc_exp = ((sm4_exp - 4 * sm3_exp * sm_exp + 6 * sm2_exp * sm_exp ** 2 - 3 * sm_exp ** 4)\n",
    "    / ((math.sqrt(sm2_exp - sm_exp ** 2)) ** 4)) - 3\n",
    "print(kc_exp)"
   ]
  },
  {
   "cell_type": "code",
   "execution_count": 286,
   "metadata": {
    "collapsed": true
   },
   "outputs": [],
   "source": [
    "t_sm_exp = 1/l\n",
    "t_dsp_exp = 1/(l ** 2)\n",
    "t_qd_exp = math.sqrt(t_dsp_exp)\n",
    "t_sf_exp = 0\n",
    "t_smed_exp = math.log(2) / l\n",
    "t_ac_exp = 2\n",
    "t_kc_exp = 6"
   ]
  },
  {
   "cell_type": "code",
   "execution_count": 287,
   "metadata": {},
   "outputs": [
    {
     "name": "stdout",
     "output_type": "stream",
     "text": [
      "0.34428\t0.33670033670033667\t0.00757966329966\t0.0225116\n",
      "0.10924\t0.11336711673412007\t0.00412711673412\t0.036404884\n",
      "0.33051\t0.33670033670033667\t0.0061903367003366405\t0.018385299999999823\n",
      "0.17019\t0\t0.17019\tinf\n",
      "0.234863317757\t0.23338288907742263\t0.00148042867959\t0.00634334712986\n",
      "2.24032669647\t2\t0.240326696465\t0.120163348233\n",
      "5.50192197887\t6\t0.498078021134\t0.0830130035223\n"
     ]
    },
    {
     "name": "stderr",
     "output_type": "stream",
     "text": [
      "C:\\Anaconda3\\lib\\site-packages\\ipykernel_launcher.py:4: RuntimeWarning: divide by zero encountered in double_scalars\n",
      "  after removing the cwd from sys.path.\n"
     ]
    }
   ],
   "source": [
    "print(sm_exp, t_sm_exp, abs(t_sm_exp - sm_exp), abs((t_sm_exp - sm_exp) / t_sm_exp), sep = '\\t')\n",
    "print(dsp_shep_exp, t_dsp_exp, abs(t_dsp_exp - dsp_shep_exp), abs((t_dsp_exp - dsp_shep_exp) / t_dsp_exp), sep = '\\t')\n",
    "print(qd_exp, t_qd_exp, abs(t_qd_exp - qd_exp), abs((t_qd_exp - qd_exp) / t_qd_exp), sep = '\\t')\n",
    "print(sf_exp, t_sf_exp, abs(t_sf_exp - sf_exp), abs((t_sf_exp - sf_exp) / t_sf_exp), sep = '\\t')\n",
    "print(smed_exp, t_smed_exp, abs(t_smed_exp - smed_exp), abs((t_smed_exp - smed_exp) / t_smed_exp), sep = '\\t')\n",
    "print(ac_exp, t_ac_exp, abs(t_ac_exp - ac_exp), abs((t_ac_exp - ac_exp) / t_ac_exp), sep = '\\t')\n",
    "print(kc_exp, t_kc_exp, abs(t_kc_exp - kc_exp), abs((t_kc_exp - kc_exp) / t_kc_exp), sep = '\\t')"
   ]
  },
  {
   "cell_type": "code",
   "execution_count": 288,
   "metadata": {},
   "outputs": [
    {
     "name": "stdout",
     "output_type": "stream",
     "text": [
      "Интервалы\twi\tpi\t|pi - wi|\n",
      "0.0,0.2513]\t0.535\t0.52591\t0.00909\n",
      "0.2513,0.5026]\t0.28\t0.24933\t0.03067\n",
      "0.5026,0.7539]\t0.09\t0.1182\t0.0282\n",
      "0.7539,1.0052]\t0.035\t0.05604\t0.02104\n",
      "1.0052,1.2565]\t0.02\t0.02657\t0.00657\n",
      "1.2565,1.5078]\t0.025\t0.0126\t0.0124\n",
      "1.5078,1.7591]\t0.005\t0.00597\t0.00097\n",
      "1.7591,2.01043]\t0.01\t0.00283\t0.00717\n",
      "0.997448253111396\n"
     ]
    }
   ],
   "source": [
    "print(\"Интервалы\\twi\\tpi\\t|pi - wi|\")\n",
    "\n",
    "x = sympy.symbols('x')\n",
    "f_exp = 1 - math.e ** (-l * x)\n",
    "sum = 0\n",
    "for i in range(len(int_exp) - 1) :\n",
    "    z = f_exp.subs(x, int_exp[i + 1]) - f_exp.subs(x, int_exp[i])\n",
    "    sum += z\n",
    "    print(int_exp[i], ',', int_exp[i + 1], ']\\t', w_exp[i], '\\t', round(z, 5),\n",
    "          '\\t', round(abs(z - w_exp[i]), 5), sep = \"\")\n",
    "print(sum)"
   ]
  },
  {
   "cell_type": "markdown",
   "metadata": {},
   "source": [
    "# uniform"
   ]
  },
  {
   "cell_type": "code",
   "execution_count": 289,
   "metadata": {},
   "outputs": [
    {
     "name": "stdout",
     "output_type": "stream",
     "text": [
      "-0.15 2.85\n",
      "2.56921, 2.63773, 0.42738, 0.12093, 2.02851, 1.66284, 1.5845, 0.81536, 2.28168, 0.57988, \n",
      "1.1155, 1.96226, 2.77412, -0.10927, 0.73792, 2.25422, 2.20642, 1.37489, 0.14378, 1.0241, \n",
      "1.73737, 0.39785, -0.07205, 1.66863, 2.64618, 0.40947, 1.60383, 1.94281, 0.7595, 1.82115, \n",
      "0.7086, 2.05453, 1.2481, 0.70664, 0.88033, 1.11579, 1.97507, 2.75864, 2.70769, 2.7168, \n",
      "1.25082, 1.34943, 1.9802, 1.45377, 0.66394, 0.33136, 0.85707, 2.60792, 0.99837, 2.70303, \n",
      "0.8137, 1.54956, 0.26412, 0.51751, 1.2688, 2.04152, 2.60214, 0.37638, 0.99969, 1.24513, \n",
      "1.02213, 1.64325, 1.64105, 0.33761, 2.27502, -0.07423, 1.00115, 0.78888, 0.30111, 2.14444, \n",
      "0.83457, 2.13657, 1.66212, 2.02843, 1.1022, 1.65076, 0.39533, 2.25229, 1.15555, 0.69351, \n",
      "0.37971, 2.08604, 1.5215, 2.0461, 2.27205, 1.31414, 2.25755, 0.45103, 0.86669, 1.18301, \n",
      "2.76698, 1.00594, 0.81168, 2.07634, 1.00435, 2.83985, 1.48827, 0.09021, 1.92174, 2.00919, \n",
      "1.60606, 2.38557, 1.96959, -0.14849, 0.80541, 1.06672, 1.87179, 0.47122, 0.77971, 0.0563, \n",
      "1.3318, 1.54629, 2.83283, 0.90014, 2.01613, 2.68609, 2.14888, 2.48705, 2.30503, 0.39357, \n",
      "-0.13776, -0.10846, 1.3051, 2.84862, 0.17495, 1.64063, 2.32594, 0.11086, 1.84505, 2.38261, \n",
      "2.66796, 2.56757, 0.12032, 1.25206, 1.57298, 2.59622, 2.0171, 1.88092, 0.79903, 0.08348, \n",
      "0.44914, 1.74249, 1.89898, 2.73879, 1.7213, 2.78039, 0.50893, 0.99018, 1.43746, 0.9491, \n",
      "0.64859, 1.9116, 1.55858, 0.12373, 1.46501, 2.36762, 2.34535, 2.52775, 1.43216, 1.65423, \n",
      "1.18457, 0.43929, 0.35889, 0.54398, 1.82594, 0.46824, 2.46885, 2.40663, 0.4306, 0.04087, \n",
      "2.78808, 2.00008, 0.76373, 2.68129, 1.38953, 0.73799, 0.83706, 0.12075, 1.89708, 1.91384, \n",
      "2.52335, 2.37854, 2.77525, 1.95381, 2.5686, 1.93914, 0.71626, 0.49313, 2.27228, 2.0479, \n",
      "1.28661, -0.09377, 0.36376, 1.3991, 1.84436, 2.36511, 1.40026, 0.18624, 0.40505, 2.36387, \n"
     ]
    }
   ],
   "source": [
    "a = (-1) ** V * 0.05 * V\n",
    "b = a + 3\n",
    "print(round(a, 5), b)\n",
    "#arr_uniform = np.around(np.random.uniform(a, b, N), 5)\n",
    "arr_uniform = [2.56921, 2.63773, 0.42738, 0.12093, 2.02851, 1.66284, 1.5845, 0.81536, 2.28168, 0.57988, \n",
    "1.1155, 1.96226, 2.77412, -0.10927, 0.73792, 2.25422, 2.20642, 1.37489, 0.14378, 1.0241, \n",
    "1.73737, 0.39785, -0.07205, 1.66863, 2.64618, 0.40947, 1.60383, 1.94281, 0.7595, 1.82115, \n",
    "0.7086, 2.05453, 1.2481, 0.70664, 0.88033, 1.11579, 1.97507, 2.75864, 2.70769, 2.7168, \n",
    "1.25082, 1.34943, 1.9802, 1.45377, 0.66394, 0.33136, 0.85707, 2.60792, 0.99837, 2.70303, \n",
    "0.8137, 1.54956, 0.26412, 0.51751, 1.2688, 2.04152, 2.60214, 0.37638, 0.99969, 1.24513, \n",
    "1.02213, 1.64325, 1.64105, 0.33761, 2.27502, -0.07423, 1.00115, 0.78888, 0.30111, 2.14444, \n",
    "0.83457, 2.13657, 1.66212, 2.02843, 1.1022, 1.65076, 0.39533, 2.25229, 1.15555, 0.69351, \n",
    "0.37971, 2.08604, 1.5215, 2.0461, 2.27205, 1.31414, 2.25755, 0.45103, 0.86669, 1.18301, \n",
    "2.76698, 1.00594, 0.81168, 2.07634, 1.00435, 2.83985, 1.48827, 0.09021, 1.92174, 2.00919, \n",
    "1.60606, 2.38557, 1.96959, -0.14849, 0.80541, 1.06672, 1.87179, 0.47122, 0.77971, 0.0563, \n",
    "1.3318, 1.54629, 2.83283, 0.90014, 2.01613, 2.68609, 2.14888, 2.48705, 2.30503, 0.39357, \n",
    "-0.13776, -0.10846, 1.3051, 2.84862, 0.17495, 1.64063, 2.32594, 0.11086, 1.84505, 2.38261, \n",
    "2.66796, 2.56757, 0.12032, 1.25206, 1.57298, 2.59622, 2.0171, 1.88092, 0.79903, 0.08348, \n",
    "0.44914, 1.74249, 1.89898, 2.73879, 1.7213, 2.78039, 0.50893, 0.99018, 1.43746, 0.9491, \n",
    "0.64859, 1.9116, 1.55858, 0.12373, 1.46501, 2.36762, 2.34535, 2.52775, 1.43216, 1.65423, \n",
    "1.18457, 0.43929, 0.35889, 0.54398, 1.82594, 0.46824, 2.46885, 2.40663, 0.4306, 0.04087, \n",
    "2.78808, 2.00008, 0.76373, 2.68129, 1.38953, 0.73799, 0.83706, 0.12075, 1.89708, 1.91384, \n",
    "2.52335, 2.37854, 2.77525, 1.95381, 2.5686, 1.93914, 0.71626, 0.49313, 2.27228, 2.0479, \n",
    "1.28661, -0.09377, 0.36376, 1.3991, 1.84436, 2.36511, 1.40026, 0.18624, 0.40505, 2.36387]\n",
    "arr_print(arr_uniform)"
   ]
  },
  {
   "cell_type": "code",
   "execution_count": 290,
   "metadata": {},
   "outputs": [
    {
     "name": "stdout",
     "output_type": "stream",
     "text": [
      "-0.14849, -0.13776, -0.10927, -0.10846, -0.09377, -0.07423, -0.07205, 0.04087, 0.0563, 0.08348, \n",
      "0.09021, 0.11086, 0.12032, 0.12075, 0.12093, 0.12373, 0.14378, 0.17495, 0.18624, 0.26412, \n",
      "0.30111, 0.33136, 0.33761, 0.35889, 0.36376, 0.37638, 0.37971, 0.39357, 0.39533, 0.39785, \n",
      "0.40505, 0.40947, 0.42738, 0.4306, 0.43929, 0.44914, 0.45103, 0.46824, 0.47122, 0.49313, \n",
      "0.50893, 0.51751, 0.54398, 0.57988, 0.64859, 0.66394, 0.69351, 0.70664, 0.7086, 0.71626, \n",
      "0.73792, 0.73799, 0.7595, 0.76373, 0.77971, 0.78888, 0.79903, 0.80541, 0.81168, 0.8137, \n",
      "0.81536, 0.83457, 0.83706, 0.85707, 0.86669, 0.88033, 0.90014, 0.9491, 0.99018, 0.99837, \n",
      "0.99969, 1.00115, 1.00435, 1.00594, 1.02213, 1.0241, 1.06672, 1.1022, 1.1155, 1.11579, \n",
      "1.15555, 1.18301, 1.18457, 1.24513, 1.2481, 1.25082, 1.25206, 1.2688, 1.28661, 1.3051, \n",
      "1.31414, 1.3318, 1.34943, 1.37489, 1.38953, 1.3991, 1.40026, 1.43216, 1.43746, 1.45377, \n",
      "1.46501, 1.48827, 1.5215, 1.54629, 1.54956, 1.55858, 1.57298, 1.5845, 1.60383, 1.60606, \n",
      "1.64063, 1.64105, 1.64325, 1.65076, 1.65423, 1.66212, 1.66284, 1.66863, 1.7213, 1.73737, \n",
      "1.74249, 1.82115, 1.82594, 1.84436, 1.84505, 1.87179, 1.88092, 1.89708, 1.89898, 1.9116, \n",
      "1.91384, 1.92174, 1.93914, 1.94281, 1.95381, 1.96226, 1.96959, 1.97507, 1.9802, 2.00008, \n",
      "2.00919, 2.01613, 2.0171, 2.02843, 2.02851, 2.04152, 2.0461, 2.0479, 2.05453, 2.07634, \n",
      "2.08604, 2.13657, 2.14444, 2.14888, 2.20642, 2.25229, 2.25422, 2.25755, 2.27205, 2.27228, \n",
      "2.27502, 2.28168, 2.30503, 2.32594, 2.34535, 2.36387, 2.36511, 2.36762, 2.37854, 2.38261, \n",
      "2.38557, 2.40663, 2.46885, 2.48705, 2.52335, 2.52775, 2.56757, 2.5686, 2.56921, 2.59622, \n",
      "2.60214, 2.60792, 2.63773, 2.64618, 2.66796, 2.68129, 2.68609, 2.70303, 2.70769, 2.7168, \n",
      "2.73879, 2.75864, 2.76698, 2.77412, 2.77525, 2.78039, 2.78808, 2.83283, 2.83985, 2.84862, \n"
     ]
    }
   ],
   "source": [
    "arr_uniform.sort()\n",
    "arr_print(arr_uniform)"
   ]
  },
  {
   "cell_type": "code",
   "execution_count": 291,
   "metadata": {},
   "outputs": [
    {
     "name": "stdout",
     "output_type": "stream",
     "text": [
      "Интервалы\t\tni\twi\n",
      "[-0.15,0.225]\t19\t0.095\n",
      "(0.225,0.6]\t25\t0.125\n",
      "(0.6,0.975]\t24\t0.12\n",
      "(0.975,1.35]\t25\t0.125\n",
      "(1.35,1.725]\t26\t0.13\n",
      "(1.725,2.1]\t32\t0.16\n",
      "(2.1,2.475]\t22\t0.11\n",
      "(2.475,2.85]\t27\t0.135\n",
      "\t\t\t200\t1.0\n"
     ]
    }
   ],
   "source": [
    "a0 = a\n",
    "af = b\n",
    "int_uniform = []\n",
    "n_uniform = []\n",
    "w_uniform = []\n",
    "group(a0, af, arr_uniform, int_uniform, n_uniform, w_uniform)\n",
    "int_uniform = np.around(int_uniform, 5)"
   ]
  },
  {
   "cell_type": "code",
   "execution_count": 292,
   "metadata": {},
   "outputs": [
    {
     "name": "stdout",
     "output_type": "stream",
     "text": [
      "xi\t\tni\twi\n",
      "0.0375 \t19\t0.095\n",
      "0.4125 \t25\t0.125\n",
      "0.7875 \t24\t0.12\n",
      "1.1625 \t25\t0.125\n",
      "1.5375 \t26\t0.13\n",
      "1.9125 \t32\t0.16\n",
      "2.2875 \t22\t0.11\n",
      "2.6625 \t27\t0.135\n"
     ]
    }
   ],
   "source": [
    "xi_uniform = []\n",
    "as_static_row(int_uniform, n_uniform, w_uniform, xi_uniform)"
   ]
  },
  {
   "cell_type": "code",
   "execution_count": 293,
   "metadata": {
    "collapsed": true
   },
   "outputs": [],
   "source": [
    "arr_uniform_c = [arr_uniform[0]]\n",
    "del_repeat(arr_uniform, arr_uniform_c)"
   ]
  },
  {
   "cell_type": "code",
   "execution_count": 294,
   "metadata": {},
   "outputs": [
    {
     "data": {
      "image/png": "[encoded data removed]",
      "text/plain": [
       "<matplotlib.figure.Figure at 0x1e505d1bb70>"
      ]
     },
     "metadata": {},
     "output_type": "display_data"
    }
   ],
   "source": [
    "plt.axes()\n",
    "plt.yticks(np.arange(0, 1.1, 0.1))\n",
    "plt.title(\"uniform emperic\")\n",
    "emperic(arr_uniform, arr_uniform_c)"
   ]
  },
  {
   "cell_type": "code",
   "execution_count": 295,
   "metadata": {},
   "outputs": [
    {
     "data": {
      "image/png": "[encoded data removed]",
      "text/plain": [
       "<matplotlib.figure.Figure at 0x1e5060ade10>"
      ]
     },
     "metadata": {},
     "output_type": "display_data"
    }
   ],
   "source": [
    "h = (af - a0) / m\n",
    "plt.title(\"uniform histogram\")\n",
    "plt.xticks(np.arange(0, 20, 1))\n",
    "histogram(xi_uniform, w_uniform, h)"
   ]
  },
  {
   "cell_type": "code",
   "execution_count": 296,
   "metadata": {},
   "outputs": [
    {
     "name": "stdout",
     "output_type": "stream",
     "text": [
      "1.41188\n",
      "0.68477\n",
      "0.82751\n",
      "1.86562\n",
      "1.50234375\n",
      "-0.0762083953682\n",
      "-1.17062731604\n"
     ]
    }
   ],
   "source": [
    "sm_uniform = sample_mean(xi_uniform, w_uniform, 1)\n",
    "print(sm_uniform)\n",
    "dsp_shep_uniform = dispersion_shep(xi_uniform, w_uniform, sm_uniform, h)\n",
    "print(dsp_shep_uniform)\n",
    "qd_uniform = round(math.sqrt(dsp_shep_uniform), 5)\n",
    "print(qd_uniform)\n",
    "sf_uniform = selective_fashion(int_uniform, w_uniform, h)\n",
    "print(sf_uniform)\n",
    "smed_uniform = selective_median(int_uniform, w_uniform, h)\n",
    "print(smed_uniform)\n",
    "sm2_uniform = sample_mean(xi_uniform, w_uniform, 2)\n",
    "sm3_uniform = sample_mean(xi_uniform, w_uniform, 3)\n",
    "sm4_uniform = sample_mean(xi_uniform, w_uniform, 4)\n",
    "ac_uniform = (sm3_uniform - 3 * sm2_uniform * sm_uniform + 2 * (sm_uniform ** 3)) / ((math.sqrt(sm2_uniform - sm_uniform ** 2)) ** 3)\n",
    "print(ac_uniform)\n",
    "kc_uniform = ((sm4_uniform - 4 * sm3_uniform * sm_uniform + 6 * sm2_uniform * sm_uniform ** 2 - 3 * sm_uniform ** 4)\n",
    "    / ((math.sqrt(sm2_uniform - sm_uniform ** 2)) ** 4)) - 3\n",
    "print(kc_uniform)"
   ]
  },
  {
   "cell_type": "code",
   "execution_count": 297,
   "metadata": {
    "collapsed": true
   },
   "outputs": [],
   "source": [
    "t_sm_uniform = (a + b) / 2 \n",
    "t_dsp_uniform = (b - a) ** 2 / 12\n",
    "t_qd_uniform = math.sqrt(t_dsp_uniform)\n",
    "t_sf_uniform = (a + b) / 2 \n",
    "t_smed_uniform = (a + b) / 2 \n",
    "t_ac_uniform = 0\n",
    "t_kc_uniform = -6 / 5"
   ]
  },
  {
   "cell_type": "code",
   "execution_count": 298,
   "metadata": {},
   "outputs": [
    {
     "name": "stdout",
     "output_type": "stream",
     "text": [
      "1.41188\t1.35\t0.06188\t0.045837037037\n",
      "0.68477\t0.75\t0.06523\t0.0869733333333\n",
      "0.82751\t0.8660254037844386\t0.03851540378443863\t0.044473757485785546\n",
      "1.86562\t1.35\t0.51562\t0.381940740741\n",
      "1.50234375\t1.35\t0.15234375\t0.112847222222\n",
      "-0.0762083953682\t0\t0.0762083953682\tinf\n",
      "-1.17062731604\t-1.2\t0.0293726839594\t0.0244772366329\n"
     ]
    },
    {
     "name": "stderr",
     "output_type": "stream",
     "text": [
      "C:\\Anaconda3\\lib\\site-packages\\ipykernel_launcher.py:6: RuntimeWarning: divide by zero encountered in double_scalars\n",
      "  \n"
     ]
    }
   ],
   "source": [
    "print(sm_uniform, t_sm_uniform, abs(t_sm_uniform - sm_uniform), abs((t_sm_uniform - sm_uniform) / t_sm_uniform), sep = '\\t')\n",
    "print(dsp_shep_uniform, t_dsp_uniform, abs(t_dsp_uniform - dsp_shep_uniform), abs((t_dsp_uniform - dsp_shep_uniform) / t_dsp_uniform), sep = '\\t')\n",
    "print(qd_uniform, t_qd_uniform, abs(t_qd_uniform - qd_uniform), abs((t_qd_uniform - qd_uniform) / t_qd_uniform), sep = '\\t')\n",
    "print(sf_uniform, t_sf_uniform, abs(t_sf_uniform - sf_uniform), abs((t_sf_uniform - sf_uniform) / t_sf_uniform), sep = '\\t')\n",
    "print(smed_uniform, t_smed_uniform, abs(t_smed_uniform - smed_uniform), abs((t_smed_uniform - smed_uniform) / t_smed_uniform), sep = '\\t')\n",
    "print(ac_uniform, t_ac_uniform, abs(t_ac_uniform - ac_uniform), abs((t_ac_uniform - ac_uniform) / t_ac_uniform), sep = '\\t')\n",
    "print(kc_uniform, t_kc_uniform, abs(t_kc_uniform - kc_uniform), abs((t_kc_uniform - kc_uniform) / t_kc_uniform), sep = '\\t')"
   ]
  },
  {
   "cell_type": "code",
   "execution_count": 299,
   "metadata": {},
   "outputs": [
    {
     "name": "stdout",
     "output_type": "stream",
     "text": [
      "-0.15000000000000002 2.85\n",
      "Интервалы\twi\tpi\t|pi - wi|\n",
      "[-0.15,0.225]\t0.095\t0.125\t0.03\n",
      "(0.225,0.6]\t0.125\t0.125\t0.0\n",
      "(0.6,0.975]\t0.12\t0.125\t0.005\n",
      "(0.975,1.35]\t0.125\t0.125\t0.0\n",
      "(1.35,1.725]\t0.13\t0.125\t0.005\n",
      "(1.725,2.1]\t0.16\t0.125\t0.035\n",
      "(2.1,2.475]\t0.11\t0.125\t0.015\n",
      "(2.475,2.85]\t0.135\t0.125\t0.01\n",
      "1.0\n"
     ]
    }
   ],
   "source": [
    "print(a, b)\n",
    "print(\"Интервалы\\twi\\tpi\\t|pi - wi|\")\n",
    "sum = 0\n",
    "for i in range(len(int_uniform) - 1):\n",
    "    z = 1 / m\n",
    "    if (i == 0): print('[', end = \"\")\n",
    "    else: print('(', end = \"\")\n",
    "    print(int_uniform[i], ',', int_uniform[i + 1], ']\\t', w_uniform[i], '\\t', round(z, 5),\n",
    "          '\\t', round(abs(z - w_uniform[i]), 5), sep = \"\")\n",
    "    sum += z\n",
    "print(sum)"
   ]
  },
  {
   "cell_type": "code",
   "execution_count": null,
   "metadata": {
    "collapsed": true
   },
   "outputs": [],
   "source": []
  }
 ],
 "metadata": {
  "kernelspec": {
   "display_name": "Python 3",
   "language": "python",
   "name": "python3"
  },
  "language_info": {
   "codemirror_mode": {
    "name": "ipython",
    "version": 3
   },
   "file_extension": ".py",
   "mimetype": "text/x-python",
   "name": "python",
   "nbconvert_exporter": "python",
   "pygments_lexer": "ipython3",
   "version": "3.6.3"
  }
 },
 "nbformat": 4,
 "nbformat_minor": 2
}
