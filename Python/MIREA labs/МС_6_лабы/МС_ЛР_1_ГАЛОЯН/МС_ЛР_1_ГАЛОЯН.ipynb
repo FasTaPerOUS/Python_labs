{
 "cells": [
  {
   "cell_type": "code",
   "execution_count": 1,
   "metadata": {
    "collapsed": true
   },
   "outputs": [],
   "source": [
    "from scipy import stats\n",
    "from collections import Counter\n",
    "import matplotlib.pyplot as plt\n",
    "import numpy as np\n",
    "import math"
   ]
  },
  {
   "cell_type": "code",
   "execution_count": 2,
   "metadata": {
    "collapsed": true
   },
   "outputs": [],
   "source": [
    "def out(x):\n",
    "    for i in range(len(x)):\n",
    "        if (i % 10 == 9):\n",
    "            print(x[i])\n",
    "        else:\n",
    "            print(x[i], end = '\\t')\n",
    "    print()"
   ]
  },
  {
   "cell_type": "code",
   "execution_count": 3,
   "metadata": {
    "collapsed": true
   },
   "outputs": [],
   "source": [
    "remember_binom = np.array([-0.55, 1.35, 2.2, 0.18, -0.67, 2.37, 0.91, 1.15, 0.49, 0.43, -0.44, 1.83, -0.3, 2, 0.67, 0.93, 1.95, 1.85, 0.4, 0.7])\n",
    "remember_geom = np.array([1, 7, 1, 2, 6, 1, 1, 1, 5, 1, 5, 8, 2, 9, 1, 4, 4, 3, 3, \n",
    "                 5, 1, 1, 6, 1, 5, 3, 10, 1, 4, 1, 20, 1, 1, 1, 3, 1, 1, \n",
    "                 5, 2, 11, 3, 3, 4, 1, 1, 4, 6, 2, 6, 4, 1, 1, 4, 3, 1, 9, \n",
    "                 1, 3, 1, 2, 1, 1, 2, 4, 2, 1, 3, 1, 3, 7, 5, 1, 10, 7, 1, \n",
    "                 4, 4, 2, 3, 3, 1, 3, 2, 1, 3, 1, 2, 2, 3, 7, 4, 1, 2, 4, \n",
    "                 1, 4, 5, 2, 1, 2, 3, 1, 5, 12, 3, 1, 1, 6, 1, 4, 4, 6, 1, \n",
    "                 5, 1, 3, 2, 1, 1, 14, 3, 1, 4, 3, 2, 7, 9, 3, 4, 2, 2, 3, \n",
    "                 1, 3, 1, 1, 1, 3, 6, 3, 6, 2, 1, 1, 1, 1, 6, 1, 3, 1, 5, \n",
    "                 2, 1, 8, 1, 1, 2, 1, 3, 3, 8, 3, 3, 3, 1, 1, 3, 5, 3, 8, \n",
    "                 6, 14, 4, 2, 1, 7, 3, 1, 2, 2, 6, 1, 3, 1, 2, 8, 5, 2, 5, \n",
    "                 6, 2, 5, 3, 1, 2, 1, 2, 1, 10, 6])\n",
    "remember_geom -= 1\n",
    "remember_pois = np.array([0, 1, 0, 0, 3, 0, 2, 1, 2, 1, 0, 1, 0, 0, 0, 0, 1, 1, 0, 1, \n",
    "                 0, 0, 0, 0, 0, 1, 0, 1, 1, 0, 1, 0, 0, 0, 0, 0, 1, 0, 0, 2, \n",
    "                 0, 0, 0, 0, 0, 1, 0, 0, 0, 0, 0, 0, 1, 1, 0, 0, 0, 0, 1, 0, \n",
    "                 0, 0, 0, 2, 0, 0, 1, 1, 1, 2, 0, 1, 1, 0, 0, 2, 0, 0, 1, 0, \n",
    "                 1, 0, 0, 1, 0, 2, 1, 1, 0, 0, 1, 1, 0, 1, 0, 3, 0, 1, 0, 1, \n",
    "                 1, 0, 0, 0, 0, 0, 0, 0, 0, 1, 2, 0, 1, 3, 0, 1, 0, 1, 0, 1, \n",
    "                 0, 2, 0, 0, 1, 3, 1, 0, 0, 1, 0, 0, 0, 1, 1, 0, 2, 0, 0, 0, \n",
    "                 0, 1, 1, 0, 0, 0, 0, 1, 0, 0, 0, 0, 0, 2, 0, 0, 1, 0, 0, 0, \n",
    "                 1, 1, 1, 2, 0, 1, 1, 1, 1, 2, 2, 1, 0, 0, 1, 0, 0, 0, 1, 0, \n",
    "                 0, 2, 0, 0, 0, 0, 0, 0, 0, 0, 0, 2, 1, 2, 0, 0, 1, 1, 0, 0])"
   ]
  },
  {
   "cell_type": "code",
   "execution_count": 25,
   "metadata": {
    "collapsed": true
   },
   "outputs": [],
   "source": [
    "v = 3\n",
    "n = 5 + v % 16\n",
    "p = 0.3 + 0.005 * v\n",
    "l = 0.5 + 0.01 * v\n",
    "how_much = 20"
   ]
  },
  {
   "cell_type": "code",
   "execution_count": 5,
   "metadata": {
    "collapsed": true
   },
   "outputs": [],
   "source": [
    "x_bin = stats.binom(n, p)\n",
    "x_geom = stats.geom(p)\n",
    "x_pois = stats.poisson(l)"
   ]
  },
  {
   "cell_type": "code",
   "execution_count": 6,
   "metadata": {},
   "outputs": [
    {
     "name": "stdout",
     "output_type": "stream",
     "text": [
      "binom array:\n",
      "-0.55\t1.35\t2.2\t0.18\t-0.67\t2.37\t0.91\t1.15\t0.49\t0.43\n",
      "-0.44\t1.83\t-0.3\t2.0\t0.67\t0.93\t1.95\t1.85\t0.4\t0.7\n",
      "\n",
      "geom array:\n",
      "0\t6\t0\t1\t5\t0\t0\t0\t4\t0\n",
      "4\t7\t1\t8\t0\t3\t3\t2\t2\t4\n",
      "0\t0\t5\t0\t4\t2\t9\t0\t3\t0\n",
      "19\t0\t0\t0\t2\t0\t0\t4\t1\t10\n",
      "2\t2\t3\t0\t0\t3\t5\t1\t5\t3\n",
      "0\t0\t3\t2\t0\t8\t0\t2\t0\t1\n",
      "0\t0\t1\t3\t1\t0\t2\t0\t2\t6\n",
      "4\t0\t9\t6\t0\t3\t3\t1\t2\t2\n",
      "0\t2\t1\t0\t2\t0\t1\t1\t2\t6\n",
      "3\t0\t1\t3\t0\t3\t4\t1\t0\t1\n",
      "2\t0\t4\t11\t2\t0\t0\t5\t0\t3\n",
      "3\t5\t0\t4\t0\t2\t1\t0\t0\t13\n",
      "2\t0\t3\t2\t1\t6\t8\t2\t3\t1\n",
      "1\t2\t0\t2\t0\t0\t0\t2\t5\t2\n",
      "5\t1\t0\t0\t0\t0\t5\t0\t2\t0\n",
      "4\t1\t0\t7\t0\t0\t1\t0\t2\t2\n",
      "7\t2\t2\t2\t0\t0\t2\t4\t2\t7\n",
      "5\t13\t3\t1\t0\t6\t2\t0\t1\t1\n",
      "5\t0\t2\t0\t1\t7\t4\t1\t4\t5\n",
      "1\t4\t2\t0\t1\t0\t1\t0\t9\t5\n",
      "\n",
      "pois array:\n",
      "0\t1\t0\t0\t3\t0\t2\t1\t2\t1\n",
      "0\t1\t0\t0\t0\t0\t1\t1\t0\t1\n",
      "0\t0\t0\t0\t0\t1\t0\t1\t1\t0\n",
      "1\t0\t0\t0\t0\t0\t1\t0\t0\t2\n",
      "0\t0\t0\t0\t0\t1\t0\t0\t0\t0\n",
      "0\t0\t1\t1\t0\t0\t0\t0\t1\t0\n",
      "0\t0\t0\t2\t0\t0\t1\t1\t1\t2\n",
      "0\t1\t1\t0\t0\t2\t0\t0\t1\t0\n",
      "1\t0\t0\t1\t0\t2\t1\t1\t0\t0\n",
      "1\t1\t0\t1\t0\t3\t0\t1\t0\t1\n",
      "1\t0\t0\t0\t0\t0\t0\t0\t0\t1\n",
      "2\t0\t1\t3\t0\t1\t0\t1\t0\t1\n",
      "0\t2\t0\t0\t1\t3\t1\t0\t0\t1\n",
      "0\t0\t0\t1\t1\t0\t2\t0\t0\t0\n",
      "0\t1\t1\t0\t0\t0\t0\t1\t0\t0\n",
      "0\t0\t0\t2\t0\t0\t1\t0\t0\t0\n",
      "1\t1\t1\t2\t0\t1\t1\t1\t1\t2\n",
      "2\t1\t0\t0\t1\t0\t0\t0\t1\t0\n",
      "0\t2\t0\t0\t0\t0\t0\t0\t0\t0\n",
      "0\t2\t1\t2\t0\t0\t1\t1\t0\t0\n",
      "\n"
     ]
    }
   ],
   "source": [
    "#binom = x_bin.rvs(how_much)\n",
    "#geom = x_geom.rvs(how_much)\n",
    "#pois = x_pois.rvs(how_much)\n",
    "binom = remember_binom\n",
    "geom = remember_geom\n",
    "pois = remember_pois\n",
    "print(\"binom array:\")\n",
    "out(binom)\n",
    "print(\"geom array:\")\n",
    "out(geom)\n",
    "print(\"pois array:\")\n",
    "out(pois)"
   ]
  },
  {
   "cell_type": "code",
   "execution_count": 7,
   "metadata": {
    "collapsed": true
   },
   "outputs": [],
   "source": [
    "def remember_arr(x):\n",
    "    for i in range(len(x)):\n",
    "        if (i == len(x) - 1):\n",
    "            print(x[i])\n",
    "        else:\n",
    "            print(x[i], \",\", end=\" \", sep = \"\")"
   ]
  },
  {
   "cell_type": "code",
   "execution_count": 8,
   "metadata": {
    "collapsed": true
   },
   "outputs": [],
   "source": [
    "#remember_arr(binom)"
   ]
  },
  {
   "cell_type": "code",
   "execution_count": 9,
   "metadata": {
    "collapsed": true
   },
   "outputs": [],
   "source": [
    "#remember_arr(geom)"
   ]
  },
  {
   "cell_type": "code",
   "execution_count": 10,
   "metadata": {
    "collapsed": true
   },
   "outputs": [],
   "source": [
    "#remember_arr(pois)"
   ]
  },
  {
   "cell_type": "code",
   "execution_count": 11,
   "metadata": {},
   "outputs": [
    {
     "name": "stdout",
     "output_type": "stream",
     "text": [
      "sorted binom array:\n",
      "-0.67\t-0.55\t-0.44\t-0.3\t0.18\t0.4\t0.43\t0.49\t0.67\t0.7\n",
      "0.91\t0.93\t1.15\t1.35\t1.83\t1.85\t1.95\t2.0\t2.2\t2.37\n",
      "\n",
      "sorted geom array:\n",
      "0\t0\t0\t0\t0\t0\t0\t0\t0\t0\n",
      "0\t0\t0\t0\t0\t0\t0\t0\t0\t0\n",
      "0\t0\t0\t0\t0\t0\t0\t0\t0\t0\n",
      "0\t0\t0\t0\t0\t0\t0\t0\t0\t0\n",
      "0\t0\t0\t0\t0\t0\t0\t0\t0\t0\n",
      "0\t0\t0\t0\t0\t0\t0\t0\t0\t0\n",
      "0\t0\t0\t0\t0\t0\t0\t0\t1\t1\n",
      "1\t1\t1\t1\t1\t1\t1\t1\t1\t1\n",
      "1\t1\t1\t1\t1\t1\t1\t1\t1\t1\n",
      "1\t1\t1\t1\t1\t1\t1\t2\t2\t2\n",
      "2\t2\t2\t2\t2\t2\t2\t2\t2\t2\n",
      "2\t2\t2\t2\t2\t2\t2\t2\t2\t2\n",
      "2\t2\t2\t2\t2\t2\t2\t2\t2\t2\n",
      "2\t2\t2\t3\t3\t3\t3\t3\t3\t3\n",
      "3\t3\t3\t3\t3\t3\t3\t3\t3\t3\n",
      "3\t4\t4\t4\t4\t4\t4\t4\t4\t4\n",
      "4\t4\t4\t4\t4\t5\t5\t5\t5\t5\n",
      "5\t5\t5\t5\t5\t5\t5\t5\t6\t6\n",
      "6\t6\t6\t6\t7\t7\t7\t7\t7\t8\n",
      "8\t8\t9\t9\t9\t10\t11\t13\t13\t19\n",
      "\n",
      "sorted pois array:\n",
      "0\t0\t0\t0\t0\t0\t0\t0\t0\t0\n",
      "0\t0\t0\t0\t0\t0\t0\t0\t0\t0\n",
      "0\t0\t0\t0\t0\t0\t0\t0\t0\t0\n",
      "0\t0\t0\t0\t0\t0\t0\t0\t0\t0\n",
      "0\t0\t0\t0\t0\t0\t0\t0\t0\t0\n",
      "0\t0\t0\t0\t0\t0\t0\t0\t0\t0\n",
      "0\t0\t0\t0\t0\t0\t0\t0\t0\t0\n",
      "0\t0\t0\t0\t0\t0\t0\t0\t0\t0\n",
      "0\t0\t0\t0\t0\t0\t0\t0\t0\t0\n",
      "0\t0\t0\t0\t0\t0\t0\t0\t0\t0\n",
      "0\t0\t0\t0\t0\t0\t0\t0\t0\t0\n",
      "0\t0\t0\t0\t0\t0\t0\t0\t0\t0\n",
      "1\t1\t1\t1\t1\t1\t1\t1\t1\t1\n",
      "1\t1\t1\t1\t1\t1\t1\t1\t1\t1\n",
      "1\t1\t1\t1\t1\t1\t1\t1\t1\t1\n",
      "1\t1\t1\t1\t1\t1\t1\t1\t1\t1\n",
      "1\t1\t1\t1\t1\t1\t1\t1\t1\t1\n",
      "1\t1\t1\t1\t1\t1\t1\t1\t1\t2\n",
      "2\t2\t2\t2\t2\t2\t2\t2\t2\t2\n",
      "2\t2\t2\t2\t2\t2\t3\t3\t3\t3\n",
      "\n"
     ]
    }
   ],
   "source": [
    "binom.sort()\n",
    "geom.sort()\n",
    "pois.sort()\n",
    "print(\"sorted binom array:\")\n",
    "out(binom)\n",
    "print(\"sorted geom array:\")\n",
    "out(geom)\n",
    "print(\"sorted pois array:\")\n",
    "out(pois)"
   ]
  },
  {
   "cell_type": "code",
   "execution_count": 12,
   "metadata": {
    "collapsed": true
   },
   "outputs": [],
   "source": [
    "binom_c = [binom[0]]\n",
    "geom_c = [geom[0]]\n",
    "pois_c = [pois[0]]"
   ]
  },
  {
   "cell_type": "code",
   "execution_count": 13,
   "metadata": {
    "collapsed": true
   },
   "outputs": [],
   "source": [
    "def del_repeat(a, a_c):\n",
    "    for i in range(1, len(a)):\n",
    "        if (a[i] != a_c[-1]):\n",
    "            a_c.append(a[i])"
   ]
  },
  {
   "cell_type": "code",
   "execution_count": 14,
   "metadata": {
    "collapsed": true
   },
   "outputs": [],
   "source": [
    "del_repeat(binom, binom_c)\n",
    "del_repeat(geom, geom_c)\n",
    "del_repeat(pois, pois_c)"
   ]
  },
  {
   "cell_type": "markdown",
   "metadata": {},
   "source": [
    "# То, что требовалось построить"
   ]
  },
  {
   "cell_type": "code",
   "execution_count": 15,
   "metadata": {
    "collapsed": true
   },
   "outputs": [],
   "source": [
    "def print_static_row(a, a_c):\n",
    "    sum = 0.0\n",
    "    print(\"Xk\\tNk\\tWk\\tSk\")\n",
    "    for i in range(len(a_c)):\n",
    "        sum += Counter(a)[a_c[i]] / how_much\n",
    "        print(a_c[i], '\\t', Counter(a)[a_c[i]], '\\t', \n",
    "              Counter(a)[a_c[i]] / how_much, '\\t', round(sum, 5), sep = \"\")"
   ]
  },
  {
   "cell_type": "code",
   "execution_count": 16,
   "metadata": {},
   "outputs": [
    {
     "name": "stdout",
     "output_type": "stream",
     "text": [
      "Xk\tNk\tWk\tSk\n",
      "-0.67\t1\t0.005\t0.005\n",
      "-0.55\t1\t0.005\t0.01\n",
      "-0.44\t1\t0.005\t0.015\n",
      "-0.3\t1\t0.005\t0.02\n",
      "0.18\t1\t0.005\t0.025\n",
      "0.4\t1\t0.005\t0.03\n",
      "0.43\t1\t0.005\t0.035\n",
      "0.49\t1\t0.005\t0.04\n",
      "0.67\t1\t0.005\t0.045\n",
      "0.7\t1\t0.005\t0.05\n",
      "0.91\t1\t0.005\t0.055\n",
      "0.93\t1\t0.005\t0.06\n",
      "1.15\t1\t0.005\t0.065\n",
      "1.35\t1\t0.005\t0.07\n",
      "1.83\t1\t0.005\t0.075\n",
      "1.85\t1\t0.005\t0.08\n",
      "1.95\t1\t0.005\t0.085\n",
      "2.0\t1\t0.005\t0.09\n",
      "2.2\t1\t0.005\t0.095\n",
      "2.37\t1\t0.005\t0.1\n"
     ]
    }
   ],
   "source": [
    "print_static_row(binom, binom_c)"
   ]
  },
  {
   "cell_type": "code",
   "execution_count": 17,
   "metadata": {},
   "outputs": [
    {
     "name": "stdout",
     "output_type": "stream",
     "text": [
      "Xk\tNk\tWk\tSk\n",
      "0\t68\t0.34\t0.34\n",
      "1\t29\t0.145\t0.485\n",
      "2\t36\t0.18\t0.665\n",
      "3\t18\t0.09\t0.755\n",
      "4\t14\t0.07\t0.825\n",
      "5\t13\t0.065\t0.89\n",
      "6\t6\t0.03\t0.92\n",
      "7\t5\t0.025\t0.945\n",
      "8\t3\t0.015\t0.96\n",
      "9\t3\t0.015\t0.975\n",
      "10\t1\t0.005\t0.98\n",
      "11\t1\t0.005\t0.985\n",
      "13\t2\t0.01\t0.995\n",
      "19\t1\t0.005\t1.0\n"
     ]
    }
   ],
   "source": [
    "print_static_row(geom, geom_c)"
   ]
  },
  {
   "cell_type": "code",
   "execution_count": 18,
   "metadata": {},
   "outputs": [
    {
     "name": "stdout",
     "output_type": "stream",
     "text": [
      "Xk\tNk\tWk\tSk\n",
      "0\t120\t0.6\t0.6\n",
      "1\t59\t0.295\t0.895\n",
      "2\t17\t0.085\t0.98\n",
      "3\t4\t0.02\t1.0\n"
     ]
    }
   ],
   "source": [
    "print_static_row(pois, pois_c)"
   ]
  },
  {
   "cell_type": "code",
   "execution_count": 19,
   "metadata": {
    "collapsed": true
   },
   "outputs": [],
   "source": [
    "def fact(n):\n",
    "    if (n <= 1): return 1\n",
    "    else: return n * fact(n - 1)\n",
    "def combinations(n,k):\n",
    "    return(fact(n)/(fact(k)*fact(n - k)))\n",
    "def Pk(n,k,p):\n",
    "    return combinations(n,k)*(p ** k)*((1 - p) ** (n - k))"
   ]
  },
  {
   "cell_type": "code",
   "execution_count": 20,
   "metadata": {
    "collapsed": true
   },
   "outputs": [],
   "source": [
    "def print_polygon(a, a_c, gg):\n",
    "    plt.grid(True)\n",
    "    x_a_c = []\n",
    "    y_a_c = []\n",
    "    for i in range(a_c[-1] + 1):\n",
    "        x_a_c.append(i)\n",
    "        y_a_c.append(Counter(a)[i] / how_much)\n",
    "        plt.scatter(x_a_c[-1], y_a_c[-1], color = 'green')\n",
    "    xx = []\n",
    "    yy = []\n",
    "    for i in range(a_c[-1] + 1):\n",
    "        if (gg == 1):\n",
    "            yy.append(Pk(n,i,p))\n",
    "        elif (gg == 2):\n",
    "            yy.append(((1 - p) ** i) * p)\n",
    "        else:\n",
    "            yy.append((l ** i / fact(i)) * math.e ** (-l))\n",
    "        xx.append(i)\n",
    "        plt.scatter(xx[-1], yy[-1], color = 'red')\n",
    "    plt.plot(x_a_c, y_a_c, color='green')\n",
    "    plt.plot(xx, yy, color = 'red')\n",
    "    plt.show()"
   ]
  },
  {
   "cell_type": "code",
   "execution_count": 21,
   "metadata": {},
   "outputs": [
    {
     "ename": "TypeError",
     "evalue": "'numpy.float64' object cannot be interpreted as an integer",
     "output_type": "error",
     "traceback": [
      "\u001b[1;31m---------------------------------------------------------------------------\u001b[0m",
      "\u001b[1;31mTypeError\u001b[0m                                 Traceback (most recent call last)",
      "\u001b[1;32m<ipython-input-21-49714f7a01e4>\u001b[0m in \u001b[0;36m<module>\u001b[1;34m()\u001b[0m\n\u001b[0;32m      1\u001b[0m \u001b[0mplt\u001b[0m\u001b[1;33m.\u001b[0m\u001b[0mtitle\u001b[0m\u001b[1;33m(\u001b[0m\u001b[1;34m\"binominal polygon\"\u001b[0m\u001b[1;33m)\u001b[0m\u001b[1;33m\u001b[0m\u001b[0m\n\u001b[1;32m----> 2\u001b[1;33m \u001b[0mprint_polygon\u001b[0m\u001b[1;33m(\u001b[0m\u001b[0mbinom\u001b[0m\u001b[1;33m,\u001b[0m \u001b[0mbinom_c\u001b[0m\u001b[1;33m,\u001b[0m \u001b[1;36m1\u001b[0m\u001b[1;33m)\u001b[0m\u001b[1;33m\u001b[0m\u001b[0m\n\u001b[0m",
      "\u001b[1;32m<ipython-input-20-07e8baf0896a>\u001b[0m in \u001b[0;36mprint_polygon\u001b[1;34m(a, a_c, gg)\u001b[0m\n\u001b[0;32m      3\u001b[0m     \u001b[0mx_a_c\u001b[0m \u001b[1;33m=\u001b[0m \u001b[1;33m[\u001b[0m\u001b[1;33m]\u001b[0m\u001b[1;33m\u001b[0m\u001b[0m\n\u001b[0;32m      4\u001b[0m     \u001b[0my_a_c\u001b[0m \u001b[1;33m=\u001b[0m \u001b[1;33m[\u001b[0m\u001b[1;33m]\u001b[0m\u001b[1;33m\u001b[0m\u001b[0m\n\u001b[1;32m----> 5\u001b[1;33m     \u001b[1;32mfor\u001b[0m \u001b[0mi\u001b[0m \u001b[1;32min\u001b[0m \u001b[0mrange\u001b[0m\u001b[1;33m(\u001b[0m\u001b[0ma_c\u001b[0m\u001b[1;33m[\u001b[0m\u001b[1;33m-\u001b[0m\u001b[1;36m1\u001b[0m\u001b[1;33m]\u001b[0m \u001b[1;33m+\u001b[0m \u001b[1;36m1\u001b[0m\u001b[1;33m)\u001b[0m\u001b[1;33m:\u001b[0m\u001b[1;33m\u001b[0m\u001b[0m\n\u001b[0m\u001b[0;32m      6\u001b[0m         \u001b[0mx_a_c\u001b[0m\u001b[1;33m.\u001b[0m\u001b[0mappend\u001b[0m\u001b[1;33m(\u001b[0m\u001b[0mi\u001b[0m\u001b[1;33m)\u001b[0m\u001b[1;33m\u001b[0m\u001b[0m\n\u001b[0;32m      7\u001b[0m         \u001b[0my_a_c\u001b[0m\u001b[1;33m.\u001b[0m\u001b[0mappend\u001b[0m\u001b[1;33m(\u001b[0m\u001b[0mCounter\u001b[0m\u001b[1;33m(\u001b[0m\u001b[0ma\u001b[0m\u001b[1;33m)\u001b[0m\u001b[1;33m[\u001b[0m\u001b[0mi\u001b[0m\u001b[1;33m]\u001b[0m \u001b[1;33m/\u001b[0m \u001b[0mhow_much\u001b[0m\u001b[1;33m)\u001b[0m\u001b[1;33m\u001b[0m\u001b[0m\n",
      "\u001b[1;31mTypeError\u001b[0m: 'numpy.float64' object cannot be interpreted as an integer"
     ]
    }
   ],
   "source": [
    "plt.title(\"binominal polygon\")\n",
    "print_polygon(binom, binom_c, 1)"
   ]
  },
  {
   "cell_type": "code",
   "execution_count": null,
   "metadata": {},
   "outputs": [],
   "source": [
    "plt.axes()\n",
    "plt.xticks(np.arange(0, geom_c[len(geom_c) -1] + 2, 2))\n",
    "plt.title(\"geometric polygon\")\n",
    "print_polygon(geom, geom_c, 2)"
   ]
  },
  {
   "cell_type": "code",
   "execution_count": null,
   "metadata": {},
   "outputs": [],
   "source": [
    "plt.title(\"poisson polygon\")\n",
    "print_polygon(pois, pois_c, 3)"
   ]
  },
  {
   "cell_type": "code",
   "execution_count": 26,
   "metadata": {
    "collapsed": true
   },
   "outputs": [],
   "source": [
    "def print_emperic(a, a_c):\n",
    "    plt.grid(True)\n",
    "    sum = 0.0\n",
    "    x_a_c = [a_c[0] - 1, a_c[0]]\n",
    "    y_a_c = [0, 0]\n",
    "    plt.plot(x_a_c, y_a_c, color='red')\n",
    "    x_a_c = []\n",
    "    y_a_c = []\n",
    "    for i in range(len(a_c) - 1):\n",
    "        sum += Counter(a)[a_c[i]] / how_much\n",
    "        x_a_c = a_c[i]\n",
    "        y_a_c = sum\n",
    "        plt.arrow(x_a_c, y_a_c, a_c[i + 1] - a_c[i]- 0.2, 0, head_width = 0.03, head_length = 0.2, color = 'blue')\n",
    "        x_a_c = []\n",
    "        y_a_c = []\n",
    "    x_a_c = [a_c[-1], a_c[-1] + 1]\n",
    "    y_a_c = [1, 1]\n",
    "    plt.plot(x_a_c, y_a_c, color='red')\n",
    "    plt.show()"
   ]
  },
  {
   "cell_type": "code",
   "execution_count": 32,
   "metadata": {},
   "outputs": [
    {
     "data": {
      "image/png": "[encoded data removed]",
      "text/plain": [
       "<matplotlib.figure.Figure at 0x188edce1828>"
      ]
     },
     "metadata": {},
     "output_type": "display_data"
    }
   ],
   "source": [
    "plt.axes()\n",
    "plt.yticks(np.arange(0, 1.1, 0.1))\n",
    "plt.title(\"binominal emperic\")\n",
    "print_emperic(binom, binom_c)"
   ]
  },
  {
   "cell_type": "code",
   "execution_count": 24,
   "metadata": {},
   "outputs": [
    {
     "data": {
      "image/png": "[encoded data removed]",
      "text/plain": [
       "<matplotlib.figure.Figure at 0x188ec932860>"
      ]
     },
     "metadata": {},
     "output_type": "display_data"
    }
   ],
   "source": [
    "plt.axes()\n",
    "plt.yticks(np.arange(0, 1.1, 0.1))\n",
    "plt.title(\"geometric emperic\")\n",
    "print_emperic(geom, geom_c)"
   ]
  },
  {
   "cell_type": "code",
   "execution_count": null,
   "metadata": {},
   "outputs": [],
   "source": [
    "plt.axes()\n",
    "plt.yticks(np.arange(0, 1.1, 0.1))\n",
    "plt.title(\"poisson emperic\")\n",
    "print_emperic(pois, pois_c)"
   ]
  },
  {
   "cell_type": "markdown",
   "metadata": {
    "collapsed": true
   },
   "source": [
    "# То, что требовалось найти\n"
   ]
  },
  {
   "cell_type": "code",
   "execution_count": null,
   "metadata": {
    "collapsed": true
   },
   "outputs": [],
   "source": [
    "def sample_mean(a, a_c, s):\n",
    "    x = 0.0\n",
    "    for i in range(len(a_c)):\n",
    "        x += Counter(a)[a_c[i]] * (a_c[i] ** s)\n",
    "    x /= 200\n",
    "    return x"
   ]
  },
  {
   "cell_type": "code",
   "execution_count": null,
   "metadata": {},
   "outputs": [],
   "source": [
    "binom_sm = sample_mean(binom, binom_c, 1)\n",
    "geom_sm = sample_mean(geom, geom_c, 1)\n",
    "pois_sm = sample_mean(pois, pois_c, 1) \n",
    "print(\"binom sample mean =\", binom_sm)\n",
    "print(\"geom sample mean =\", geom_sm)\n",
    "print(\"pois sample mean =\", pois_sm)"
   ]
  },
  {
   "cell_type": "code",
   "execution_count": null,
   "metadata": {},
   "outputs": [],
   "source": [
    "binom_sm2 = sample_mean(binom, binom_c, 2)\n",
    "geom_sm2 = sample_mean(geom, geom_c, 2)\n",
    "pois_sm2 = sample_mean(pois, pois_c, 2)\n",
    "print(\"binom sample variance =\", binom_sm2 - binom_sm ** 2)\n",
    "print(\"geom sample variance =\", geom_sm2 - geom_sm ** 2)\n",
    "print(\"pois sample variance =\", pois_sm2 - pois_sm ** 2)"
   ]
  },
  {
   "cell_type": "code",
   "execution_count": null,
   "metadata": {},
   "outputs": [],
   "source": [
    "print(\"binom sample quadratic deviation =\", math.sqrt(binom_sm2 - binom_sm ** 2))\n",
    "print(\"geom sample quadratic deviation =\", math.sqrt(geom_sm2 - geom_sm ** 2))\n",
    "print(\"pois sample quadratic deviation =\", math.sqrt(pois_sm2 - pois_sm ** 2))"
   ]
  },
  {
   "cell_type": "code",
   "execution_count": null,
   "metadata": {
    "collapsed": true
   },
   "outputs": [],
   "source": [
    "def selective_fashion(a, a_c):\n",
    "    fash = a_c[0]\n",
    "    check = 0\n",
    "    r = []\n",
    "    for i in range(1, len(a_c)):\n",
    "        if (Counter(a)[a_c[i]] == Counter(a)[fash] and Counter(a)[a_c[i - 1]] != Counter(a)[a_c[i]]):\n",
    "            check = -1\n",
    "        if (Counter(a)[a_c[i - 1]] == Counter(a)[a_c[i]] == Counter(a)[fash]):\n",
    "            if (len(r) == 0):\n",
    "                r.append(i - 1)\n",
    "            r.append(i)\n",
    "        if (Counter(a)[fash] < Counter(a)[a_c[i]]):\n",
    "            check = 0\n",
    "            fash = a_c[i]\n",
    "            r = []\n",
    "    if (check == -1):\n",
    "        return \"-\"\n",
    "    if (len(r) != 0):\n",
    "        return 0.5 * (r[0] + r[len(r) - 1]) \n",
    "    return fash"
   ]
  },
  {
   "cell_type": "code",
   "execution_count": null,
   "metadata": {},
   "outputs": [],
   "source": [
    "print(\"binom selective fashion =\", selective_fashion(binom, binom_c))\n",
    "print(\"geom selective fashion =\", selective_fashion(geom, geom_c))\n",
    "print(\"pois selective fashion =\", selective_fashion(pois, pois_c))"
   ]
  },
  {
   "cell_type": "code",
   "execution_count": null,
   "metadata": {
    "collapsed": true
   },
   "outputs": [],
   "source": [
    "def selective_median(a, a_c): \n",
    "    sum = 0\n",
    "    for i in range(0, len(a_c)):\n",
    "        sum += Counter(a)[a_c[i]] / how_much\n",
    "        if (sum == 0.5):\n",
    "            return 0.5 * (a_c[i] + a_c[i + 1])\n",
    "        if (sum > 0.5):\n",
    "            return a_c[i]"
   ]
  },
  {
   "cell_type": "code",
   "execution_count": null,
   "metadata": {},
   "outputs": [],
   "source": [
    "print(\"binom selective median =\", selective_median(binom, binom_c))\n",
    "print(\"geom selective median =\", selective_median(geom, geom_c))\n",
    "print(\"pois selective median =\", selective_median(pois, pois_c))"
   ]
  },
  {
   "cell_type": "code",
   "execution_count": null,
   "metadata": {},
   "outputs": [],
   "source": [
    "binom_sm3 = sample_mean(binom, binom_c, 3)\n",
    "geom_sm3 = sample_mean(geom, geom_c, 3)\n",
    "pois_sm3 = sample_mean(pois, pois_c, 3)\n",
    "print(\"binom selective asymmetry coefficient =\", \n",
    "      (binom_sm3 - 3 * binom_sm2 * binom_sm + 2 * (binom_sm ** 3)) / ((math.sqrt(binom_sm2 - binom_sm ** 2)) ** 3))\n",
    "print(\"geom selective asymmetry coefficient =\",\n",
    "      (geom_sm3 - 3 * geom_sm2 * geom_sm + 2 * (geom_sm ** 3)) / ((math.sqrt(geom_sm2 - geom_sm ** 2)) ** 3))\n",
    "print(\"pois selective asymmetry coefficient =\",\n",
    "      (pois_sm3 - 3 * pois_sm2 * pois_sm + 2 * (pois_sm ** 3)) / ((math.sqrt(pois_sm2 - pois_sm ** 2)) ** 3))"
   ]
  },
  {
   "cell_type": "code",
   "execution_count": null,
   "metadata": {},
   "outputs": [],
   "source": [
    "binom_sm4 = sample_mean(binom, binom_c, 4)\n",
    "geom_sm4 = sample_mean(geom, geom_c, 4)\n",
    "pois_sm4 = sample_mean(pois, pois_c, 4)\n",
    "print(\"binom selective kurtosis coefficient =\", \n",
    "      (binom_sm4 - 4 * binom_sm3 * binom_sm + 6 * binom_sm2 * binom_sm ** 2 - 3 * binom_sm ** 4) \n",
    "      / ((math.sqrt(binom_sm2 - binom_sm ** 2)) ** 4) - 3)\n",
    "print(\"geom selective kurtosis coefficient =\", \n",
    "      (geom_sm4 - 4 * geom_sm3 * geom_sm + 6 * geom_sm2 * geom_sm ** 2 - 3 * geom_sm ** 4) \n",
    "      / ((math.sqrt(geom_sm2 - geom_sm ** 2)) ** 4) - 3)\n",
    "print(\"pois selective kurtosis coefficient =\", \n",
    "      (pois_sm4 - 4 * pois_sm3 * pois_sm + 6 * pois_sm2 * pois_sm ** 2 - 3 * pois_sm ** 4) \n",
    "      / ((math.sqrt(pois_sm2 - pois_sm ** 2)) ** 4) - 3)"
   ]
  },
  {
   "cell_type": "code",
   "execution_count": null,
   "metadata": {},
   "outputs": [],
   "source": [
    "print(\"BINOM TEORETIC\")\n",
    "print(\"expected value =\", n * p)\n",
    "print(\"dispersion =\", n * p * (1 - p))\n",
    "print(\"quadratic deviation =\", math.sqrt(n * p * (1 - p)))\n",
    "if (type((n + 1) * p) == int):\n",
    "    print(\"fashion =\", (n + 1) * p - 1/2)\n",
    "else:\n",
    "    print(\"fashion =\", math.floor((n + 1) * p))\n",
    "print(\"median =\", round(n*p))\n",
    "print(\"asymmetry =\", (1 - 2 * p) / math.sqrt(n * p * (1 - p)))\n",
    "print(\"kurtosis =\", (1 - 6 * (1 - p) * p) / (n * p * (1 - p)))"
   ]
  },
  {
   "cell_type": "code",
   "execution_count": null,
   "metadata": {},
   "outputs": [],
   "source": [
    "print(\"GEOM TEORETIC\")\n",
    "print(\"expected value =\", (1 - p) / p)\n",
    "print(\"dispersion =\", (1 - p) / p ** 2)\n",
    "print(\"quadratic deviation =\", math.sqrt(1 - p) / p)\n",
    "print(\"fashion =\", 0)\n",
    "if (math.log(2) % math.log(1 - p) == 0):\n",
    "    print(\"median =\", -math.log(2) / math.log(1 - p) - 1/2)\n",
    "else:\n",
    "    print(\"median =\", math.floor(-math.log(2) / math.log(1 - p)))\n",
    "print(\"asymmetry =\", (2 - p) / math.sqrt(1 - p))\n",
    "print(\"kurtosis =\", 6 + p ** 2 / (1 - p))"
   ]
  },
  {
   "cell_type": "code",
   "execution_count": null,
   "metadata": {},
   "outputs": [],
   "source": [
    "print(\"POIS TEORETIC\")\n",
    "print(\"expected value =\", l)\n",
    "print(\"dispersion =\", l)\n",
    "print(\"quadratic deviation =\", math.sqrt(l))\n",
    "print(\"fashion =\", math.floor(l))\n",
    "print(\"median =\", math.floor(l + 1/3 - 0.02 / l))\n",
    "print(\"asymmetry =\", 1 / math.sqrt(l))\n",
    "print(\"kurtosis =\", 1 / l)"
   ]
  },
  {
   "cell_type": "code",
   "execution_count": null,
   "metadata": {
    "collapsed": true
   },
   "outputs": [],
   "source": []
  },
  {
   "cell_type": "code",
   "execution_count": null,
   "metadata": {
    "collapsed": true
   },
   "outputs": [],
   "source": []
  }
 ],
 "metadata": {
  "kernelspec": {
   "display_name": "Python 3",
   "language": "python",
   "name": "python3"
  },
  "language_info": {
   "codemirror_mode": {
    "name": "ipython",
    "version": 3
   },
   "file_extension": ".py",
   "mimetype": "text/x-python",
   "name": "python",
   "nbconvert_exporter": "python",
   "pygments_lexer": "ipython3",
   "version": "3.6.3"
  }
 },
 "nbformat": 4,
 "nbformat_minor": 2
}
