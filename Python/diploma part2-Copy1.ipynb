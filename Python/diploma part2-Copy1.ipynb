{
 "cells": [
  {
   "cell_type": "code",
   "execution_count": 42,
   "metadata": {
    "collapsed": true
   },
   "outputs": [],
   "source": [
    "import sympy as sym\n",
    "import numpy as np\n",
    "from scipy.optimize import  minimize\n",
    "n = 3\n",
    "k = 1\n",
    "eps = 0.01"
   ]
  },
  {
   "cell_type": "code",
   "execution_count": 43,
   "metadata": {},
   "outputs": [],
   "source": [
    "x = sym.symbols('x[:20]')"
   ]
  },
  {
   "cell_type": "code",
   "execution_count": 44,
   "metadata": {
    "collapsed": true
   },
   "outputs": [],
   "source": [
    "def fj(n, j, x):\n",
    "    f = 0\n",
    "    for i in range (n - j):\n",
    "        f += x[i]*x[i + j]\n",
    "    return f"
   ]
  },
  {
   "cell_type": "code",
   "execution_count": 45,
   "metadata": {
    "collapsed": true
   },
   "outputs": [],
   "source": [
    "def gj(n, x):\n",
    "    g = 0\n",
    "    for j in range (1, 2*n):\n",
    "        if j <= n - 1:\n",
    "            g += fj(n, j, x)**2 - x[n]**2\n",
    "        else:\n",
    "            g += (x[j - n]**2 - 1)**2\n",
    "    return g"
   ]
  },
  {
   "cell_type": "code",
   "execution_count": 46,
   "metadata": {
    "collapsed": true
   },
   "outputs": [],
   "source": [
    "def Gk(x, k, n):\n",
    "    G = x[n] + k * gj(n, x)\n",
    "    print(G)\n",
    "    return G"
   ]
  },
  {
   "cell_type": "code",
   "execution_count": 47,
   "metadata": {
    "collapsed": true
   },
   "outputs": [],
   "source": [
    "def gg3(x, k): \n",
    "    return ((max((x[0]**2*x[1]**2 - x[2]**2), 0))**2 + (x[0]**2 - 1)**2 + (x[1]**2 - 1)**2) * k + x[2]"
   ]
  },
  {
   "cell_type": "code",
   "execution_count": 49,
   "metadata": {
    "collapsed": true
   },
   "outputs": [],
   "source": [
    "def gg4(x, k):\n",
    "    return ((max((x[0]**2*x[2]**2 - x[3]**2), 0))**2 + (x[0]**2 - 1)**2 + (x[1]**2 - 1)**2 + (x[2]**2 - 1)**2 + (max(((x[0]*x[1] + x[1]*x[2])**2 - x[3]**2), 0)**2))*k + x[3]"
   ]
  },
  {
   "cell_type": "code",
   "execution_count": 48,
   "metadata": {},
   "outputs": [
    {
     "name": "stdout",
     "output_type": "stream",
     "text": [
      "x[0]**2*x[2]**2 - 2*x[3]**2 + x[3] + (x[0]**2 - 1)**2 + (x[1]**2 - 1)**2 + (x[2]**2 - 1)**2 + (x[0]*x[1] + x[1]*x[2])**2\n"
     ]
    },
    {
     "data": {
      "text/plain": [
       "x[0]**2*x[2]**2 - 2*x[3]**2 + x[3] + (x[0]**2 - 1)**2 + (x[1]**2 - 1)**2 + (x[2]**2 - 1)**2 + (x[0]*x[1] + x[1]*x[2])**2"
      ]
     },
     "execution_count": 48,
     "metadata": {},
     "output_type": "execute_result"
    }
   ],
   "source": [
    "Gk(x, k, n)"
   ]
  },
  {
   "cell_type": "code",
   "execution_count": 64,
   "metadata": {},
   "outputs": [
    {
     "name": "stdout",
     "output_type": "stream",
     "text": [
      "Optimization terminated successfully.\n",
      "         Current function value: 1.455104\n",
      "         Iterations: 93\n",
      "         Function evaluations: 162\n",
      "Optimization terminated successfully.\n",
      "         Current function value: 1.793755\n",
      "         Iterations: 79\n",
      "         Function evaluations: 137\n",
      "0.22711876029269185 2\n",
      "Optimization terminated successfully.\n",
      "         Current function value: 1.900304\n",
      "         Iterations: 46\n",
      "         Function evaluations: 78\n",
      "0.10321988475006116 4\n",
      "Optimization terminated successfully.\n",
      "         Current function value: 1.950741\n",
      "         Iterations: 41\n",
      "         Function evaluations: 73\n",
      "0.04934025783896567 8\n",
      "Optimization terminated successfully.\n",
      "         Current function value: 1.975497\n",
      "         Iterations: 50\n",
      "         Function evaluations: 84\n",
      "0.02406002182494915 16\n",
      "Optimization terminated successfully.\n",
      "         Current function value: 1.990025\n",
      "         Iterations: 50\n",
      "         Function evaluations: 86\n",
      "0.019112958898020338 32\n",
      "Optimization terminated successfully.\n",
      "         Current function value: 1.993946\n",
      "         Iterations: 60\n",
      "         Function evaluations: 101\n",
      "0.00649534233675908 64\n",
      "[ 1. -1.  1.  2.]\n",
      "2\n"
     ]
    }
   ],
   "source": [
    "x0 = np.array([1.0, -1.0, 1.0, -1.0, 1.0, 1.0, -1.0, -1.0, -1.0, 1.0, 1.0, 1.0, 1.0, 1.0, -1.0, 1.0, 1.0, 1.0, -1.0, 1])\n",
    "x0 = np.array([1.0, -1.0, 1.0,  1.0])\n",
    "k = 1\n",
    "res = minimize(gg4, x0, args=k, method='nelder-mead', options={'xtol': 1e-2, 'disp': True})\n",
    "while (res.fun - res.x[-1]) > eps:\n",
    "    k *= 2\n",
    "    res = minimize(gg4, res.x, args=k, method='nelder-mead', options={'xtol': 1e-2, 'disp': True})\n",
    "    print(res.fun - res.x[-1], k)\n",
    "res.x = np.around(res.x)\n",
    "print(res.x)\n",
    "res.x = res.x[::-1]\n",
    "degree = 0\n",
    "for i in range (1, n+1, 1):\n",
    "    if res.x[i] == -1:\n",
    "        degree += 2**(i - 1)\n",
    "print(degree)"
   ]
  },
  {
   "cell_type": "code",
   "execution_count": null,
   "metadata": {
    "collapsed": true
   },
   "outputs": [],
   "source": [
    "def create_x(x, num):\n",
    "    for i in range(len(x)):\n",
    "        if num >= pow(2, i) and (num // pow(2, i)) % 2 == 1:\n",
    "            x[-1 - i] = -1\n",
    "        else: x[-1 - i] = 1\n",
    "    return x"
   ]
  },
  {
   "cell_type": "code",
   "execution_count": null,
   "metadata": {},
   "outputs": [],
   "source": [
    "arr_x = np.ones(n)\n",
    "arr_x = create_x(x = arr_x, num = degree)\n",
    "print(arr_x)"
   ]
  },
  {
   "cell_type": "code",
   "execution_count": null,
   "metadata": {
    "collapsed": true
   },
   "outputs": [],
   "source": [
    "def createOneTypeCheck(arr):\n",
    "    for i in range(len(arr)):\n",
    "        if (arr[i] > 1):\n",
    "            return 0\n",
    "    return 1"
   ]
  },
  {
   "cell_type": "code",
   "execution_count": null,
   "metadata": {
    "collapsed": true
   },
   "outputs": [],
   "source": [
    "def count(arr):\n",
    "    boof_x = np.ones(len(arr) - 1)\n",
    "    for j in range(n - 1):\n",
    "        sum = 0\n",
    "        for i in range(n - j - 1):\n",
    "            sum += arr_x[i] * arr_x[i + j + 1]\n",
    "        boof_x[j] = abs(sum)\n",
    "    return boof_x"
   ]
  },
  {
   "cell_type": "code",
   "execution_count": null,
   "metadata": {
    "scrolled": true
   },
   "outputs": [],
   "source": [
    "arr_x = create_x(x = arr_x, num = degree)\n",
    "boof_x = count(arr=arr_x)\n",
    "z = n - 1\n",
    "check = createOneTypeCheck(arr=boof_x)\n",
    "while (check == 0):\n",
    "    if arr_x[z] == -1:\n",
    "        z -= 1\n",
    "        continue\n",
    "    else: arr_x[z] *= -1\n",
    "    now = count(arr=arr_x)\n",
    "    if (max(boof_x) > max(now)):\n",
    "        boof_x = now.copy()\n",
    "        print(*arr_x, boof_x, sep=', ')\n",
    "        check = createOneTypeCheck(arr=boof_x)\n",
    "        z = n - 1\n",
    "    else:\n",
    "        arr_x[z] *= -1\n",
    "        z -= 1"
   ]
  },
  {
   "cell_type": "code",
   "execution_count": null,
   "metadata": {},
   "outputs": [],
   "source": [
    "arr_x = create_x(x = arr_x, num = degree)\n",
    "boof_x = count(arr=arr_x)\n",
    "z = n - 1\n",
    "check = createOneTypeCheck(arr=boof_x)\n",
    "while (check == 0):\n",
    "    if arr_x[z] == 1:\n",
    "        z -= 1\n",
    "        continue\n",
    "    else: arr_x[z] *= -1\n",
    "    now = count(arr=arr_x)\n",
    "    if (max(boof_x) > max(now)):\n",
    "        boof_x = now.copy()\n",
    "        print(*arr_x, boof_x, sep=', ')\n",
    "        check = createOneTypeCheck(arr=boof_x)\n",
    "        z = n - 1\n",
    "    else:\n",
    "        arr_x[z] *= -1\n",
    "        z -= 1"
   ]
  },
  {
   "cell_type": "code",
   "execution_count": null,
   "metadata": {
    "collapsed": true
   },
   "outputs": [],
   "source": []
  }
 ],
 "metadata": {
  "kernelspec": {
   "display_name": "Python 3",
   "language": "python",
   "name": "python3"
  },
  "language_info": {
   "codemirror_mode": {
    "name": "ipython",
    "version": 3
   },
   "file_extension": ".py",
   "mimetype": "text/x-python",
   "name": "python",
   "nbconvert_exporter": "python",
   "pygments_lexer": "ipython3",
   "version": "3.6.3"
  }
 },
 "nbformat": 4,
 "nbformat_minor": 2
}
